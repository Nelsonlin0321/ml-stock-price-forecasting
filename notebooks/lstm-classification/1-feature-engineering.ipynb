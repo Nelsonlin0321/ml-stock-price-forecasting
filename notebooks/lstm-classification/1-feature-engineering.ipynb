{
 "cells": [
  {
   "cell_type": "code",
   "execution_count": 1,
   "metadata": {},
   "outputs": [],
   "source": [
    "%load_ext autoreload\n",
    "%autoreload 2"
   ]
  },
  {
   "cell_type": "code",
   "execution_count": 2,
   "metadata": {},
   "outputs": [],
   "source": [
    "import sys\n",
    "sys.path.insert(0, \"./../../\")"
   ]
  },
  {
   "cell_type": "code",
   "execution_count": 3,
   "metadata": {},
   "outputs": [],
   "source": [
    "from src import utils"
   ]
  },
  {
   "cell_type": "code",
   "execution_count": 4,
   "metadata": {},
   "outputs": [],
   "source": [
    "import numpy as np\n",
    "import pandas as pd\n",
    "from sklearn.preprocessing import MinMaxScaler"
   ]
  },
  {
   "cell_type": "code",
   "execution_count": 5,
   "metadata": {},
   "outputs": [],
   "source": [
    "df = pd.read_parquet(\"./../../data/qqq.parquet\")"
   ]
  },
  {
   "cell_type": "code",
   "execution_count": 6,
   "metadata": {},
   "outputs": [],
   "source": [
    "df = df.sort_values(by='date')"
   ]
  },
  {
   "cell_type": "code",
   "execution_count": 7,
   "metadata": {},
   "outputs": [
    {
     "data": {
      "text/html": [
       "<div>\n",
       "<style scoped>\n",
       "    .dataframe tbody tr th:only-of-type {\n",
       "        vertical-align: middle;\n",
       "    }\n",
       "\n",
       "    .dataframe tbody tr th {\n",
       "        vertical-align: top;\n",
       "    }\n",
       "\n",
       "    .dataframe thead th {\n",
       "        text-align: right;\n",
       "    }\n",
       "</style>\n",
       "<table border=\"1\" class=\"dataframe\">\n",
       "  <thead>\n",
       "    <tr style=\"text-align: right;\">\n",
       "      <th></th>\n",
       "      <th>date</th>\n",
       "      <th>open</th>\n",
       "      <th>high</th>\n",
       "      <th>low</th>\n",
       "      <th>close</th>\n",
       "      <th>volume</th>\n",
       "    </tr>\n",
       "  </thead>\n",
       "  <tbody>\n",
       "    <tr>\n",
       "      <th>6070</th>\n",
       "      <td>1999-11-01</td>\n",
       "      <td>131.5</td>\n",
       "      <td>133.1</td>\n",
       "      <td>130.6</td>\n",
       "      <td>130.8</td>\n",
       "      <td>4840900.0</td>\n",
       "    </tr>\n",
       "    <tr>\n",
       "      <th>6069</th>\n",
       "      <td>1999-11-02</td>\n",
       "      <td>131.5</td>\n",
       "      <td>133.1</td>\n",
       "      <td>130.4</td>\n",
       "      <td>130.9</td>\n",
       "      <td>6417400.0</td>\n",
       "    </tr>\n",
       "    <tr>\n",
       "      <th>6068</th>\n",
       "      <td>1999-11-03</td>\n",
       "      <td>132.8</td>\n",
       "      <td>134.3</td>\n",
       "      <td>132.4</td>\n",
       "      <td>133.5</td>\n",
       "      <td>9376300.0</td>\n",
       "    </tr>\n",
       "    <tr>\n",
       "      <th>6067</th>\n",
       "      <td>1999-11-04</td>\n",
       "      <td>135.4</td>\n",
       "      <td>135.6</td>\n",
       "      <td>133.6</td>\n",
       "      <td>135.0</td>\n",
       "      <td>10024300.0</td>\n",
       "    </tr>\n",
       "    <tr>\n",
       "      <th>6066</th>\n",
       "      <td>1999-11-05</td>\n",
       "      <td>137.8</td>\n",
       "      <td>138.4</td>\n",
       "      <td>136.4</td>\n",
       "      <td>136.4</td>\n",
       "      <td>7567300.0</td>\n",
       "    </tr>\n",
       "  </tbody>\n",
       "</table>\n",
       "</div>"
      ],
      "text/plain": [
       "            date   open   high    low  close      volume\n",
       "6070  1999-11-01  131.5  133.1  130.6  130.8   4840900.0\n",
       "6069  1999-11-02  131.5  133.1  130.4  130.9   6417400.0\n",
       "6068  1999-11-03  132.8  134.3  132.4  133.5   9376300.0\n",
       "6067  1999-11-04  135.4  135.6  133.6  135.0  10024300.0\n",
       "6066  1999-11-05  137.8  138.4  136.4  136.4   7567300.0"
      ]
     },
     "execution_count": 7,
     "metadata": {},
     "output_type": "execute_result"
    }
   ],
   "source": [
    "df.head()"
   ]
  },
  {
   "cell_type": "code",
   "execution_count": 8,
   "metadata": {},
   "outputs": [
    {
     "data": {
      "text/html": [
       "<div>\n",
       "<style scoped>\n",
       "    .dataframe tbody tr th:only-of-type {\n",
       "        vertical-align: middle;\n",
       "    }\n",
       "\n",
       "    .dataframe tbody tr th {\n",
       "        vertical-align: top;\n",
       "    }\n",
       "\n",
       "    .dataframe thead th {\n",
       "        text-align: right;\n",
       "    }\n",
       "</style>\n",
       "<table border=\"1\" class=\"dataframe\">\n",
       "  <thead>\n",
       "    <tr style=\"text-align: right;\">\n",
       "      <th></th>\n",
       "      <th>date</th>\n",
       "      <th>open</th>\n",
       "      <th>high</th>\n",
       "      <th>low</th>\n",
       "      <th>close</th>\n",
       "      <th>volume</th>\n",
       "    </tr>\n",
       "  </thead>\n",
       "  <tbody>\n",
       "    <tr>\n",
       "      <th>4</th>\n",
       "      <td>2023-12-11</td>\n",
       "      <td>391.74</td>\n",
       "      <td>395.7900</td>\n",
       "      <td>391.5300</td>\n",
       "      <td>395.52</td>\n",
       "      <td>41198021.0</td>\n",
       "    </tr>\n",
       "    <tr>\n",
       "      <th>3</th>\n",
       "      <td>2023-12-12</td>\n",
       "      <td>395.56</td>\n",
       "      <td>398.7900</td>\n",
       "      <td>394.4100</td>\n",
       "      <td>398.67</td>\n",
       "      <td>39221152.0</td>\n",
       "    </tr>\n",
       "    <tr>\n",
       "      <th>2</th>\n",
       "      <td>2023-12-13</td>\n",
       "      <td>399.62</td>\n",
       "      <td>404.3600</td>\n",
       "      <td>398.8399</td>\n",
       "      <td>403.74</td>\n",
       "      <td>55408129.0</td>\n",
       "    </tr>\n",
       "    <tr>\n",
       "      <th>1</th>\n",
       "      <td>2023-12-14</td>\n",
       "      <td>404.98</td>\n",
       "      <td>406.3000</td>\n",
       "      <td>400.3400</td>\n",
       "      <td>403.39</td>\n",
       "      <td>55447808.0</td>\n",
       "    </tr>\n",
       "    <tr>\n",
       "      <th>0</th>\n",
       "      <td>2023-12-15</td>\n",
       "      <td>404.18</td>\n",
       "      <td>406.5399</td>\n",
       "      <td>403.5700</td>\n",
       "      <td>405.34</td>\n",
       "      <td>62896645.0</td>\n",
       "    </tr>\n",
       "  </tbody>\n",
       "</table>\n",
       "</div>"
      ],
      "text/plain": [
       "         date    open      high       low   close      volume\n",
       "4  2023-12-11  391.74  395.7900  391.5300  395.52  41198021.0\n",
       "3  2023-12-12  395.56  398.7900  394.4100  398.67  39221152.0\n",
       "2  2023-12-13  399.62  404.3600  398.8399  403.74  55408129.0\n",
       "1  2023-12-14  404.98  406.3000  400.3400  403.39  55447808.0\n",
       "0  2023-12-15  404.18  406.5399  403.5700  405.34  62896645.0"
      ]
     },
     "execution_count": 8,
     "metadata": {},
     "output_type": "execute_result"
    }
   ],
   "source": [
    "df.tail()"
   ]
  },
  {
   "cell_type": "code",
   "execution_count": 9,
   "metadata": {},
   "outputs": [],
   "source": [
    "features_cols = [\"open\", \"high\", \"low\", \"close\", \"volume\"]"
   ]
  },
  {
   "cell_type": "markdown",
   "metadata": {},
   "source": [
    "### (1) Log Transformation"
   ]
  },
  {
   "cell_type": "code",
   "execution_count": 10,
   "metadata": {},
   "outputs": [],
   "source": [
    "for col in features_cols:\n",
    "    df[col] = np.log(df[col])"
   ]
  },
  {
   "cell_type": "code",
   "execution_count": 11,
   "metadata": {},
   "outputs": [
    {
     "data": {
      "text/html": [
       "<div>\n",
       "<style scoped>\n",
       "    .dataframe tbody tr th:only-of-type {\n",
       "        vertical-align: middle;\n",
       "    }\n",
       "\n",
       "    .dataframe tbody tr th {\n",
       "        vertical-align: top;\n",
       "    }\n",
       "\n",
       "    .dataframe thead th {\n",
       "        text-align: right;\n",
       "    }\n",
       "</style>\n",
       "<table border=\"1\" class=\"dataframe\">\n",
       "  <thead>\n",
       "    <tr style=\"text-align: right;\">\n",
       "      <th></th>\n",
       "      <th>date</th>\n",
       "      <th>open</th>\n",
       "      <th>high</th>\n",
       "      <th>low</th>\n",
       "      <th>close</th>\n",
       "      <th>volume</th>\n",
       "    </tr>\n",
       "  </thead>\n",
       "  <tbody>\n",
       "    <tr>\n",
       "      <th>6070</th>\n",
       "      <td>1999-11-01</td>\n",
       "      <td>4.879007</td>\n",
       "      <td>4.891101</td>\n",
       "      <td>4.872139</td>\n",
       "      <td>4.873669</td>\n",
       "      <td>15.392611</td>\n",
       "    </tr>\n",
       "    <tr>\n",
       "      <th>6069</th>\n",
       "      <td>1999-11-02</td>\n",
       "      <td>4.879007</td>\n",
       "      <td>4.891101</td>\n",
       "      <td>4.870607</td>\n",
       "      <td>4.874434</td>\n",
       "      <td>15.674524</td>\n",
       "    </tr>\n",
       "    <tr>\n",
       "      <th>6068</th>\n",
       "      <td>1999-11-03</td>\n",
       "      <td>4.888844</td>\n",
       "      <td>4.900076</td>\n",
       "      <td>4.885828</td>\n",
       "      <td>4.894101</td>\n",
       "      <td>16.053696</td>\n",
       "    </tr>\n",
       "    <tr>\n",
       "      <th>6067</th>\n",
       "      <td>1999-11-04</td>\n",
       "      <td>4.908233</td>\n",
       "      <td>4.909709</td>\n",
       "      <td>4.894850</td>\n",
       "      <td>4.905275</td>\n",
       "      <td>16.120523</td>\n",
       "    </tr>\n",
       "    <tr>\n",
       "      <th>6066</th>\n",
       "      <td>1999-11-05</td>\n",
       "      <td>4.925803</td>\n",
       "      <td>4.930148</td>\n",
       "      <td>4.915592</td>\n",
       "      <td>4.915592</td>\n",
       "      <td>15.839347</td>\n",
       "    </tr>\n",
       "  </tbody>\n",
       "</table>\n",
       "</div>"
      ],
      "text/plain": [
       "            date      open      high       low     close     volume\n",
       "6070  1999-11-01  4.879007  4.891101  4.872139  4.873669  15.392611\n",
       "6069  1999-11-02  4.879007  4.891101  4.870607  4.874434  15.674524\n",
       "6068  1999-11-03  4.888844  4.900076  4.885828  4.894101  16.053696\n",
       "6067  1999-11-04  4.908233  4.909709  4.894850  4.905275  16.120523\n",
       "6066  1999-11-05  4.925803  4.930148  4.915592  4.915592  15.839347"
      ]
     },
     "execution_count": 11,
     "metadata": {},
     "output_type": "execute_result"
    }
   ],
   "source": [
    "df.head()"
   ]
  },
  {
   "cell_type": "markdown",
   "metadata": {},
   "source": [
    "### (2) Define Upper Limit"
   ]
  },
  {
   "cell_type": "code",
   "execution_count": 12,
   "metadata": {},
   "outputs": [],
   "source": [
    "df_tmp = pd.DataFrame()\n",
    "df_tmp['date'] = ['9999-12-31']"
   ]
  },
  {
   "cell_type": "code",
   "execution_count": 13,
   "metadata": {},
   "outputs": [],
   "source": [
    "expand_range = 0.3"
   ]
  },
  {
   "cell_type": "code",
   "execution_count": 14,
   "metadata": {},
   "outputs": [],
   "source": [
    "def get_uppper_value(values, expand_range):\n",
    "    value_range = max(values) - min(values)\n",
    "    return max(values) + value_range * expand_range"
   ]
  },
  {
   "cell_type": "code",
   "execution_count": 15,
   "metadata": {},
   "outputs": [],
   "source": [
    "for col in features_cols:\n",
    "    df_tmp[col] = [get_uppper_value(df[col], expand_range)]"
   ]
  },
  {
   "cell_type": "code",
   "execution_count": 16,
   "metadata": {},
   "outputs": [
    {
     "data": {
      "text/html": [
       "<div>\n",
       "<style scoped>\n",
       "    .dataframe tbody tr th:only-of-type {\n",
       "        vertical-align: middle;\n",
       "    }\n",
       "\n",
       "    .dataframe tbody tr th {\n",
       "        vertical-align: top;\n",
       "    }\n",
       "\n",
       "    .dataframe thead th {\n",
       "        text-align: right;\n",
       "    }\n",
       "</style>\n",
       "<table border=\"1\" class=\"dataframe\">\n",
       "  <thead>\n",
       "    <tr style=\"text-align: right;\">\n",
       "      <th></th>\n",
       "      <th>date</th>\n",
       "      <th>open</th>\n",
       "      <th>high</th>\n",
       "      <th>low</th>\n",
       "      <th>close</th>\n",
       "      <th>volume</th>\n",
       "    </tr>\n",
       "  </thead>\n",
       "  <tbody>\n",
       "    <tr>\n",
       "      <th>0</th>\n",
       "      <td>9999-12-31</td>\n",
       "      <td>6.909063</td>\n",
       "      <td>6.910341</td>\n",
       "      <td>6.905357</td>\n",
       "      <td>6.906526</td>\n",
       "      <td>21.749782</td>\n",
       "    </tr>\n",
       "  </tbody>\n",
       "</table>\n",
       "</div>"
      ],
      "text/plain": [
       "         date      open      high       low     close     volume\n",
       "0  9999-12-31  6.909063  6.910341  6.905357  6.906526  21.749782"
      ]
     },
     "execution_count": 16,
     "metadata": {},
     "output_type": "execute_result"
    }
   ],
   "source": [
    "df_tmp"
   ]
  },
  {
   "cell_type": "code",
   "execution_count": 17,
   "metadata": {},
   "outputs": [],
   "source": [
    "df = pd.concat([df, df_tmp])"
   ]
  },
  {
   "cell_type": "code",
   "execution_count": 18,
   "metadata": {},
   "outputs": [
    {
     "data": {
      "text/html": [
       "<div>\n",
       "<style scoped>\n",
       "    .dataframe tbody tr th:only-of-type {\n",
       "        vertical-align: middle;\n",
       "    }\n",
       "\n",
       "    .dataframe tbody tr th {\n",
       "        vertical-align: top;\n",
       "    }\n",
       "\n",
       "    .dataframe thead th {\n",
       "        text-align: right;\n",
       "    }\n",
       "</style>\n",
       "<table border=\"1\" class=\"dataframe\">\n",
       "  <thead>\n",
       "    <tr style=\"text-align: right;\">\n",
       "      <th></th>\n",
       "      <th>date</th>\n",
       "      <th>open</th>\n",
       "      <th>high</th>\n",
       "      <th>low</th>\n",
       "      <th>close</th>\n",
       "      <th>volume</th>\n",
       "    </tr>\n",
       "  </thead>\n",
       "  <tbody>\n",
       "    <tr>\n",
       "      <th>3</th>\n",
       "      <td>2023-12-12</td>\n",
       "      <td>5.980302</td>\n",
       "      <td>5.988435</td>\n",
       "      <td>5.977391</td>\n",
       "      <td>5.988134</td>\n",
       "      <td>17.484727</td>\n",
       "    </tr>\n",
       "    <tr>\n",
       "      <th>2</th>\n",
       "      <td>2023-12-13</td>\n",
       "      <td>5.990514</td>\n",
       "      <td>6.002306</td>\n",
       "      <td>5.988560</td>\n",
       "      <td>6.000771</td>\n",
       "      <td>17.830237</td>\n",
       "    </tr>\n",
       "    <tr>\n",
       "      <th>1</th>\n",
       "      <td>2023-12-14</td>\n",
       "      <td>6.003838</td>\n",
       "      <td>6.007092</td>\n",
       "      <td>5.992314</td>\n",
       "      <td>5.999904</td>\n",
       "      <td>17.830953</td>\n",
       "    </tr>\n",
       "    <tr>\n",
       "      <th>0</th>\n",
       "      <td>2023-12-15</td>\n",
       "      <td>6.001860</td>\n",
       "      <td>6.007682</td>\n",
       "      <td>6.000350</td>\n",
       "      <td>6.004726</td>\n",
       "      <td>17.957003</td>\n",
       "    </tr>\n",
       "    <tr>\n",
       "      <th>0</th>\n",
       "      <td>9999-12-31</td>\n",
       "      <td>6.909063</td>\n",
       "      <td>6.910341</td>\n",
       "      <td>6.905357</td>\n",
       "      <td>6.906526</td>\n",
       "      <td>21.749782</td>\n",
       "    </tr>\n",
       "  </tbody>\n",
       "</table>\n",
       "</div>"
      ],
      "text/plain": [
       "         date      open      high       low     close     volume\n",
       "3  2023-12-12  5.980302  5.988435  5.977391  5.988134  17.484727\n",
       "2  2023-12-13  5.990514  6.002306  5.988560  6.000771  17.830237\n",
       "1  2023-12-14  6.003838  6.007092  5.992314  5.999904  17.830953\n",
       "0  2023-12-15  6.001860  6.007682  6.000350  6.004726  17.957003\n",
       "0  9999-12-31  6.909063  6.910341  6.905357  6.906526  21.749782"
      ]
     },
     "execution_count": 18,
     "metadata": {},
     "output_type": "execute_result"
    }
   ],
   "source": [
    "df.tail()"
   ]
  },
  {
   "cell_type": "markdown",
   "metadata": {},
   "source": [
    "### (2) MinMax score standardization"
   ]
  },
  {
   "cell_type": "code",
   "execution_count": 19,
   "metadata": {},
   "outputs": [],
   "source": [
    "scaler_dict = {\n",
    "}"
   ]
  },
  {
   "cell_type": "code",
   "execution_count": 20,
   "metadata": {},
   "outputs": [],
   "source": [
    "for col in features_cols:\n",
    "    scaler = MinMaxScaler()\n",
    "    df[col] = scaler.fit_transform(df[[col]].values)\n",
    "    scaler_dict[col] = scaler"
   ]
  },
  {
   "cell_type": "code",
   "execution_count": 21,
   "metadata": {},
   "outputs": [
    {
     "data": {
      "text/html": [
       "<div>\n",
       "<style scoped>\n",
       "    .dataframe tbody tr th:only-of-type {\n",
       "        vertical-align: middle;\n",
       "    }\n",
       "\n",
       "    .dataframe tbody tr th {\n",
       "        vertical-align: top;\n",
       "    }\n",
       "\n",
       "    .dataframe thead th {\n",
       "        text-align: right;\n",
       "    }\n",
       "</style>\n",
       "<table border=\"1\" class=\"dataframe\">\n",
       "  <thead>\n",
       "    <tr style=\"text-align: right;\">\n",
       "      <th></th>\n",
       "      <th>date</th>\n",
       "      <th>open</th>\n",
       "      <th>high</th>\n",
       "      <th>low</th>\n",
       "      <th>close</th>\n",
       "      <th>volume</th>\n",
       "    </tr>\n",
       "  </thead>\n",
       "  <tbody>\n",
       "    <tr>\n",
       "      <th>3</th>\n",
       "      <td>2023-12-12</td>\n",
       "      <td>0.762850</td>\n",
       "      <td>0.762912</td>\n",
       "      <td>0.763376</td>\n",
       "      <td>0.764985</td>\n",
       "      <td>0.348084</td>\n",
       "    </tr>\n",
       "    <tr>\n",
       "      <th>2</th>\n",
       "      <td>2023-12-13</td>\n",
       "      <td>0.765457</td>\n",
       "      <td>0.766479</td>\n",
       "      <td>0.766224</td>\n",
       "      <td>0.768219</td>\n",
       "      <td>0.400896</td>\n",
       "    </tr>\n",
       "    <tr>\n",
       "      <th>1</th>\n",
       "      <td>2023-12-14</td>\n",
       "      <td>0.768859</td>\n",
       "      <td>0.767710</td>\n",
       "      <td>0.767182</td>\n",
       "      <td>0.767997</td>\n",
       "      <td>0.401005</td>\n",
       "    </tr>\n",
       "    <tr>\n",
       "      <th>0</th>\n",
       "      <td>2023-12-15</td>\n",
       "      <td>0.768354</td>\n",
       "      <td>0.767862</td>\n",
       "      <td>0.769231</td>\n",
       "      <td>0.769231</td>\n",
       "      <td>0.420272</td>\n",
       "    </tr>\n",
       "    <tr>\n",
       "      <th>0</th>\n",
       "      <td>9999-12-31</td>\n",
       "      <td>1.000000</td>\n",
       "      <td>1.000000</td>\n",
       "      <td>1.000000</td>\n",
       "      <td>1.000000</td>\n",
       "      <td>1.000000</td>\n",
       "    </tr>\n",
       "  </tbody>\n",
       "</table>\n",
       "</div>"
      ],
      "text/plain": [
       "         date      open      high       low     close    volume\n",
       "3  2023-12-12  0.762850  0.762912  0.763376  0.764985  0.348084\n",
       "2  2023-12-13  0.765457  0.766479  0.766224  0.768219  0.400896\n",
       "1  2023-12-14  0.768859  0.767710  0.767182  0.767997  0.401005\n",
       "0  2023-12-15  0.768354  0.767862  0.769231  0.769231  0.420272\n",
       "0  9999-12-31  1.000000  1.000000  1.000000  1.000000  1.000000"
      ]
     },
     "execution_count": 21,
     "metadata": {},
     "output_type": "execute_result"
    }
   ],
   "source": [
    "df.tail()"
   ]
  },
  {
   "cell_type": "code",
   "execution_count": 22,
   "metadata": {},
   "outputs": [],
   "source": [
    "utils.save_object(\"./artifacts/feature_scaler.pkl\", scaler_dict)"
   ]
  },
  {
   "cell_type": "code",
   "execution_count": 23,
   "metadata": {},
   "outputs": [],
   "source": [
    "df_data = df.iloc[:-1].copy()"
   ]
  },
  {
   "cell_type": "code",
   "execution_count": 24,
   "metadata": {},
   "outputs": [
    {
     "data": {
      "text/html": [
       "<div>\n",
       "<style scoped>\n",
       "    .dataframe tbody tr th:only-of-type {\n",
       "        vertical-align: middle;\n",
       "    }\n",
       "\n",
       "    .dataframe tbody tr th {\n",
       "        vertical-align: top;\n",
       "    }\n",
       "\n",
       "    .dataframe thead th {\n",
       "        text-align: right;\n",
       "    }\n",
       "</style>\n",
       "<table border=\"1\" class=\"dataframe\">\n",
       "  <thead>\n",
       "    <tr style=\"text-align: right;\">\n",
       "      <th></th>\n",
       "      <th>date</th>\n",
       "      <th>open</th>\n",
       "      <th>high</th>\n",
       "      <th>low</th>\n",
       "      <th>close</th>\n",
       "      <th>volume</th>\n",
       "    </tr>\n",
       "  </thead>\n",
       "  <tbody>\n",
       "    <tr>\n",
       "      <th>6070</th>\n",
       "      <td>1999-11-01</td>\n",
       "      <td>0.481644</td>\n",
       "      <td>0.480709</td>\n",
       "      <td>0.481546</td>\n",
       "      <td>0.479795</td>\n",
       "      <td>0.028304</td>\n",
       "    </tr>\n",
       "    <tr>\n",
       "      <th>6069</th>\n",
       "      <td>1999-11-02</td>\n",
       "      <td>0.481644</td>\n",
       "      <td>0.480709</td>\n",
       "      <td>0.481156</td>\n",
       "      <td>0.479990</td>\n",
       "      <td>0.071394</td>\n",
       "    </tr>\n",
       "    <tr>\n",
       "      <th>6068</th>\n",
       "      <td>1999-11-03</td>\n",
       "      <td>0.484156</td>\n",
       "      <td>0.483017</td>\n",
       "      <td>0.485037</td>\n",
       "      <td>0.485023</td>\n",
       "      <td>0.129351</td>\n",
       "    </tr>\n",
       "    <tr>\n",
       "      <th>6067</th>\n",
       "      <td>1999-11-04</td>\n",
       "      <td>0.489107</td>\n",
       "      <td>0.485494</td>\n",
       "      <td>0.487338</td>\n",
       "      <td>0.487883</td>\n",
       "      <td>0.139565</td>\n",
       "    </tr>\n",
       "    <tr>\n",
       "      <th>6066</th>\n",
       "      <td>1999-11-05</td>\n",
       "      <td>0.493593</td>\n",
       "      <td>0.490750</td>\n",
       "      <td>0.492627</td>\n",
       "      <td>0.490523</td>\n",
       "      <td>0.096587</td>\n",
       "    </tr>\n",
       "  </tbody>\n",
       "</table>\n",
       "</div>"
      ],
      "text/plain": [
       "            date      open      high       low     close    volume\n",
       "6070  1999-11-01  0.481644  0.480709  0.481546  0.479795  0.028304\n",
       "6069  1999-11-02  0.481644  0.480709  0.481156  0.479990  0.071394\n",
       "6068  1999-11-03  0.484156  0.483017  0.485037  0.485023  0.129351\n",
       "6067  1999-11-04  0.489107  0.485494  0.487338  0.487883  0.139565\n",
       "6066  1999-11-05  0.493593  0.490750  0.492627  0.490523  0.096587"
      ]
     },
     "execution_count": 24,
     "metadata": {},
     "output_type": "execute_result"
    }
   ],
   "source": [
    "df_data.head()"
   ]
  },
  {
   "cell_type": "code",
   "execution_count": 25,
   "metadata": {},
   "outputs": [
    {
     "data": {
      "text/html": [
       "<div>\n",
       "<style scoped>\n",
       "    .dataframe tbody tr th:only-of-type {\n",
       "        vertical-align: middle;\n",
       "    }\n",
       "\n",
       "    .dataframe tbody tr th {\n",
       "        vertical-align: top;\n",
       "    }\n",
       "\n",
       "    .dataframe thead th {\n",
       "        text-align: right;\n",
       "    }\n",
       "</style>\n",
       "<table border=\"1\" class=\"dataframe\">\n",
       "  <thead>\n",
       "    <tr style=\"text-align: right;\">\n",
       "      <th></th>\n",
       "      <th>date</th>\n",
       "      <th>open</th>\n",
       "      <th>high</th>\n",
       "      <th>low</th>\n",
       "      <th>close</th>\n",
       "      <th>volume</th>\n",
       "    </tr>\n",
       "  </thead>\n",
       "  <tbody>\n",
       "    <tr>\n",
       "      <th>4</th>\n",
       "      <td>2023-12-11</td>\n",
       "      <td>0.760372</td>\n",
       "      <td>0.760970</td>\n",
       "      <td>0.761508</td>\n",
       "      <td>0.762955</td>\n",
       "      <td>0.355601</td>\n",
       "    </tr>\n",
       "    <tr>\n",
       "      <th>3</th>\n",
       "      <td>2023-12-12</td>\n",
       "      <td>0.762850</td>\n",
       "      <td>0.762912</td>\n",
       "      <td>0.763376</td>\n",
       "      <td>0.764985</td>\n",
       "      <td>0.348084</td>\n",
       "    </tr>\n",
       "    <tr>\n",
       "      <th>2</th>\n",
       "      <td>2023-12-13</td>\n",
       "      <td>0.765457</td>\n",
       "      <td>0.766479</td>\n",
       "      <td>0.766224</td>\n",
       "      <td>0.768219</td>\n",
       "      <td>0.400896</td>\n",
       "    </tr>\n",
       "    <tr>\n",
       "      <th>1</th>\n",
       "      <td>2023-12-14</td>\n",
       "      <td>0.768859</td>\n",
       "      <td>0.767710</td>\n",
       "      <td>0.767182</td>\n",
       "      <td>0.767997</td>\n",
       "      <td>0.401005</td>\n",
       "    </tr>\n",
       "    <tr>\n",
       "      <th>0</th>\n",
       "      <td>2023-12-15</td>\n",
       "      <td>0.768354</td>\n",
       "      <td>0.767862</td>\n",
       "      <td>0.769231</td>\n",
       "      <td>0.769231</td>\n",
       "      <td>0.420272</td>\n",
       "    </tr>\n",
       "  </tbody>\n",
       "</table>\n",
       "</div>"
      ],
      "text/plain": [
       "         date      open      high       low     close    volume\n",
       "4  2023-12-11  0.760372  0.760970  0.761508  0.762955  0.355601\n",
       "3  2023-12-12  0.762850  0.762912  0.763376  0.764985  0.348084\n",
       "2  2023-12-13  0.765457  0.766479  0.766224  0.768219  0.400896\n",
       "1  2023-12-14  0.768859  0.767710  0.767182  0.767997  0.401005\n",
       "0  2023-12-15  0.768354  0.767862  0.769231  0.769231  0.420272"
      ]
     },
     "execution_count": 25,
     "metadata": {},
     "output_type": "execute_result"
    }
   ],
   "source": [
    "df_data.tail()"
   ]
  },
  {
   "cell_type": "code",
   "execution_count": 26,
   "metadata": {},
   "outputs": [],
   "source": [
    "df_data.to_parquet('./artifacts/processed_data.parquet')"
   ]
  },
  {
   "cell_type": "code",
   "execution_count": 27,
   "metadata": {},
   "outputs": [
    {
     "data": {
      "text/plain": [
       "array([[130.8 ],\n",
       "       [130.9 ],\n",
       "       [133.5 ],\n",
       "       ...,\n",
       "       [403.74],\n",
       "       [403.39],\n",
       "       [405.34]])"
      ]
     },
     "execution_count": 27,
     "metadata": {},
     "output_type": "execute_result"
    }
   ],
   "source": [
    "np.exp(scaler_dict['close'].inverse_transform(df_data[['close']]))"
   ]
  },
  {
   "cell_type": "code",
   "execution_count": null,
   "metadata": {},
   "outputs": [],
   "source": []
  },
  {
   "cell_type": "code",
   "execution_count": null,
   "metadata": {},
   "outputs": [],
   "source": []
  },
  {
   "cell_type": "code",
   "execution_count": null,
   "metadata": {},
   "outputs": [],
   "source": []
  }
 ],
 "metadata": {
  "kernelspec": {
   "display_name": "torch",
   "language": "python",
   "name": "python3"
  },
  "language_info": {
   "codemirror_mode": {
    "name": "ipython",
    "version": 3
   },
   "file_extension": ".py",
   "mimetype": "text/x-python",
   "name": "python",
   "nbconvert_exporter": "python",
   "pygments_lexer": "ipython3",
   "version": "3.11.3"
  }
 },
 "nbformat": 4,
 "nbformat_minor": 2
}
