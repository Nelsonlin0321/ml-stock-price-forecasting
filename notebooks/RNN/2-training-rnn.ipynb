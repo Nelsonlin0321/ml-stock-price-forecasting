{
 "cells": [
  {
   "cell_type": "code",
   "execution_count": 1,
   "metadata": {},
   "outputs": [],
   "source": [
    "%load_ext autoreload\n",
    "%autoreload 2"
   ]
  },
  {
   "cell_type": "code",
   "execution_count": 2,
   "metadata": {},
   "outputs": [],
   "source": [
    "import sys\n",
    "sys.path.insert(0, \"./../../\")"
   ]
  },
  {
   "cell_type": "code",
   "execution_count": 3,
   "metadata": {},
   "outputs": [],
   "source": [
    "from src import utils\n",
    "from evaluation import evaluate\n",
    "from training_utils import save_model"
   ]
  },
  {
   "cell_type": "code",
   "execution_count": 4,
   "metadata": {},
   "outputs": [],
   "source": [
    "import os\n",
    "import torch\n",
    "import torch.nn as nn\n",
    "import numpy as np\n",
    "import pandas as pd\n",
    "import random\n",
    "from torch import optim\n",
    "from sklearn import metrics\n",
    "from tqdm import tqdm\n",
    "from torch.utils.data import Dataset, DataLoader"
   ]
  },
  {
   "cell_type": "code",
   "execution_count": 5,
   "metadata": {},
   "outputs": [],
   "source": [
    "# Set random seed for reproducibility\n",
    "torch.manual_seed(0)\n",
    "np.random.seed(0)\n",
    "random.seed(0)\n",
    "if torch.cuda.is_available():\n",
    "    torch.backends.cudnn.deterministic = True\n",
    "    torch.backends.cudnn.benchmark = False"
   ]
  },
  {
   "cell_type": "code",
   "execution_count": 6,
   "metadata": {},
   "outputs": [],
   "source": [
    "scaler_dict = utils.open_object(\"./artifacts/feature_scaler.pkl\")"
   ]
  },
  {
   "cell_type": "code",
   "execution_count": 7,
   "metadata": {},
   "outputs": [],
   "source": [
    "config_dict = {}\n",
    "config_dict['window_size'] = 32\n",
    "config_dict['learning_rate'] = 0.0002\n",
    "config_dict['batch_size'] = 12\n",
    "config_dict['epochs'] = 50\n",
    "config_dict['device'] = \"cuda\" if torch.cuda.is_available() else \"cpu\"\n",
    "config_dict['input_size'] = 5\n",
    "config_dict['hidden_size'] = 32\n",
    "config_dict['output_size'] = config_dict['input_size']\n",
    "config_dict['lstm_num_layers'] = 3\n",
    "config_dict['dropout'] = 0.2"
   ]
  },
  {
   "cell_type": "code",
   "execution_count": 8,
   "metadata": {},
   "outputs": [],
   "source": [
    "class Config:\n",
    "    def __init__(self, dictionary):\n",
    "        for key, value in dictionary.items():\n",
    "            setattr(self, key, value)\n",
    "\n",
    "\n",
    "config = Config(dictionary=config_dict)"
   ]
  },
  {
   "cell_type": "markdown",
   "metadata": {},
   "source": [
    "### (1) Read Data"
   ]
  },
  {
   "cell_type": "code",
   "execution_count": 9,
   "metadata": {},
   "outputs": [],
   "source": [
    "df = pd.read_parquet(\"./artifacts/processed_data.parquet\")"
   ]
  },
  {
   "cell_type": "code",
   "execution_count": 10,
   "metadata": {},
   "outputs": [],
   "source": [
    "df = df.sort_values(by='date').reset_index(drop=True)"
   ]
  },
  {
   "cell_type": "code",
   "execution_count": 11,
   "metadata": {},
   "outputs": [],
   "source": [
    "df = df[df['date'] < \"2020-01-01\"].copy()"
   ]
  },
  {
   "cell_type": "code",
   "execution_count": 12,
   "metadata": {},
   "outputs": [
    {
     "data": {
      "text/html": [
       "<div>\n",
       "<style scoped>\n",
       "    .dataframe tbody tr th:only-of-type {\n",
       "        vertical-align: middle;\n",
       "    }\n",
       "\n",
       "    .dataframe tbody tr th {\n",
       "        vertical-align: top;\n",
       "    }\n",
       "\n",
       "    .dataframe thead th {\n",
       "        text-align: right;\n",
       "    }\n",
       "</style>\n",
       "<table border=\"1\" class=\"dataframe\">\n",
       "  <thead>\n",
       "    <tr style=\"text-align: right;\">\n",
       "      <th></th>\n",
       "      <th>date</th>\n",
       "      <th>open</th>\n",
       "      <th>high</th>\n",
       "      <th>low</th>\n",
       "      <th>close</th>\n",
       "      <th>volume</th>\n",
       "    </tr>\n",
       "  </thead>\n",
       "  <tbody>\n",
       "    <tr>\n",
       "      <th>5069</th>\n",
       "      <td>2019-12-24</td>\n",
       "      <td>0.603589</td>\n",
       "      <td>0.600527</td>\n",
       "      <td>0.604402</td>\n",
       "      <td>0.603276</td>\n",
       "      <td>0.086608</td>\n",
       "    </tr>\n",
       "    <tr>\n",
       "      <th>5070</th>\n",
       "      <td>2019-12-26</td>\n",
       "      <td>0.603902</td>\n",
       "      <td>0.602605</td>\n",
       "      <td>0.605353</td>\n",
       "      <td>0.605524</td>\n",
       "      <td>0.221727</td>\n",
       "    </tr>\n",
       "    <tr>\n",
       "      <th>5071</th>\n",
       "      <td>2019-12-27</td>\n",
       "      <td>0.606630</td>\n",
       "      <td>0.603505</td>\n",
       "      <td>0.606324</td>\n",
       "      <td>0.605309</td>\n",
       "      <td>0.230241</td>\n",
       "    </tr>\n",
       "    <tr>\n",
       "      <th>5072</th>\n",
       "      <td>2019-12-30</td>\n",
       "      <td>0.605390</td>\n",
       "      <td>0.602388</td>\n",
       "      <td>0.604064</td>\n",
       "      <td>0.603626</td>\n",
       "      <td>0.258524</td>\n",
       "    </tr>\n",
       "    <tr>\n",
       "      <th>5073</th>\n",
       "      <td>2019-12-31</td>\n",
       "      <td>0.603131</td>\n",
       "      <td>0.601339</td>\n",
       "      <td>0.604112</td>\n",
       "      <td>0.604108</td>\n",
       "      <td>0.230740</td>\n",
       "    </tr>\n",
       "  </tbody>\n",
       "</table>\n",
       "</div>"
      ],
      "text/plain": [
       "            date      open      high       low     close    volume\n",
       "5069  2019-12-24  0.603589  0.600527  0.604402  0.603276  0.086608\n",
       "5070  2019-12-26  0.603902  0.602605  0.605353  0.605524  0.221727\n",
       "5071  2019-12-27  0.606630  0.603505  0.606324  0.605309  0.230241\n",
       "5072  2019-12-30  0.605390  0.602388  0.604064  0.603626  0.258524\n",
       "5073  2019-12-31  0.603131  0.601339  0.604112  0.604108  0.230740"
      ]
     },
     "execution_count": 12,
     "metadata": {},
     "output_type": "execute_result"
    }
   ],
   "source": [
    "df.tail()"
   ]
  },
  {
   "cell_type": "markdown",
   "metadata": {},
   "source": [
    "### (2) Split the data into train and test sets"
   ]
  },
  {
   "cell_type": "code",
   "execution_count": 13,
   "metadata": {},
   "outputs": [],
   "source": [
    "features_cols = [\"volume\", \"high\", \"low\", \"open\", \"close\"]\n",
    "\n",
    "df_data = df[features_cols].copy()"
   ]
  },
  {
   "cell_type": "code",
   "execution_count": 14,
   "metadata": {},
   "outputs": [
    {
     "data": {
      "text/html": [
       "<div>\n",
       "<style scoped>\n",
       "    .dataframe tbody tr th:only-of-type {\n",
       "        vertical-align: middle;\n",
       "    }\n",
       "\n",
       "    .dataframe tbody tr th {\n",
       "        vertical-align: top;\n",
       "    }\n",
       "\n",
       "    .dataframe thead th {\n",
       "        text-align: right;\n",
       "    }\n",
       "</style>\n",
       "<table border=\"1\" class=\"dataframe\">\n",
       "  <thead>\n",
       "    <tr style=\"text-align: right;\">\n",
       "      <th></th>\n",
       "      <th>volume</th>\n",
       "      <th>high</th>\n",
       "      <th>low</th>\n",
       "      <th>open</th>\n",
       "      <th>close</th>\n",
       "    </tr>\n",
       "  </thead>\n",
       "  <tbody>\n",
       "    <tr>\n",
       "      <th>0</th>\n",
       "      <td>0.028304</td>\n",
       "      <td>0.480709</td>\n",
       "      <td>0.481546</td>\n",
       "      <td>0.481644</td>\n",
       "      <td>0.479795</td>\n",
       "    </tr>\n",
       "    <tr>\n",
       "      <th>1</th>\n",
       "      <td>0.071394</td>\n",
       "      <td>0.480709</td>\n",
       "      <td>0.481156</td>\n",
       "      <td>0.481644</td>\n",
       "      <td>0.479990</td>\n",
       "    </tr>\n",
       "    <tr>\n",
       "      <th>2</th>\n",
       "      <td>0.129351</td>\n",
       "      <td>0.483017</td>\n",
       "      <td>0.485037</td>\n",
       "      <td>0.484156</td>\n",
       "      <td>0.485023</td>\n",
       "    </tr>\n",
       "    <tr>\n",
       "      <th>3</th>\n",
       "      <td>0.139565</td>\n",
       "      <td>0.485494</td>\n",
       "      <td>0.487338</td>\n",
       "      <td>0.489107</td>\n",
       "      <td>0.487883</td>\n",
       "    </tr>\n",
       "    <tr>\n",
       "      <th>4</th>\n",
       "      <td>0.096587</td>\n",
       "      <td>0.490750</td>\n",
       "      <td>0.492627</td>\n",
       "      <td>0.493593</td>\n",
       "      <td>0.490523</td>\n",
       "    </tr>\n",
       "  </tbody>\n",
       "</table>\n",
       "</div>"
      ],
      "text/plain": [
       "     volume      high       low      open     close\n",
       "0  0.028304  0.480709  0.481546  0.481644  0.479795\n",
       "1  0.071394  0.480709  0.481156  0.481644  0.479990\n",
       "2  0.129351  0.483017  0.485037  0.484156  0.485023\n",
       "3  0.139565  0.485494  0.487338  0.489107  0.487883\n",
       "4  0.096587  0.490750  0.492627  0.493593  0.490523"
      ]
     },
     "execution_count": 14,
     "metadata": {},
     "output_type": "execute_result"
    }
   ],
   "source": [
    "df_data.head()"
   ]
  },
  {
   "cell_type": "code",
   "execution_count": 15,
   "metadata": {},
   "outputs": [],
   "source": [
    "train_size = int(0.5 * len(df_data))\n",
    "df_train = df_data[:train_size]\n",
    "df_test = df_data[train_size:]"
   ]
  },
  {
   "cell_type": "markdown",
   "metadata": {},
   "source": [
    "### (3) Create Sequence of input and output"
   ]
  },
  {
   "cell_type": "code",
   "execution_count": 16,
   "metadata": {},
   "outputs": [],
   "source": [
    "# Custom dataset class\n",
    "class TimeSeriesDataset(Dataset):\n",
    "    def __init__(self, data, window_size):\n",
    "        self.data = data\n",
    "        self.window_size = window_size\n",
    "\n",
    "    def __len__(self):\n",
    "        return len(self.data) - self.window_size\n",
    "\n",
    "    def __getitem__(self, idx):\n",
    "        inputs = torch.tensor(\n",
    "            self.data[idx:idx+self.window_size], dtype=torch.float32)\n",
    "        target = torch.tensor(\n",
    "            self.data[idx+self.window_size], dtype=torch.float32)\n",
    "        return inputs, target"
   ]
  },
  {
   "cell_type": "code",
   "execution_count": 17,
   "metadata": {},
   "outputs": [],
   "source": [
    "train_dataset = TimeSeriesDataset(\n",
    "    data=df_train.values, window_size=config.window_size)"
   ]
  },
  {
   "cell_type": "code",
   "execution_count": 18,
   "metadata": {},
   "outputs": [],
   "source": [
    "test_dataset = TimeSeriesDataset(\n",
    "    data=df_test.values, window_size=config.window_size)"
   ]
  },
  {
   "cell_type": "code",
   "execution_count": 19,
   "metadata": {},
   "outputs": [],
   "source": [
    "train_loader = DataLoader(train_dataset, config.batch_size,\n",
    "                          shuffle=True, drop_last=True)\n",
    "test_loader = DataLoader(test_dataset,\n",
    "                         config.batch_size, shuffle=False)"
   ]
  },
  {
   "cell_type": "code",
   "execution_count": 20,
   "metadata": {},
   "outputs": [],
   "source": [
    "for inputs, targets in train_loader:\n",
    "    break"
   ]
  },
  {
   "cell_type": "code",
   "execution_count": 21,
   "metadata": {},
   "outputs": [
    {
     "data": {
      "text/plain": [
       "torch.Size([12, 32, 5])"
      ]
     },
     "execution_count": 21,
     "metadata": {},
     "output_type": "execute_result"
    }
   ],
   "source": [
    "inputs.shape  # batch_size, sequence_len, features"
   ]
  },
  {
   "cell_type": "code",
   "execution_count": 22,
   "metadata": {},
   "outputs": [
    {
     "data": {
      "text/plain": [
       "torch.Size([12, 5])"
      ]
     },
     "execution_count": 22,
     "metadata": {},
     "output_type": "execute_result"
    }
   ],
   "source": [
    "targets.shape  # batch_size, features"
   ]
  },
  {
   "cell_type": "markdown",
   "metadata": {},
   "source": [
    "### (4) Modeling"
   ]
  },
  {
   "cell_type": "code",
   "execution_count": 23,
   "metadata": {},
   "outputs": [],
   "source": [
    "criterion = nn.MSELoss()"
   ]
  },
  {
   "cell_type": "code",
   "execution_count": 24,
   "metadata": {},
   "outputs": [],
   "source": [
    "class BiLSTMModel(nn.Module):\n",
    "    def __init__(self, input_size, lstm_num_layers, hidden_size, output_size, device):\n",
    "        super(BiLSTMModel, self).__init__()\n",
    "        self.device = device\n",
    "        self.lstm_num_layers = lstm_num_layers\n",
    "        self.hidden_size = hidden_size\n",
    "        self.lstm = nn.LSTM(input_size, hidden_size,\n",
    "                            num_layers=lstm_num_layers, batch_first=True, bidirectional=True)\n",
    "        self.fc1 = nn.Linear(hidden_size * 2, output_size)\n",
    "        self.fc2 = nn.Linear(output_size*2, output_size)\n",
    "        self.sigmoid = nn.Sigmoid()\n",
    "\n",
    "    def forward(self, x):\n",
    "        h0 = torch.zeros(2*self.lstm_num_layers, x.size(0), self.hidden_size).to(\n",
    "            self.device)\n",
    "        c0 = torch.zeros(2*self.lstm_num_layers, x.size(0), self.hidden_size).to(\n",
    "            self.device)\n",
    "        out, _ = self.lstm(x, (h0, c0))\n",
    "        out = self.fc1(out[:, -1, :])\n",
    "        out = self.fc2(torch.concat([out, x[:, -1, :]], dim=1))\n",
    "        out = self.sigmoid(out)\n",
    "\n",
    "        return out"
   ]
  },
  {
   "cell_type": "code",
   "execution_count": 25,
   "metadata": {},
   "outputs": [],
   "source": [
    "model = BiLSTMModel(input_size=config.input_size, lstm_num_layers=config.lstm_num_layers,\n",
    "                    hidden_size=config.hidden_size, output_size=config.output_size,\n",
    "                    device=config.device)"
   ]
  },
  {
   "cell_type": "code",
   "execution_count": 26,
   "metadata": {},
   "outputs": [],
   "source": [
    "x = torch.randn(config.batch_size, config.window_size, config.input_size)"
   ]
  },
  {
   "cell_type": "code",
   "execution_count": 27,
   "metadata": {},
   "outputs": [],
   "source": [
    "with torch.no_grad():\n",
    "    out = model(x)"
   ]
  },
  {
   "cell_type": "code",
   "execution_count": 28,
   "metadata": {},
   "outputs": [
    {
     "data": {
      "text/plain": [
       "tensor(0.0810)"
      ]
     },
     "execution_count": 28,
     "metadata": {},
     "output_type": "execute_result"
    }
   ],
   "source": [
    "criterion(out, targets)"
   ]
  },
  {
   "cell_type": "code",
   "execution_count": 29,
   "metadata": {},
   "outputs": [
    {
     "data": {
      "text/plain": [
       "tensor(0.0658)"
      ]
     },
     "execution_count": 29,
     "metadata": {},
     "output_type": "execute_result"
    }
   ],
   "source": [
    "criterion(out[:, -1], targets[:, -1])"
   ]
  },
  {
   "cell_type": "code",
   "execution_count": 30,
   "metadata": {},
   "outputs": [],
   "source": [
    "# class self:\n",
    "#     pass"
   ]
  },
  {
   "cell_type": "code",
   "execution_count": 31,
   "metadata": {},
   "outputs": [],
   "source": [
    "# input_size = config.input_size\n",
    "# lstm_num_layers = config.lstm_num_layers\n",
    "# hidden_size = config.hidden_size\n",
    "# output_size = config.output_size\n",
    "# device = config.device"
   ]
  },
  {
   "cell_type": "code",
   "execution_count": 32,
   "metadata": {},
   "outputs": [],
   "source": [
    "# self.device = device\n",
    "# self.lstm_num_layers = lstm_num_layers\n",
    "# self.hidden_size = hidden_size\n",
    "# self.lstm = nn.LSTM(input_size, hidden_size,\n",
    "#                     num_layers=lstm_num_layers, batch_first=True, bidirectional=True)\n",
    "# self.fc = nn.Linear(hidden_size * 2, output_size)\n",
    "# self.sigmoid = nn.Sigmoid()"
   ]
  },
  {
   "cell_type": "code",
   "execution_count": 33,
   "metadata": {},
   "outputs": [],
   "source": [
    "# h0 = torch.zeros(2*self.lstm_num_layers, x.size(0), self.hidden_size).to(\n",
    "#     self.device)\n",
    "# c0 = torch.zeros(2*self.lstm_num_layers, x.size(0), self.hidden_size).to(\n",
    "#     self.device)\n",
    "# out, _ = self.lstm(x, (h0, c0))\n",
    "# out = self.fc(out[:, -1, :])\n",
    "# # out = self.sigmoid(out)"
   ]
  },
  {
   "cell_type": "code",
   "execution_count": 34,
   "metadata": {},
   "outputs": [],
   "source": [
    "# out.shape"
   ]
  },
  {
   "cell_type": "code",
   "execution_count": 35,
   "metadata": {},
   "outputs": [],
   "source": [
    "# torch.concat([out, x[:, -1, :]], dim=1)"
   ]
  },
  {
   "cell_type": "code",
   "execution_count": 36,
   "metadata": {},
   "outputs": [],
   "source": [
    "# out[:, -1, :].shape"
   ]
  },
  {
   "cell_type": "code",
   "execution_count": 37,
   "metadata": {},
   "outputs": [],
   "source": [
    "# x.shape"
   ]
  },
  {
   "cell_type": "markdown",
   "metadata": {},
   "source": [
    "### (5) Training"
   ]
  },
  {
   "cell_type": "code",
   "execution_count": 38,
   "metadata": {},
   "outputs": [],
   "source": [
    "scaler = scaler_dict['close']"
   ]
  },
  {
   "cell_type": "code",
   "execution_count": 39,
   "metadata": {},
   "outputs": [
    {
     "name": "stderr",
     "output_type": "stream",
     "text": [
      "Evaluating:: 100%|██████████| 209/209 [00:00<00:00, 226.12it/s]\n"
     ]
    },
    {
     "data": {
      "text/plain": [
       "{'eval_loss': 0.02399406847978483,\n",
       " 'eval_price_loss': 0.018334252012303178,\n",
       " 'eval_MEA': 44.59252}"
      ]
     },
     "execution_count": 39,
     "metadata": {},
     "output_type": "execute_result"
    }
   ],
   "source": [
    "evaluate(model=model, test_loader=test_loader,\n",
    "         scaler=scaler, criterion=criterion)"
   ]
  },
  {
   "cell_type": "code",
   "execution_count": 40,
   "metadata": {},
   "outputs": [],
   "source": [
    "optimizer = optim.Adam(model.parameters(), lr=config.learning_rate)\n",
    "best_eval_loss = float(\"inf\")\n",
    "model_version = \"v1\"\n",
    "metrics_list = []\n",
    "best_model_path = None"
   ]
  },
  {
   "cell_type": "code",
   "execution_count": 41,
   "metadata": {},
   "outputs": [
    {
     "name": "stderr",
     "output_type": "stream",
     "text": [
      "Evaluating:: 100%|██████████| 209/209 [00:00<00:00, 219.18it/s]\n",
      "Evaluating:: 100%|██████████| 209/209 [00:00<00:00, 252.54it/s]val_loss=0.0533, eval_price_loss=0.0774, eval_MEA=70.4, best_eval_loss=0.0533, train_loss=0.0391, train_price_loss=0.0312, train_MAE=32.7, epoch=0, best_epoch=0]\n",
      "Evaluating:: 100%|██████████| 209/209 [00:00<00:00, 262.51it/s]val_loss=0.0508, eval_price_loss=0.0525, eval_MEA=62.4, best_eval_loss=0.0508, train_loss=0.011, train_price_loss=0.01, train_MAE=13.1, epoch=1, best_epoch=1]   \n",
      "Evaluating:: 100%|██████████| 209/209 [00:00<00:00, 262.50it/s]val_loss=0.0105, eval_price_loss=0.0039, eval_MEA=22.5, best_eval_loss=0.0105, train_loss=0.0085, train_price_loss=0.0067, train_MAE=11.1, epoch=2, best_epoch=2]\n",
      "Evaluating:: 100%|██████████| 209/209 [00:00<00:00, 254.97it/s]eval_loss=0.0053, eval_price_loss=0.0007, eval_MEA=10.4, best_eval_loss=0.0053, train_loss=0.0028, train_price_loss=0.0009, train_MAE=4.59, epoch=3, best_epoch=3]\n",
      "Evaluating:: 100%|██████████| 209/209 [00:00<00:00, 252.68it/s]eval_loss=0.0037, eval_price_loss=0.0004, eval_MEA=7.46, best_eval_loss=0.0037, train_loss=0.002, train_price_loss=0.0004, train_MAE=3.23, epoch=4, best_epoch=4] \n",
      "Evaluating:: 100%|██████████| 209/209 [00:00<00:00, 244.83it/s]eval_loss=0.0029, eval_price_loss=0.0002, eval_MEA=6.32, best_eval_loss=0.0029, train_loss=0.0017, train_price_loss=0.0004, train_MAE=2.89, epoch=5, best_epoch=5]\n",
      "Evaluating:: 100%|██████████| 209/209 [00:00<00:00, 248.44it/s]eval_loss=0.0024, eval_price_loss=0.0006, eval_MEA=10.9, best_eval_loss=0.0024, train_loss=0.0015, train_price_loss=0.0004, train_MAE=3, epoch=6, best_epoch=6]   \n",
      "Evaluating:: 100%|██████████| 209/209 [00:00<00:00, 242.92it/s]eval_loss=0.0019, eval_price_loss=0.0004, eval_MEA=7.92, best_eval_loss=0.0019, train_loss=0.0013, train_price_loss=0.0003, train_MAE=2.91, epoch=7, best_epoch=7]\n",
      "Evaluating:: 100%|██████████| 209/209 [00:00<00:00, 259.64it/s]eval_loss=0.0015, eval_price_loss=0.0004, eval_MEA=9.24, best_eval_loss=0.0015, train_loss=0.0012, train_price_loss=0.0003, train_MAE=2.63, epoch=8, best_epoch=8]\n",
      "Evaluating:: 100%|██████████| 209/209 [00:00<00:00, 247.89it/s]eval_loss=0.0014, eval_price_loss=0.0002, eval_MEA=4.79, best_eval_loss=0.0014, train_loss=0.0011, train_price_loss=0.0003, train_MAE=2.43, epoch=9, best_epoch=9]\n",
      "Evaluating:: 100%|██████████| 209/209 [00:00<00:00, 250.87it/s]eval_loss=0.0015, eval_price_loss=0.0001, eval_MEA=2.87, best_eval_loss=0.0014, train_loss=0.001, train_price_loss=0.0002, train_MAE=2, epoch=10, best_epoch=9]   \n",
      "Evaluating:: 100%|██████████| 209/209 [00:00<00:00, 260.00it/s]eval_loss=0.0018, eval_price_loss=0.0001, eval_MEA=3.51, best_eval_loss=0.0014, train_loss=0.001, train_price_loss=0.0002, train_MAE=1.85, epoch=11, best_epoch=9]\n",
      "Evaluating:: 100%|██████████| 209/209 [00:00<00:00, 241.80it/s]eval_loss=0.0017, eval_price_loss=0.0002, eval_MEA=5.58, best_eval_loss=0.0014, train_loss=0.0009, train_price_loss=0.0002, train_MAE=1.73, epoch=12, best_epoch=9]\n",
      "Evaluating:: 100%|██████████| 209/209 [00:00<00:00, 255.20it/s]eval_loss=0.0018, eval_price_loss=0.0001, eval_MEA=3.69, best_eval_loss=0.0014, train_loss=0.0009, train_price_loss=0.0002, train_MAE=1.69, epoch=13, best_epoch=9]\n",
      "Evaluating:: 100%|██████████| 209/209 [00:00<00:00, 257.47it/s]eval_loss=0.0019, eval_price_loss=0.0001, eval_MEA=4.15, best_eval_loss=0.0014, train_loss=0.0009, train_price_loss=0.0002, train_MAE=1.72, epoch=14, best_epoch=9]\n",
      "Evaluating:: 100%|██████████| 209/209 [00:00<00:00, 256.66it/s]eval_loss=0.0017, eval_price_loss=0.0001, eval_MEA=3.95, best_eval_loss=0.0014, train_loss=0.0008, train_price_loss=0.0002, train_MAE=1.65, epoch=15, best_epoch=9]\n",
      "Evaluating:: 100%|██████████| 209/209 [00:00<00:00, 249.95it/s]eval_loss=0.0018, eval_price_loss=0.0002, eval_MEA=5.52, best_eval_loss=0.0014, train_loss=0.0008, train_price_loss=0.0001, train_MAE=1.6, epoch=16, best_epoch=9] \n",
      "Evaluating:: 100%|██████████| 209/209 [00:00<00:00, 248.22it/s]eval_loss=0.002, eval_price_loss=0.0002, eval_MEA=5.06, best_eval_loss=0.0014, train_loss=0.0008, train_price_loss=0.0001, train_MAE=1.62, epoch=17, best_epoch=9]\n",
      "Evaluating:: 100%|██████████| 209/209 [00:00<00:00, 250.99it/s]eval_loss=0.0018, eval_price_loss=0.0002, eval_MEA=5.95, best_eval_loss=0.0014, train_loss=0.0007, train_price_loss=0.0001, train_MAE=1.58, epoch=18, best_epoch=9]\n",
      "Evaluating:: 100%|██████████| 209/209 [00:00<00:00, 232.71it/s]eval_loss=0.0019, eval_price_loss=0.0003, eval_MEA=6.16, best_eval_loss=0.0014, train_loss=0.0007, train_price_loss=0.0001, train_MAE=1.58, epoch=19, best_epoch=9]\n",
      "Evaluating:: 100%|██████████| 209/209 [00:00<00:00, 234.64it/s]eval_loss=0.0018, eval_price_loss=0.0001, eval_MEA=3.72, best_eval_loss=0.0014, train_loss=0.0007, train_price_loss=0.0001, train_MAE=1.51, epoch=20, best_epoch=9]\n",
      "Evaluating:: 100%|██████████| 209/209 [00:00<00:00, 248.22it/s]eval_loss=0.0023, eval_price_loss=0.0006, eval_MEA=9.85, best_eval_loss=0.0014, train_loss=0.0006, train_price_loss=0.0001, train_MAE=1.39, epoch=21, best_epoch=9]\n",
      "Evaluating:: 100%|██████████| 209/209 [00:00<00:00, 258.59it/s]eval_loss=0.0019, eval_price_loss=0.0001, eval_MEA=3.52, best_eval_loss=0.0014, train_loss=0.0006, train_price_loss=0.0001, train_MAE=1.51, epoch=22, best_epoch=9]\n",
      "Evaluating:: 100%|██████████| 209/209 [00:00<00:00, 258.98it/s]eval_loss=0.0019, eval_price_loss=0.0001, eval_MEA=3.47, best_eval_loss=0.0014, train_loss=0.0006, train_price_loss=0.0001, train_MAE=1.43, epoch=23, best_epoch=9]\n",
      "Evaluating:: 100%|██████████| 209/209 [00:00<00:00, 250.84it/s]eval_loss=0.002, eval_price_loss=0.0003, eval_MEA=5.98, best_eval_loss=0.0014, train_loss=0.0006, train_price_loss=0.0001, train_MAE=1.44, epoch=24, best_epoch=9] \n",
      "Evaluating:: 100%|██████████| 209/209 [00:00<00:00, 253.86it/s]eval_loss=0.0019, eval_price_loss=0.0001, eval_MEA=2.94, best_eval_loss=0.0014, train_loss=0.0005, train_price_loss=0.0001, train_MAE=1.38, epoch=25, best_epoch=9]\n",
      "Evaluating:: 100%|██████████| 209/209 [00:00<00:00, 255.97it/s]eval_loss=0.0018, eval_price_loss=0.0001, eval_MEA=3.07, best_eval_loss=0.0014, train_loss=0.0005, train_price_loss=0.0001, train_MAE=1.38, epoch=26, best_epoch=9]\n",
      "Evaluating:: 100%|██████████| 209/209 [00:00<00:00, 252.24it/s]eval_loss=0.0018, eval_price_loss=0.0002, eval_MEA=4.39, best_eval_loss=0.0014, train_loss=0.0005, train_price_loss=0.0001, train_MAE=1.35, epoch=27, best_epoch=9]\n",
      "Evaluating:: 100%|██████████| 209/209 [00:00<00:00, 254.43it/s]eval_loss=0.0018, eval_price_loss=0.0002, eval_MEA=5.93, best_eval_loss=0.0014, train_loss=0.0005, train_price_loss=0.0001, train_MAE=1.33, epoch=28, best_epoch=9]\n",
      "Evaluating:: 100%|██████████| 209/209 [00:00<00:00, 232.51it/s]eval_loss=0.0017, eval_price_loss=0.0002, eval_MEA=4.08, best_eval_loss=0.0014, train_loss=0.0005, train_price_loss=0.0001, train_MAE=1.39, epoch=29, best_epoch=9]\n",
      "Evaluating:: 100%|██████████| 209/209 [00:00<00:00, 254.37it/s]eval_loss=0.0017, eval_price_loss=0.0001, eval_MEA=3.39, best_eval_loss=0.0014, train_loss=0.0005, train_price_loss=0.0001, train_MAE=1.33, epoch=30, best_epoch=9]\n",
      "Evaluating:: 100%|██████████| 209/209 [00:00<00:00, 254.46it/s]eval_loss=0.0017, eval_price_loss=0.0001, eval_MEA=3.46, best_eval_loss=0.0014, train_loss=0.0005, train_price_loss=0.0001, train_MAE=1.4, epoch=31, best_epoch=9] \n",
      "Evaluating:: 100%|██████████| 209/209 [00:00<00:00, 247.13it/s]eval_loss=0.0016, eval_price_loss=0.0001, eval_MEA=2.67, best_eval_loss=0.0014, train_loss=0.0005, train_price_loss=0.0001, train_MAE=1.42, epoch=32, best_epoch=9]\n",
      "Evaluating:: 100%|██████████| 209/209 [00:00<00:00, 232.22it/s]eval_loss=0.0017, eval_price_loss=0.0001, eval_MEA=3.77, best_eval_loss=0.0014, train_loss=0.0005, train_price_loss=0.0001, train_MAE=1.33, epoch=33, best_epoch=9]\n",
      "Evaluating:: 100%|██████████| 209/209 [00:01<00:00, 152.75it/s]eval_loss=0.0018, eval_price_loss=0.0004, eval_MEA=7.32, best_eval_loss=0.0014, train_loss=0.0005, train_price_loss=0.0001, train_MAE=1.35, epoch=34, best_epoch=9]\n",
      "Evaluating:: 100%|██████████| 209/209 [00:01<00:00, 203.94it/s]eval_loss=0.0017, eval_price_loss=0.0001, eval_MEA=2.58, best_eval_loss=0.0014, train_loss=0.0005, train_price_loss=0.0001, train_MAE=1.34, epoch=35, best_epoch=9]\n",
      "Evaluating:: 100%|██████████| 209/209 [00:00<00:00, 225.65it/s]eval_loss=0.0014, eval_price_loss=0.0002, eval_MEA=5.06, best_eval_loss=0.0014, train_loss=0.0005, train_price_loss=0.0001, train_MAE=1.37, epoch=36, best_epoch=9]\n",
      "Evaluating:: 100%|██████████| 209/209 [00:00<00:00, 230.41it/s]eval_loss=0.0016, eval_price_loss=0, eval_MEA=2.05, best_eval_loss=0.0014, train_loss=0.0005, train_price_loss=0.0001, train_MAE=1.32, epoch=37, best_epoch=9]     \n",
      "Evaluating:: 100%|██████████| 209/209 [00:00<00:00, 247.73it/s]eval_loss=0.0015, eval_price_loss=0.0001, eval_MEA=3.82, best_eval_loss=0.0014, train_loss=0.0005, train_price_loss=0.0001, train_MAE=1.3, epoch=38, best_epoch=9]\n",
      "Evaluating:: 100%|██████████| 209/209 [00:00<00:00, 238.16it/s]eval_loss=0.0017, eval_price_loss=0.0001, eval_MEA=3.65, best_eval_loss=0.0014, train_loss=0.0005, train_price_loss=0.0001, train_MAE=1.32, epoch=39, best_epoch=9]\n",
      "Evaluating:: 100%|██████████| 209/209 [00:00<00:00, 241.13it/s]eval_loss=0.0017, eval_price_loss=0.0002, eval_MEA=5.53, best_eval_loss=0.0014, train_loss=0.0005, train_price_loss=0.0001, train_MAE=1.29, epoch=40, best_epoch=9]\n",
      "Evaluating:: 100%|██████████| 209/209 [00:00<00:00, 241.90it/s]eval_loss=0.0018, eval_price_loss=0.0001, eval_MEA=2.64, best_eval_loss=0.0014, train_loss=0.0005, train_price_loss=0.0001, train_MAE=1.29, epoch=41, best_epoch=9]\n",
      "Evaluating:: 100%|██████████| 209/209 [00:00<00:00, 253.79it/s]eval_loss=0.0017, eval_price_loss=0.0002, eval_MEA=4.57, best_eval_loss=0.0014, train_loss=0.0005, train_price_loss=0.0001, train_MAE=1.37, epoch=42, best_epoch=9]\n",
      "Evaluating:: 100%|██████████| 209/209 [00:00<00:00, 254.01it/s]eval_loss=0.0019, eval_price_loss=0.0004, eval_MEA=8.01, best_eval_loss=0.0014, train_loss=0.0005, train_price_loss=0.0001, train_MAE=1.3, epoch=43, best_epoch=9] \n",
      "Evaluating:: 100%|██████████| 209/209 [00:00<00:00, 242.72it/s]eval_loss=0.0017, eval_price_loss=0.0001, eval_MEA=3.25, best_eval_loss=0.0014, train_loss=0.0005, train_price_loss=0.0001, train_MAE=1.31, epoch=44, best_epoch=9]\n",
      "Evaluating:: 100%|██████████| 209/209 [00:00<00:00, 233.76it/s]eval_loss=0.0017, eval_price_loss=0.0001, eval_MEA=2.65, best_eval_loss=0.0014, train_loss=0.0005, train_price_loss=0.0001, train_MAE=1.26, epoch=45, best_epoch=9]\n",
      "Evaluating:: 100%|██████████| 209/209 [00:00<00:00, 222.32it/s]eval_loss=0.0016, eval_price_loss=0.0001, eval_MEA=3.78, best_eval_loss=0.0014, train_loss=0.0005, train_price_loss=0.0001, train_MAE=1.26, epoch=46, best_epoch=9]\n",
      "Evaluating:: 100%|██████████| 209/209 [00:00<00:00, 242.28it/s] eval_loss=0.0014, eval_price_loss=0.0002, eval_MEA=4.88, best_eval_loss=0.0014, train_loss=0.0005, train_price_loss=0.0001, train_MAE=1.29, epoch=47, best_epoch=47]\n",
      "Evaluating:: 100%|██████████| 209/209 [00:01<00:00, 208.03it/s] eval_loss=0.0014, eval_price_loss=0.0001, eval_MEA=4.17, best_eval_loss=0.0014, train_loss=0.0005, train_price_loss=0.0001, train_MAE=1.29, epoch=48, best_epoch=48]\n",
      "Training: 100%|██████████| 10400/10400 [03:52<00:00, 44.79it/s, eval_loss=0.0017, eval_price_loss=0, eval_MEA=2.1, best_eval_loss=0.0014, train_loss=0.0005, train_price_loss=0.0001, train_MAE=1.26, epoch=49, best_epoch=48]      \n"
     ]
    }
   ],
   "source": [
    "total_pbar = tqdm(total=len(train_loader)*config.epochs,\n",
    "                  desc=\"Training\", position=0, leave=True)\n",
    "\n",
    "for epoch in range(config.epochs):\n",
    "\n",
    "    train_loss_list = []\n",
    "    price_loss_list = []\n",
    "    prediction_list = []\n",
    "    ground_truth_list = []\n",
    "\n",
    "    model = model.train()\n",
    "    for inputs, targets in train_loader:\n",
    "\n",
    "        optimizer.zero_grad()\n",
    "        outputs = model(inputs)\n",
    "\n",
    "        loss = criterion(outputs, targets)\n",
    "        price_loss = criterion(outputs[:, -1], targets[:, -1])\n",
    "\n",
    "        loss.backward()\n",
    "        optimizer.step()\n",
    "\n",
    "        train_loss_list.append(loss.item())\n",
    "        price_loss_list.append(price_loss.item())\n",
    "\n",
    "        yhat = outputs[:, -1].detach().cpu().numpy()\n",
    "        prediction_list.append(yhat)\n",
    "\n",
    "        y = targets[:, -1].detach().cpu().numpy()\n",
    "        ground_truth_list.append(y)\n",
    "\n",
    "        total_pbar.update(1)\n",
    "\n",
    "    improve = False\n",
    "    model_metrics = evaluate(\n",
    "        model, test_loader, scaler, criterion)\n",
    "    eval_loss = model_metrics['eval_loss']\n",
    "\n",
    "    if eval_loss <= best_eval_loss:\n",
    "        improve = True\n",
    "        best_checkpoint = epoch\n",
    "        best_eval_loss = eval_loss\n",
    "\n",
    "    train_loss = np.mean(train_loss_list)\n",
    "    train_price_loss = np.mean(price_loss_list)\n",
    "\n",
    "    predictions = np.concatenate(prediction_list)\n",
    "    ground_truths = np.concatenate(ground_truth_list)\n",
    "\n",
    "    predictions = np.exp(scaler.inverse_transform(\n",
    "        predictions.reshape(-1, 1)))[:, 0]\n",
    "    ground_truths = np.exp(scaler.inverse_transform(\n",
    "        ground_truths.reshape(-1, 1)))[:, 0]\n",
    "\n",
    "    mae = metrics.mean_absolute_error(ground_truths, predictions)\n",
    "    model_metrics['best_eval_loss'] = best_eval_loss\n",
    "\n",
    "    model_metrics['train_loss'] = train_loss\n",
    "    model_metrics['train_price_loss'] = train_price_loss\n",
    "    model_metrics['train_MAE'] = mae\n",
    "\n",
    "    model_metrics[\"epoch\"] = epoch\n",
    "    model_metrics[\"best_epoch\"] = best_checkpoint\n",
    "    metrics_list.append(model_metrics)\n",
    "    # wandb.log(model_metrics)\n",
    "\n",
    "    if improve:\n",
    "        save_dir = os.path.join(\"models\", model_version)\n",
    "        os.makedirs(save_dir, exist_ok=True)\n",
    "        model_path = save_model(model, save_dir, epoch, model_metrics)\n",
    "        best_model_path = model_path\n",
    "\n",
    "    post_fix_message = {k: round(v, 4) for k, v in model_metrics.items()}\n",
    "    total_pbar.set_postfix(post_fix_message)\n",
    "\n",
    "\n",
    "total_pbar.close()\n",
    "# wandb.finish()"
   ]
  },
  {
   "cell_type": "markdown",
   "metadata": {},
   "source": [
    "### (6) Validation Model"
   ]
  },
  {
   "cell_type": "code",
   "execution_count": 42,
   "metadata": {},
   "outputs": [
    {
     "data": {
      "text/html": [
       "<div>\n",
       "<style scoped>\n",
       "    .dataframe tbody tr th:only-of-type {\n",
       "        vertical-align: middle;\n",
       "    }\n",
       "\n",
       "    .dataframe tbody tr th {\n",
       "        vertical-align: top;\n",
       "    }\n",
       "\n",
       "    .dataframe thead th {\n",
       "        text-align: right;\n",
       "    }\n",
       "</style>\n",
       "<table border=\"1\" class=\"dataframe\">\n",
       "  <thead>\n",
       "    <tr style=\"text-align: right;\">\n",
       "      <th></th>\n",
       "      <th>eval_loss</th>\n",
       "      <th>eval_price_loss</th>\n",
       "      <th>eval_MEA</th>\n",
       "      <th>best_eval_loss</th>\n",
       "      <th>train_loss</th>\n",
       "      <th>train_price_loss</th>\n",
       "      <th>train_MAE</th>\n",
       "      <th>best_epoch</th>\n",
       "    </tr>\n",
       "    <tr>\n",
       "      <th>epoch</th>\n",
       "      <th></th>\n",
       "      <th></th>\n",
       "      <th></th>\n",
       "      <th></th>\n",
       "      <th></th>\n",
       "      <th></th>\n",
       "      <th></th>\n",
       "      <th></th>\n",
       "    </tr>\n",
       "  </thead>\n",
       "  <tbody>\n",
       "    <tr>\n",
       "      <th>0</th>\n",
       "      <td>0.053319</td>\n",
       "      <td>0.077365</td>\n",
       "      <td>70.417107</td>\n",
       "      <td>0.053319</td>\n",
       "      <td>0.039050</td>\n",
       "      <td>0.031237</td>\n",
       "      <td>32.659466</td>\n",
       "      <td>0</td>\n",
       "    </tr>\n",
       "    <tr>\n",
       "      <th>1</th>\n",
       "      <td>0.050821</td>\n",
       "      <td>0.052539</td>\n",
       "      <td>62.416916</td>\n",
       "      <td>0.050821</td>\n",
       "      <td>0.010991</td>\n",
       "      <td>0.009960</td>\n",
       "      <td>13.133412</td>\n",
       "      <td>1</td>\n",
       "    </tr>\n",
       "    <tr>\n",
       "      <th>2</th>\n",
       "      <td>0.010455</td>\n",
       "      <td>0.003897</td>\n",
       "      <td>22.450438</td>\n",
       "      <td>0.010455</td>\n",
       "      <td>0.008544</td>\n",
       "      <td>0.006661</td>\n",
       "      <td>11.067995</td>\n",
       "      <td>2</td>\n",
       "    </tr>\n",
       "    <tr>\n",
       "      <th>3</th>\n",
       "      <td>0.005315</td>\n",
       "      <td>0.000673</td>\n",
       "      <td>10.397497</td>\n",
       "      <td>0.005315</td>\n",
       "      <td>0.002826</td>\n",
       "      <td>0.000950</td>\n",
       "      <td>4.588628</td>\n",
       "      <td>3</td>\n",
       "    </tr>\n",
       "    <tr>\n",
       "      <th>4</th>\n",
       "      <td>0.003692</td>\n",
       "      <td>0.000413</td>\n",
       "      <td>7.457129</td>\n",
       "      <td>0.003692</td>\n",
       "      <td>0.002013</td>\n",
       "      <td>0.000435</td>\n",
       "      <td>3.228149</td>\n",
       "      <td>4</td>\n",
       "    </tr>\n",
       "    <tr>\n",
       "      <th>5</th>\n",
       "      <td>0.002920</td>\n",
       "      <td>0.000245</td>\n",
       "      <td>6.323758</td>\n",
       "      <td>0.002920</td>\n",
       "      <td>0.001694</td>\n",
       "      <td>0.000371</td>\n",
       "      <td>2.892724</td>\n",
       "      <td>5</td>\n",
       "    </tr>\n",
       "    <tr>\n",
       "      <th>6</th>\n",
       "      <td>0.002415</td>\n",
       "      <td>0.000586</td>\n",
       "      <td>10.914515</td>\n",
       "      <td>0.002415</td>\n",
       "      <td>0.001478</td>\n",
       "      <td>0.000358</td>\n",
       "      <td>3.003708</td>\n",
       "      <td>6</td>\n",
       "    </tr>\n",
       "    <tr>\n",
       "      <th>7</th>\n",
       "      <td>0.001931</td>\n",
       "      <td>0.000372</td>\n",
       "      <td>7.918688</td>\n",
       "      <td>0.001931</td>\n",
       "      <td>0.001307</td>\n",
       "      <td>0.000328</td>\n",
       "      <td>2.913553</td>\n",
       "      <td>7</td>\n",
       "    </tr>\n",
       "    <tr>\n",
       "      <th>8</th>\n",
       "      <td>0.001467</td>\n",
       "      <td>0.000417</td>\n",
       "      <td>9.238775</td>\n",
       "      <td>0.001467</td>\n",
       "      <td>0.001179</td>\n",
       "      <td>0.000280</td>\n",
       "      <td>2.625517</td>\n",
       "      <td>8</td>\n",
       "    </tr>\n",
       "    <tr>\n",
       "      <th>9</th>\n",
       "      <td>0.001400</td>\n",
       "      <td>0.000152</td>\n",
       "      <td>4.790373</td>\n",
       "      <td>0.001400</td>\n",
       "      <td>0.001102</td>\n",
       "      <td>0.000256</td>\n",
       "      <td>2.433744</td>\n",
       "      <td>9</td>\n",
       "    </tr>\n",
       "    <tr>\n",
       "      <th>10</th>\n",
       "      <td>0.001495</td>\n",
       "      <td>0.000070</td>\n",
       "      <td>2.871762</td>\n",
       "      <td>0.001400</td>\n",
       "      <td>0.001022</td>\n",
       "      <td>0.000201</td>\n",
       "      <td>2.001395</td>\n",
       "      <td>9</td>\n",
       "    </tr>\n",
       "    <tr>\n",
       "      <th>11</th>\n",
       "      <td>0.001840</td>\n",
       "      <td>0.000128</td>\n",
       "      <td>3.507313</td>\n",
       "      <td>0.001400</td>\n",
       "      <td>0.000978</td>\n",
       "      <td>0.000180</td>\n",
       "      <td>1.847718</td>\n",
       "      <td>9</td>\n",
       "    </tr>\n",
       "    <tr>\n",
       "      <th>12</th>\n",
       "      <td>0.001704</td>\n",
       "      <td>0.000208</td>\n",
       "      <td>5.579283</td>\n",
       "      <td>0.001400</td>\n",
       "      <td>0.000944</td>\n",
       "      <td>0.000164</td>\n",
       "      <td>1.731641</td>\n",
       "      <td>9</td>\n",
       "    </tr>\n",
       "    <tr>\n",
       "      <th>13</th>\n",
       "      <td>0.001814</td>\n",
       "      <td>0.000120</td>\n",
       "      <td>3.688347</td>\n",
       "      <td>0.001400</td>\n",
       "      <td>0.000917</td>\n",
       "      <td>0.000158</td>\n",
       "      <td>1.685370</td>\n",
       "      <td>9</td>\n",
       "    </tr>\n",
       "    <tr>\n",
       "      <th>14</th>\n",
       "      <td>0.001868</td>\n",
       "      <td>0.000111</td>\n",
       "      <td>4.145661</td>\n",
       "      <td>0.001400</td>\n",
       "      <td>0.000878</td>\n",
       "      <td>0.000156</td>\n",
       "      <td>1.723303</td>\n",
       "      <td>9</td>\n",
       "    </tr>\n",
       "    <tr>\n",
       "      <th>15</th>\n",
       "      <td>0.001738</td>\n",
       "      <td>0.000141</td>\n",
       "      <td>3.954211</td>\n",
       "      <td>0.001400</td>\n",
       "      <td>0.000850</td>\n",
       "      <td>0.000151</td>\n",
       "      <td>1.651265</td>\n",
       "      <td>9</td>\n",
       "    </tr>\n",
       "    <tr>\n",
       "      <th>16</th>\n",
       "      <td>0.001808</td>\n",
       "      <td>0.000229</td>\n",
       "      <td>5.516645</td>\n",
       "      <td>0.001400</td>\n",
       "      <td>0.000810</td>\n",
       "      <td>0.000146</td>\n",
       "      <td>1.595335</td>\n",
       "      <td>9</td>\n",
       "    </tr>\n",
       "    <tr>\n",
       "      <th>17</th>\n",
       "      <td>0.001990</td>\n",
       "      <td>0.000200</td>\n",
       "      <td>5.058077</td>\n",
       "      <td>0.001400</td>\n",
       "      <td>0.000769</td>\n",
       "      <td>0.000149</td>\n",
       "      <td>1.621169</td>\n",
       "      <td>9</td>\n",
       "    </tr>\n",
       "    <tr>\n",
       "      <th>18</th>\n",
       "      <td>0.001842</td>\n",
       "      <td>0.000243</td>\n",
       "      <td>5.950066</td>\n",
       "      <td>0.001400</td>\n",
       "      <td>0.000729</td>\n",
       "      <td>0.000150</td>\n",
       "      <td>1.581798</td>\n",
       "      <td>9</td>\n",
       "    </tr>\n",
       "    <tr>\n",
       "      <th>19</th>\n",
       "      <td>0.001929</td>\n",
       "      <td>0.000281</td>\n",
       "      <td>6.162720</td>\n",
       "      <td>0.001400</td>\n",
       "      <td>0.000704</td>\n",
       "      <td>0.000144</td>\n",
       "      <td>1.582143</td>\n",
       "      <td>9</td>\n",
       "    </tr>\n",
       "    <tr>\n",
       "      <th>20</th>\n",
       "      <td>0.001842</td>\n",
       "      <td>0.000101</td>\n",
       "      <td>3.719377</td>\n",
       "      <td>0.001400</td>\n",
       "      <td>0.000651</td>\n",
       "      <td>0.000125</td>\n",
       "      <td>1.507197</td>\n",
       "      <td>9</td>\n",
       "    </tr>\n",
       "    <tr>\n",
       "      <th>21</th>\n",
       "      <td>0.002261</td>\n",
       "      <td>0.000621</td>\n",
       "      <td>9.854460</td>\n",
       "      <td>0.001400</td>\n",
       "      <td>0.000611</td>\n",
       "      <td>0.000116</td>\n",
       "      <td>1.385624</td>\n",
       "      <td>9</td>\n",
       "    </tr>\n",
       "    <tr>\n",
       "      <th>22</th>\n",
       "      <td>0.001862</td>\n",
       "      <td>0.000110</td>\n",
       "      <td>3.515696</td>\n",
       "      <td>0.001400</td>\n",
       "      <td>0.000601</td>\n",
       "      <td>0.000121</td>\n",
       "      <td>1.511590</td>\n",
       "      <td>9</td>\n",
       "    </tr>\n",
       "    <tr>\n",
       "      <th>23</th>\n",
       "      <td>0.001879</td>\n",
       "      <td>0.000094</td>\n",
       "      <td>3.469921</td>\n",
       "      <td>0.001400</td>\n",
       "      <td>0.000568</td>\n",
       "      <td>0.000114</td>\n",
       "      <td>1.427209</td>\n",
       "      <td>9</td>\n",
       "    </tr>\n",
       "    <tr>\n",
       "      <th>24</th>\n",
       "      <td>0.001985</td>\n",
       "      <td>0.000278</td>\n",
       "      <td>5.976566</td>\n",
       "      <td>0.001400</td>\n",
       "      <td>0.000573</td>\n",
       "      <td>0.000114</td>\n",
       "      <td>1.440485</td>\n",
       "      <td>9</td>\n",
       "    </tr>\n",
       "    <tr>\n",
       "      <th>25</th>\n",
       "      <td>0.001910</td>\n",
       "      <td>0.000081</td>\n",
       "      <td>2.935461</td>\n",
       "      <td>0.001400</td>\n",
       "      <td>0.000547</td>\n",
       "      <td>0.000103</td>\n",
       "      <td>1.380626</td>\n",
       "      <td>9</td>\n",
       "    </tr>\n",
       "    <tr>\n",
       "      <th>26</th>\n",
       "      <td>0.001773</td>\n",
       "      <td>0.000071</td>\n",
       "      <td>3.066204</td>\n",
       "      <td>0.001400</td>\n",
       "      <td>0.000543</td>\n",
       "      <td>0.000103</td>\n",
       "      <td>1.379504</td>\n",
       "      <td>9</td>\n",
       "    </tr>\n",
       "    <tr>\n",
       "      <th>27</th>\n",
       "      <td>0.001753</td>\n",
       "      <td>0.000177</td>\n",
       "      <td>4.387032</td>\n",
       "      <td>0.001400</td>\n",
       "      <td>0.000537</td>\n",
       "      <td>0.000099</td>\n",
       "      <td>1.345289</td>\n",
       "      <td>9</td>\n",
       "    </tr>\n",
       "    <tr>\n",
       "      <th>28</th>\n",
       "      <td>0.001791</td>\n",
       "      <td>0.000235</td>\n",
       "      <td>5.927547</td>\n",
       "      <td>0.001400</td>\n",
       "      <td>0.000537</td>\n",
       "      <td>0.000101</td>\n",
       "      <td>1.328063</td>\n",
       "      <td>9</td>\n",
       "    </tr>\n",
       "    <tr>\n",
       "      <th>29</th>\n",
       "      <td>0.001673</td>\n",
       "      <td>0.000156</td>\n",
       "      <td>4.079122</td>\n",
       "      <td>0.001400</td>\n",
       "      <td>0.000514</td>\n",
       "      <td>0.000102</td>\n",
       "      <td>1.393616</td>\n",
       "      <td>9</td>\n",
       "    </tr>\n",
       "    <tr>\n",
       "      <th>30</th>\n",
       "      <td>0.001660</td>\n",
       "      <td>0.000094</td>\n",
       "      <td>3.385797</td>\n",
       "      <td>0.001400</td>\n",
       "      <td>0.000510</td>\n",
       "      <td>0.000098</td>\n",
       "      <td>1.331772</td>\n",
       "      <td>9</td>\n",
       "    </tr>\n",
       "    <tr>\n",
       "      <th>31</th>\n",
       "      <td>0.001710</td>\n",
       "      <td>0.000092</td>\n",
       "      <td>3.464716</td>\n",
       "      <td>0.001400</td>\n",
       "      <td>0.000512</td>\n",
       "      <td>0.000106</td>\n",
       "      <td>1.403749</td>\n",
       "      <td>9</td>\n",
       "    </tr>\n",
       "    <tr>\n",
       "      <th>32</th>\n",
       "      <td>0.001578</td>\n",
       "      <td>0.000072</td>\n",
       "      <td>2.673984</td>\n",
       "      <td>0.001400</td>\n",
       "      <td>0.000527</td>\n",
       "      <td>0.000106</td>\n",
       "      <td>1.418079</td>\n",
       "      <td>9</td>\n",
       "    </tr>\n",
       "    <tr>\n",
       "      <th>33</th>\n",
       "      <td>0.001695</td>\n",
       "      <td>0.000120</td>\n",
       "      <td>3.769431</td>\n",
       "      <td>0.001400</td>\n",
       "      <td>0.000512</td>\n",
       "      <td>0.000097</td>\n",
       "      <td>1.332414</td>\n",
       "      <td>9</td>\n",
       "    </tr>\n",
       "    <tr>\n",
       "      <th>34</th>\n",
       "      <td>0.001813</td>\n",
       "      <td>0.000385</td>\n",
       "      <td>7.324649</td>\n",
       "      <td>0.001400</td>\n",
       "      <td>0.000506</td>\n",
       "      <td>0.000097</td>\n",
       "      <td>1.348118</td>\n",
       "      <td>9</td>\n",
       "    </tr>\n",
       "    <tr>\n",
       "      <th>35</th>\n",
       "      <td>0.001743</td>\n",
       "      <td>0.000056</td>\n",
       "      <td>2.575937</td>\n",
       "      <td>0.001400</td>\n",
       "      <td>0.000487</td>\n",
       "      <td>0.000095</td>\n",
       "      <td>1.338305</td>\n",
       "      <td>9</td>\n",
       "    </tr>\n",
       "    <tr>\n",
       "      <th>36</th>\n",
       "      <td>0.001411</td>\n",
       "      <td>0.000182</td>\n",
       "      <td>5.060116</td>\n",
       "      <td>0.001400</td>\n",
       "      <td>0.000507</td>\n",
       "      <td>0.000101</td>\n",
       "      <td>1.365653</td>\n",
       "      <td>9</td>\n",
       "    </tr>\n",
       "    <tr>\n",
       "      <th>37</th>\n",
       "      <td>0.001579</td>\n",
       "      <td>0.000041</td>\n",
       "      <td>2.046990</td>\n",
       "      <td>0.001400</td>\n",
       "      <td>0.000488</td>\n",
       "      <td>0.000096</td>\n",
       "      <td>1.322924</td>\n",
       "      <td>9</td>\n",
       "    </tr>\n",
       "    <tr>\n",
       "      <th>38</th>\n",
       "      <td>0.001499</td>\n",
       "      <td>0.000124</td>\n",
       "      <td>3.816058</td>\n",
       "      <td>0.001400</td>\n",
       "      <td>0.000490</td>\n",
       "      <td>0.000092</td>\n",
       "      <td>1.296200</td>\n",
       "      <td>9</td>\n",
       "    </tr>\n",
       "    <tr>\n",
       "      <th>39</th>\n",
       "      <td>0.001704</td>\n",
       "      <td>0.000108</td>\n",
       "      <td>3.647645</td>\n",
       "      <td>0.001400</td>\n",
       "      <td>0.000486</td>\n",
       "      <td>0.000094</td>\n",
       "      <td>1.315631</td>\n",
       "      <td>9</td>\n",
       "    </tr>\n",
       "    <tr>\n",
       "      <th>40</th>\n",
       "      <td>0.001705</td>\n",
       "      <td>0.000214</td>\n",
       "      <td>5.528507</td>\n",
       "      <td>0.001400</td>\n",
       "      <td>0.000483</td>\n",
       "      <td>0.000090</td>\n",
       "      <td>1.287060</td>\n",
       "      <td>9</td>\n",
       "    </tr>\n",
       "    <tr>\n",
       "      <th>41</th>\n",
       "      <td>0.001754</td>\n",
       "      <td>0.000062</td>\n",
       "      <td>2.642206</td>\n",
       "      <td>0.001400</td>\n",
       "      <td>0.000476</td>\n",
       "      <td>0.000092</td>\n",
       "      <td>1.285966</td>\n",
       "      <td>9</td>\n",
       "    </tr>\n",
       "    <tr>\n",
       "      <th>42</th>\n",
       "      <td>0.001724</td>\n",
       "      <td>0.000154</td>\n",
       "      <td>4.571071</td>\n",
       "      <td>0.001400</td>\n",
       "      <td>0.000491</td>\n",
       "      <td>0.000098</td>\n",
       "      <td>1.370457</td>\n",
       "      <td>9</td>\n",
       "    </tr>\n",
       "    <tr>\n",
       "      <th>43</th>\n",
       "      <td>0.001872</td>\n",
       "      <td>0.000405</td>\n",
       "      <td>8.014005</td>\n",
       "      <td>0.001400</td>\n",
       "      <td>0.000490</td>\n",
       "      <td>0.000092</td>\n",
       "      <td>1.297255</td>\n",
       "      <td>9</td>\n",
       "    </tr>\n",
       "    <tr>\n",
       "      <th>44</th>\n",
       "      <td>0.001656</td>\n",
       "      <td>0.000093</td>\n",
       "      <td>3.250415</td>\n",
       "      <td>0.001400</td>\n",
       "      <td>0.000475</td>\n",
       "      <td>0.000093</td>\n",
       "      <td>1.313581</td>\n",
       "      <td>9</td>\n",
       "    </tr>\n",
       "    <tr>\n",
       "      <th>45</th>\n",
       "      <td>0.001702</td>\n",
       "      <td>0.000066</td>\n",
       "      <td>2.647574</td>\n",
       "      <td>0.001400</td>\n",
       "      <td>0.000467</td>\n",
       "      <td>0.000088</td>\n",
       "      <td>1.256067</td>\n",
       "      <td>9</td>\n",
       "    </tr>\n",
       "    <tr>\n",
       "      <th>46</th>\n",
       "      <td>0.001630</td>\n",
       "      <td>0.000112</td>\n",
       "      <td>3.782979</td>\n",
       "      <td>0.001400</td>\n",
       "      <td>0.000472</td>\n",
       "      <td>0.000088</td>\n",
       "      <td>1.258346</td>\n",
       "      <td>9</td>\n",
       "    </tr>\n",
       "    <tr>\n",
       "      <th>47</th>\n",
       "      <td>0.001389</td>\n",
       "      <td>0.000171</td>\n",
       "      <td>4.875069</td>\n",
       "      <td>0.001389</td>\n",
       "      <td>0.000467</td>\n",
       "      <td>0.000089</td>\n",
       "      <td>1.288419</td>\n",
       "      <td>47</td>\n",
       "    </tr>\n",
       "    <tr>\n",
       "      <th>48</th>\n",
       "      <td>0.001374</td>\n",
       "      <td>0.000133</td>\n",
       "      <td>4.171185</td>\n",
       "      <td>0.001374</td>\n",
       "      <td>0.000471</td>\n",
       "      <td>0.000090</td>\n",
       "      <td>1.294568</td>\n",
       "      <td>48</td>\n",
       "    </tr>\n",
       "    <tr>\n",
       "      <th>49</th>\n",
       "      <td>0.001675</td>\n",
       "      <td>0.000043</td>\n",
       "      <td>2.095994</td>\n",
       "      <td>0.001374</td>\n",
       "      <td>0.000466</td>\n",
       "      <td>0.000087</td>\n",
       "      <td>1.257649</td>\n",
       "      <td>48</td>\n",
       "    </tr>\n",
       "  </tbody>\n",
       "</table>\n",
       "</div>"
      ],
      "text/plain": [
       "       eval_loss  eval_price_loss   eval_MEA  best_eval_loss  train_loss  \\\n",
       "epoch                                                                      \n",
       "0       0.053319         0.077365  70.417107        0.053319    0.039050   \n",
       "1       0.050821         0.052539  62.416916        0.050821    0.010991   \n",
       "2       0.010455         0.003897  22.450438        0.010455    0.008544   \n",
       "3       0.005315         0.000673  10.397497        0.005315    0.002826   \n",
       "4       0.003692         0.000413   7.457129        0.003692    0.002013   \n",
       "5       0.002920         0.000245   6.323758        0.002920    0.001694   \n",
       "6       0.002415         0.000586  10.914515        0.002415    0.001478   \n",
       "7       0.001931         0.000372   7.918688        0.001931    0.001307   \n",
       "8       0.001467         0.000417   9.238775        0.001467    0.001179   \n",
       "9       0.001400         0.000152   4.790373        0.001400    0.001102   \n",
       "10      0.001495         0.000070   2.871762        0.001400    0.001022   \n",
       "11      0.001840         0.000128   3.507313        0.001400    0.000978   \n",
       "12      0.001704         0.000208   5.579283        0.001400    0.000944   \n",
       "13      0.001814         0.000120   3.688347        0.001400    0.000917   \n",
       "14      0.001868         0.000111   4.145661        0.001400    0.000878   \n",
       "15      0.001738         0.000141   3.954211        0.001400    0.000850   \n",
       "16      0.001808         0.000229   5.516645        0.001400    0.000810   \n",
       "17      0.001990         0.000200   5.058077        0.001400    0.000769   \n",
       "18      0.001842         0.000243   5.950066        0.001400    0.000729   \n",
       "19      0.001929         0.000281   6.162720        0.001400    0.000704   \n",
       "20      0.001842         0.000101   3.719377        0.001400    0.000651   \n",
       "21      0.002261         0.000621   9.854460        0.001400    0.000611   \n",
       "22      0.001862         0.000110   3.515696        0.001400    0.000601   \n",
       "23      0.001879         0.000094   3.469921        0.001400    0.000568   \n",
       "24      0.001985         0.000278   5.976566        0.001400    0.000573   \n",
       "25      0.001910         0.000081   2.935461        0.001400    0.000547   \n",
       "26      0.001773         0.000071   3.066204        0.001400    0.000543   \n",
       "27      0.001753         0.000177   4.387032        0.001400    0.000537   \n",
       "28      0.001791         0.000235   5.927547        0.001400    0.000537   \n",
       "29      0.001673         0.000156   4.079122        0.001400    0.000514   \n",
       "30      0.001660         0.000094   3.385797        0.001400    0.000510   \n",
       "31      0.001710         0.000092   3.464716        0.001400    0.000512   \n",
       "32      0.001578         0.000072   2.673984        0.001400    0.000527   \n",
       "33      0.001695         0.000120   3.769431        0.001400    0.000512   \n",
       "34      0.001813         0.000385   7.324649        0.001400    0.000506   \n",
       "35      0.001743         0.000056   2.575937        0.001400    0.000487   \n",
       "36      0.001411         0.000182   5.060116        0.001400    0.000507   \n",
       "37      0.001579         0.000041   2.046990        0.001400    0.000488   \n",
       "38      0.001499         0.000124   3.816058        0.001400    0.000490   \n",
       "39      0.001704         0.000108   3.647645        0.001400    0.000486   \n",
       "40      0.001705         0.000214   5.528507        0.001400    0.000483   \n",
       "41      0.001754         0.000062   2.642206        0.001400    0.000476   \n",
       "42      0.001724         0.000154   4.571071        0.001400    0.000491   \n",
       "43      0.001872         0.000405   8.014005        0.001400    0.000490   \n",
       "44      0.001656         0.000093   3.250415        0.001400    0.000475   \n",
       "45      0.001702         0.000066   2.647574        0.001400    0.000467   \n",
       "46      0.001630         0.000112   3.782979        0.001400    0.000472   \n",
       "47      0.001389         0.000171   4.875069        0.001389    0.000467   \n",
       "48      0.001374         0.000133   4.171185        0.001374    0.000471   \n",
       "49      0.001675         0.000043   2.095994        0.001374    0.000466   \n",
       "\n",
       "       train_price_loss  train_MAE  best_epoch  \n",
       "epoch                                           \n",
       "0              0.031237  32.659466           0  \n",
       "1              0.009960  13.133412           1  \n",
       "2              0.006661  11.067995           2  \n",
       "3              0.000950   4.588628           3  \n",
       "4              0.000435   3.228149           4  \n",
       "5              0.000371   2.892724           5  \n",
       "6              0.000358   3.003708           6  \n",
       "7              0.000328   2.913553           7  \n",
       "8              0.000280   2.625517           8  \n",
       "9              0.000256   2.433744           9  \n",
       "10             0.000201   2.001395           9  \n",
       "11             0.000180   1.847718           9  \n",
       "12             0.000164   1.731641           9  \n",
       "13             0.000158   1.685370           9  \n",
       "14             0.000156   1.723303           9  \n",
       "15             0.000151   1.651265           9  \n",
       "16             0.000146   1.595335           9  \n",
       "17             0.000149   1.621169           9  \n",
       "18             0.000150   1.581798           9  \n",
       "19             0.000144   1.582143           9  \n",
       "20             0.000125   1.507197           9  \n",
       "21             0.000116   1.385624           9  \n",
       "22             0.000121   1.511590           9  \n",
       "23             0.000114   1.427209           9  \n",
       "24             0.000114   1.440485           9  \n",
       "25             0.000103   1.380626           9  \n",
       "26             0.000103   1.379504           9  \n",
       "27             0.000099   1.345289           9  \n",
       "28             0.000101   1.328063           9  \n",
       "29             0.000102   1.393616           9  \n",
       "30             0.000098   1.331772           9  \n",
       "31             0.000106   1.403749           9  \n",
       "32             0.000106   1.418079           9  \n",
       "33             0.000097   1.332414           9  \n",
       "34             0.000097   1.348118           9  \n",
       "35             0.000095   1.338305           9  \n",
       "36             0.000101   1.365653           9  \n",
       "37             0.000096   1.322924           9  \n",
       "38             0.000092   1.296200           9  \n",
       "39             0.000094   1.315631           9  \n",
       "40             0.000090   1.287060           9  \n",
       "41             0.000092   1.285966           9  \n",
       "42             0.000098   1.370457           9  \n",
       "43             0.000092   1.297255           9  \n",
       "44             0.000093   1.313581           9  \n",
       "45             0.000088   1.256067           9  \n",
       "46             0.000088   1.258346           9  \n",
       "47             0.000089   1.288419          47  \n",
       "48             0.000090   1.294568          48  \n",
       "49             0.000087   1.257649          48  "
      ]
     },
     "execution_count": 42,
     "metadata": {},
     "output_type": "execute_result"
    }
   ],
   "source": [
    "df_metrics = pd.DataFrame(metrics_list)\n",
    "df_metrics = df_metrics.set_index(\"epoch\")\n",
    "df_metrics"
   ]
  },
  {
   "cell_type": "code",
   "execution_count": 43,
   "metadata": {},
   "outputs": [
    {
     "data": {
      "text/plain": [
       "<Axes: xlabel='epoch'>"
      ]
     },
     "execution_count": 43,
     "metadata": {},
     "output_type": "execute_result"
    },
    {
     "data": {
      "image/png": "[encoded data removed]",
      "text/plain": [
       "<Figure size 640x480 with 1 Axes>"
      ]
     },
     "metadata": {},
     "output_type": "display_data"
    }
   ],
   "source": [
    "df_metrics[['eval_loss', 'train_loss']].plot()"
   ]
  },
  {
   "cell_type": "code",
   "execution_count": 44,
   "metadata": {},
   "outputs": [
    {
     "data": {
      "text/plain": [
       "<Axes: xlabel='epoch'>"
      ]
     },
     "execution_count": 44,
     "metadata": {},
     "output_type": "execute_result"
    },
    {
     "data": {
      "image/png": "[encoded data removed]",
      "text/plain": [
       "<Figure size 640x480 with 1 Axes>"
      ]
     },
     "metadata": {},
     "output_type": "display_data"
    }
   ],
   "source": [
    "df_metrics[['eval_MEA', 'train_MAE']].plot()"
   ]
  },
  {
   "cell_type": "code",
   "execution_count": 45,
   "metadata": {},
   "outputs": [],
   "source": [
    "best_model = BiLSTMModel(input_size=config.input_size, lstm_num_layers=config.lstm_num_layers,\n",
    "                         hidden_size=config.hidden_size, output_size=config.output_size,\n",
    "                         device=config.device)"
   ]
  },
  {
   "cell_type": "code",
   "execution_count": 46,
   "metadata": {},
   "outputs": [
    {
     "data": {
      "text/plain": [
       "'models/v1/b56e8de1-a58a-4150-b232-bac727e01dae/checkpoint-48/pytorch_model.pt'"
      ]
     },
     "execution_count": 46,
     "metadata": {},
     "output_type": "execute_result"
    }
   ],
   "source": [
    "best_model_path"
   ]
  },
  {
   "cell_type": "code",
   "execution_count": 47,
   "metadata": {},
   "outputs": [
    {
     "data": {
      "text/plain": [
       "BiLSTMModel(\n",
       "  (lstm): LSTM(5, 32, num_layers=3, batch_first=True, bidirectional=True)\n",
       "  (fc1): Linear(in_features=64, out_features=5, bias=True)\n",
       "  (fc2): Linear(in_features=10, out_features=5, bias=True)\n",
       "  (sigmoid): Sigmoid()\n",
       ")"
      ]
     },
     "execution_count": 47,
     "metadata": {},
     "output_type": "execute_result"
    }
   ],
   "source": [
    "best_model.load_state_dict(torch.load(best_model_path))\n",
    "best_model.eval()\n",
    "best_model.to(config.device)"
   ]
  },
  {
   "cell_type": "code",
   "execution_count": 48,
   "metadata": {},
   "outputs": [
    {
     "name": "stderr",
     "output_type": "stream",
     "text": [
      "Evaluating:: 100%|██████████| 209/209 [00:00<00:00, 245.85it/s]\n"
     ]
    },
    {
     "data": {
      "text/plain": [
       "{'eval_loss': 0.0013735338172548937,\n",
       " 'eval_price_loss': 0.00013254115611509065,\n",
       " 'eval_MEA': 4.1711855}"
      ]
     },
     "execution_count": 48,
     "metadata": {},
     "output_type": "execute_result"
    }
   ],
   "source": [
    "evaluate(model=best_model, test_loader=test_loader,\n",
    "         scaler=scaler, criterion=criterion)"
   ]
  },
  {
   "cell_type": "code",
   "execution_count": 49,
   "metadata": {},
   "outputs": [
    {
     "name": "stderr",
     "output_type": "stream",
     "text": [
      "Evaluating:: 100%|██████████| 209/209 [00:00<00:00, 236.30it/s]\n"
     ]
    }
   ],
   "source": [
    "best_model.eval()\n",
    "\n",
    "prediction_list = []\n",
    "ground_truth_list = []\n",
    "eval_loss_list = []\n",
    "price_loss_list = []\n",
    "\n",
    "dataset_loader = DataLoader(test_dataset, config.batch_size,\n",
    "                            shuffle=False, drop_last=False)\n",
    "pbar = tqdm(total=len(dataset_loader),\n",
    "            desc=\"Evaluating:\", position=0, leave=True)\n",
    "\n",
    "with torch.no_grad():\n",
    "    for inputs, targets in dataset_loader:\n",
    "        outputs = best_model(inputs)\n",
    "        loss = criterion(outputs, targets)\n",
    "\n",
    "        price_loss = criterion(outputs[:, -1], targets[:, -1])\n",
    "\n",
    "        yhat = outputs[:, -1].cpu().numpy()\n",
    "        prediction_list.append(yhat)\n",
    "\n",
    "        y = targets[:, -1].cpu().numpy()\n",
    "        ground_truth_list.append(y)\n",
    "\n",
    "        eval_loss_list.append(loss.item())\n",
    "        price_loss_list.append(price_loss.item())\n",
    "\n",
    "        pbar.update(1)\n",
    "    pbar.close()\n",
    "\n",
    "predictions = np.concatenate(prediction_list)\n",
    "ground_truths = np.concatenate(ground_truth_list)\n",
    "\n",
    "predictions = np.exp(scaler.inverse_transform(\n",
    "    predictions.reshape(-1, 1)))[:, 0]\n",
    "ground_truths = np.exp(scaler.inverse_transform(\n",
    "    ground_truths.reshape(-1, 1)))[:, 0]\n",
    "\n",
    "mae = metrics.mean_absolute_error(ground_truths, predictions)\n",
    "\n",
    "eval_metrics = {}\n",
    "eval_metrics['eval_loss'] = sum(eval_loss_list)/len(eval_loss_list)\n",
    "eval_metrics['eval_price_loss'] = sum(price_loss_list)/len(price_loss_list)\n",
    "eval_metrics['eval_MEA'] = mae"
   ]
  },
  {
   "cell_type": "code",
   "execution_count": 54,
   "metadata": {},
   "outputs": [
    {
     "data": {
      "text/plain": [
       "{'eval_loss': 0.0013735338172548937,\n",
       " 'eval_price_loss': 0.00013254115611509065,\n",
       " 'eval_MEA': 4.1711855}"
      ]
     },
     "execution_count": 54,
     "metadata": {},
     "output_type": "execute_result"
    }
   ],
   "source": [
    "eval_metrics"
   ]
  },
  {
   "cell_type": "code",
   "execution_count": 50,
   "metadata": {},
   "outputs": [],
   "source": [
    "df_tmp = pd.DataFrame()"
   ]
  },
  {
   "cell_type": "code",
   "execution_count": 51,
   "metadata": {},
   "outputs": [],
   "source": [
    "df_tmp['prediction'] = predictions\n",
    "df_tmp['real'] = ground_truths"
   ]
  },
  {
   "cell_type": "code",
   "execution_count": 52,
   "metadata": {},
   "outputs": [
    {
     "data": {
      "text/html": [
       "<div>\n",
       "<style scoped>\n",
       "    .dataframe tbody tr th:only-of-type {\n",
       "        vertical-align: middle;\n",
       "    }\n",
       "\n",
       "    .dataframe tbody tr th {\n",
       "        vertical-align: top;\n",
       "    }\n",
       "\n",
       "    .dataframe thead th {\n",
       "        text-align: right;\n",
       "    }\n",
       "</style>\n",
       "<table border=\"1\" class=\"dataframe\">\n",
       "  <thead>\n",
       "    <tr style=\"text-align: right;\">\n",
       "      <th></th>\n",
       "      <th>prediction</th>\n",
       "      <th>real</th>\n",
       "    </tr>\n",
       "  </thead>\n",
       "  <tbody>\n",
       "    <tr>\n",
       "      <th>0</th>\n",
       "      <td>46.560726</td>\n",
       "      <td>45.919998</td>\n",
       "    </tr>\n",
       "    <tr>\n",
       "      <th>1</th>\n",
       "      <td>45.946533</td>\n",
       "      <td>45.489998</td>\n",
       "    </tr>\n",
       "    <tr>\n",
       "      <th>2</th>\n",
       "      <td>45.246571</td>\n",
       "      <td>44.160000</td>\n",
       "    </tr>\n",
       "    <tr>\n",
       "      <th>3</th>\n",
       "      <td>44.975269</td>\n",
       "      <td>44.309990</td>\n",
       "    </tr>\n",
       "    <tr>\n",
       "      <th>4</th>\n",
       "      <td>44.864746</td>\n",
       "      <td>44.349995</td>\n",
       "    </tr>\n",
       "  </tbody>\n",
       "</table>\n",
       "</div>"
      ],
      "text/plain": [
       "   prediction       real\n",
       "0   46.560726  45.919998\n",
       "1   45.946533  45.489998\n",
       "2   45.246571  44.160000\n",
       "3   44.975269  44.309990\n",
       "4   44.864746  44.349995"
      ]
     },
     "execution_count": 52,
     "metadata": {},
     "output_type": "execute_result"
    }
   ],
   "source": [
    "df_tmp.head()"
   ]
  },
  {
   "cell_type": "code",
   "execution_count": 53,
   "metadata": {},
   "outputs": [
    {
     "data": {
      "text/plain": [
       "<Axes: >"
      ]
     },
     "execution_count": 53,
     "metadata": {},
     "output_type": "execute_result"
    },
    {
     "data": {
      "image/png": "[encoded data removed]",
      "text/plain": [
       "<Figure size 640x480 with 1 Axes>"
      ]
     },
     "metadata": {},
     "output_type": "display_data"
    }
   ],
   "source": [
    "df_tmp.plot()"
   ]
  },
  {
   "cell_type": "code",
   "execution_count": null,
   "metadata": {},
   "outputs": [],
   "source": []
  },
  {
   "cell_type": "markdown",
   "metadata": {},
   "source": []
  }
 ],
 "metadata": {
  "kernelspec": {
   "display_name": "torch",
   "language": "python",
   "name": "python3"
  },
  "language_info": {
   "codemirror_mode": {
    "name": "ipython",
    "version": 3
   },
   "file_extension": ".py",
   "mimetype": "text/x-python",
   "name": "python",
   "nbconvert_exporter": "python",
   "pygments_lexer": "ipython3",
   "version": "3.11.3"
  }
 },
 "nbformat": 4,
 "nbformat_minor": 2
}
