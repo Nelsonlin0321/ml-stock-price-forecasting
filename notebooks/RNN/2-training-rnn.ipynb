{
 "cells": [
  {
   "cell_type": "code",
   "execution_count": 1,
   "metadata": {},
   "outputs": [],
   "source": [
    "%load_ext autoreload\n",
    "%autoreload 2"
   ]
  },
  {
   "cell_type": "code",
   "execution_count": 2,
   "metadata": {},
   "outputs": [],
   "source": [
    "import sys\n",
    "sys.path.insert(0, \"./../../\")"
   ]
  },
  {
   "cell_type": "code",
   "execution_count": 3,
   "metadata": {},
   "outputs": [],
   "source": [
    "from src import utils\n",
    "from evaluation import evaluate\n",
    "from training_utils import save_model"
   ]
  },
  {
   "cell_type": "code",
   "execution_count": 4,
   "metadata": {},
   "outputs": [],
   "source": [
    "import os\n",
    "import torch\n",
    "import torch.nn as nn\n",
    "import numpy as np\n",
    "import pandas as pd\n",
    "import random\n",
    "from torch import optim\n",
    "from sklearn import metrics\n",
    "from tqdm import tqdm\n",
    "from torch.utils.data import Dataset, DataLoader"
   ]
  },
  {
   "cell_type": "code",
   "execution_count": 5,
   "metadata": {},
   "outputs": [],
   "source": [
    "# Set random seed for reproducibility\n",
    "torch.manual_seed(0)\n",
    "np.random.seed(0)\n",
    "random.seed(0)\n",
    "if torch.cuda.is_available():\n",
    "    torch.backends.cudnn.deterministic = True\n",
    "    torch.backends.cudnn.benchmark = False"
   ]
  },
  {
   "cell_type": "code",
   "execution_count": 6,
   "metadata": {},
   "outputs": [],
   "source": [
    "scaler_dict = utils.open_object(\"./artifacts/feature_scaler.pkl\")"
   ]
  },
  {
   "cell_type": "code",
   "execution_count": 7,
   "metadata": {},
   "outputs": [],
   "source": [
    "config_dict = {}\n",
    "config_dict['window_size'] = 32\n",
    "config_dict['learning_rate'] = 0.0002\n",
    "config_dict['batch_size'] = 12\n",
    "config_dict['epochs'] = 50\n",
    "config_dict['device'] = \"cuda\" if torch.cuda.is_available() else \"cpu\"\n",
    "config_dict['input_size'] = 5\n",
    "config_dict['hidden_size'] = 32\n",
    "config_dict['output_size'] = config_dict['input_size']\n",
    "config_dict['lstm_num_layers'] = 3\n",
    "config_dict['dropout'] = 0.2"
   ]
  },
  {
   "cell_type": "code",
   "execution_count": 8,
   "metadata": {},
   "outputs": [],
   "source": [
    "class Config:\n",
    "    def __init__(self, dictionary):\n",
    "        for key, value in dictionary.items():\n",
    "            setattr(self, key, value)\n",
    "\n",
    "\n",
    "config = Config(dictionary=config_dict)"
   ]
  },
  {
   "cell_type": "markdown",
   "metadata": {},
   "source": [
    "### (1) Read Data"
   ]
  },
  {
   "cell_type": "code",
   "execution_count": 9,
   "metadata": {},
   "outputs": [],
   "source": [
    "df = pd.read_parquet(\"./artifacts/processed_data.parquet\")"
   ]
  },
  {
   "cell_type": "code",
   "execution_count": 10,
   "metadata": {},
   "outputs": [],
   "source": [
    "df = df.sort_values(by='date').reset_index(drop=True)"
   ]
  },
  {
   "cell_type": "code",
   "execution_count": 11,
   "metadata": {},
   "outputs": [],
   "source": [
    "df = df[df['date'] < \"2020-01-01\"].copy()"
   ]
  },
  {
   "cell_type": "code",
   "execution_count": 12,
   "metadata": {},
   "outputs": [
    {
     "data": {
      "text/html": [
       "<div>\n",
       "<style scoped>\n",
       "    .dataframe tbody tr th:only-of-type {\n",
       "        vertical-align: middle;\n",
       "    }\n",
       "\n",
       "    .dataframe tbody tr th {\n",
       "        vertical-align: top;\n",
       "    }\n",
       "\n",
       "    .dataframe thead th {\n",
       "        text-align: right;\n",
       "    }\n",
       "</style>\n",
       "<table border=\"1\" class=\"dataframe\">\n",
       "  <thead>\n",
       "    <tr style=\"text-align: right;\">\n",
       "      <th></th>\n",
       "      <th>date</th>\n",
       "      <th>open</th>\n",
       "      <th>high</th>\n",
       "      <th>low</th>\n",
       "      <th>close</th>\n",
       "      <th>volume</th>\n",
       "    </tr>\n",
       "  </thead>\n",
       "  <tbody>\n",
       "    <tr>\n",
       "      <th>5069</th>\n",
       "      <td>2019-12-24</td>\n",
       "      <td>0.603589</td>\n",
       "      <td>0.600527</td>\n",
       "      <td>0.604402</td>\n",
       "      <td>0.603276</td>\n",
       "      <td>0.086608</td>\n",
       "    </tr>\n",
       "    <tr>\n",
       "      <th>5070</th>\n",
       "      <td>2019-12-26</td>\n",
       "      <td>0.603902</td>\n",
       "      <td>0.602605</td>\n",
       "      <td>0.605353</td>\n",
       "      <td>0.605524</td>\n",
       "      <td>0.221727</td>\n",
       "    </tr>\n",
       "    <tr>\n",
       "      <th>5071</th>\n",
       "      <td>2019-12-27</td>\n",
       "      <td>0.606630</td>\n",
       "      <td>0.603505</td>\n",
       "      <td>0.606324</td>\n",
       "      <td>0.605309</td>\n",
       "      <td>0.230241</td>\n",
       "    </tr>\n",
       "    <tr>\n",
       "      <th>5072</th>\n",
       "      <td>2019-12-30</td>\n",
       "      <td>0.605390</td>\n",
       "      <td>0.602388</td>\n",
       "      <td>0.604064</td>\n",
       "      <td>0.603626</td>\n",
       "      <td>0.258524</td>\n",
       "    </tr>\n",
       "    <tr>\n",
       "      <th>5073</th>\n",
       "      <td>2019-12-31</td>\n",
       "      <td>0.603131</td>\n",
       "      <td>0.601339</td>\n",
       "      <td>0.604112</td>\n",
       "      <td>0.604108</td>\n",
       "      <td>0.230740</td>\n",
       "    </tr>\n",
       "  </tbody>\n",
       "</table>\n",
       "</div>"
      ],
      "text/plain": [
       "            date      open      high       low     close    volume\n",
       "5069  2019-12-24  0.603589  0.600527  0.604402  0.603276  0.086608\n",
       "5070  2019-12-26  0.603902  0.602605  0.605353  0.605524  0.221727\n",
       "5071  2019-12-27  0.606630  0.603505  0.606324  0.605309  0.230241\n",
       "5072  2019-12-30  0.605390  0.602388  0.604064  0.603626  0.258524\n",
       "5073  2019-12-31  0.603131  0.601339  0.604112  0.604108  0.230740"
      ]
     },
     "execution_count": 12,
     "metadata": {},
     "output_type": "execute_result"
    }
   ],
   "source": [
    "df.tail()"
   ]
  },
  {
   "cell_type": "markdown",
   "metadata": {},
   "source": [
    "### (2) Split the data into train and test sets"
   ]
  },
  {
   "cell_type": "code",
   "execution_count": 13,
   "metadata": {},
   "outputs": [],
   "source": [
    "features_cols = [\"volume\", \"high\", \"low\", \"open\", \"close\"]\n",
    "\n",
    "df_data = df[features_cols].copy()"
   ]
  },
  {
   "cell_type": "code",
   "execution_count": 14,
   "metadata": {},
   "outputs": [
    {
     "data": {
      "text/html": [
       "<div>\n",
       "<style scoped>\n",
       "    .dataframe tbody tr th:only-of-type {\n",
       "        vertical-align: middle;\n",
       "    }\n",
       "\n",
       "    .dataframe tbody tr th {\n",
       "        vertical-align: top;\n",
       "    }\n",
       "\n",
       "    .dataframe thead th {\n",
       "        text-align: right;\n",
       "    }\n",
       "</style>\n",
       "<table border=\"1\" class=\"dataframe\">\n",
       "  <thead>\n",
       "    <tr style=\"text-align: right;\">\n",
       "      <th></th>\n",
       "      <th>volume</th>\n",
       "      <th>high</th>\n",
       "      <th>low</th>\n",
       "      <th>open</th>\n",
       "      <th>close</th>\n",
       "    </tr>\n",
       "  </thead>\n",
       "  <tbody>\n",
       "    <tr>\n",
       "      <th>0</th>\n",
       "      <td>0.028304</td>\n",
       "      <td>0.480709</td>\n",
       "      <td>0.481546</td>\n",
       "      <td>0.481644</td>\n",
       "      <td>0.479795</td>\n",
       "    </tr>\n",
       "    <tr>\n",
       "      <th>1</th>\n",
       "      <td>0.071394</td>\n",
       "      <td>0.480709</td>\n",
       "      <td>0.481156</td>\n",
       "      <td>0.481644</td>\n",
       "      <td>0.479990</td>\n",
       "    </tr>\n",
       "    <tr>\n",
       "      <th>2</th>\n",
       "      <td>0.129351</td>\n",
       "      <td>0.483017</td>\n",
       "      <td>0.485037</td>\n",
       "      <td>0.484156</td>\n",
       "      <td>0.485023</td>\n",
       "    </tr>\n",
       "    <tr>\n",
       "      <th>3</th>\n",
       "      <td>0.139565</td>\n",
       "      <td>0.485494</td>\n",
       "      <td>0.487338</td>\n",
       "      <td>0.489107</td>\n",
       "      <td>0.487883</td>\n",
       "    </tr>\n",
       "    <tr>\n",
       "      <th>4</th>\n",
       "      <td>0.096587</td>\n",
       "      <td>0.490750</td>\n",
       "      <td>0.492627</td>\n",
       "      <td>0.493593</td>\n",
       "      <td>0.490523</td>\n",
       "    </tr>\n",
       "  </tbody>\n",
       "</table>\n",
       "</div>"
      ],
      "text/plain": [
       "     volume      high       low      open     close\n",
       "0  0.028304  0.480709  0.481546  0.481644  0.479795\n",
       "1  0.071394  0.480709  0.481156  0.481644  0.479990\n",
       "2  0.129351  0.483017  0.485037  0.484156  0.485023\n",
       "3  0.139565  0.485494  0.487338  0.489107  0.487883\n",
       "4  0.096587  0.490750  0.492627  0.493593  0.490523"
      ]
     },
     "execution_count": 14,
     "metadata": {},
     "output_type": "execute_result"
    }
   ],
   "source": [
    "df_data.head()"
   ]
  },
  {
   "cell_type": "code",
   "execution_count": 15,
   "metadata": {},
   "outputs": [],
   "source": [
    "train_size = int(0.5 * len(df_data))\n",
    "df_train = df_data[:train_size]\n",
    "df_test = df_data[train_size:]"
   ]
  },
  {
   "cell_type": "markdown",
   "metadata": {},
   "source": [
    "### (3) Create Sequence of input and output"
   ]
  },
  {
   "cell_type": "code",
   "execution_count": 16,
   "metadata": {},
   "outputs": [],
   "source": [
    "# Custom dataset class\n",
    "class TimeSeriesDataset(Dataset):\n",
    "    def __init__(self, data, window_size):\n",
    "        self.data = data\n",
    "        self.window_size = window_size\n",
    "\n",
    "    def __len__(self):\n",
    "        return len(self.data) - self.window_size\n",
    "\n",
    "    def __getitem__(self, idx):\n",
    "        inputs = torch.tensor(\n",
    "            self.data[idx:idx+self.window_size], dtype=torch.float32)\n",
    "        target = torch.tensor(\n",
    "            self.data[idx+self.window_size], dtype=torch.float32)\n",
    "        return inputs, target"
   ]
  },
  {
   "cell_type": "code",
   "execution_count": 17,
   "metadata": {},
   "outputs": [],
   "source": [
    "train_dataset = TimeSeriesDataset(\n",
    "    data=df_train.values, window_size=config.window_size)"
   ]
  },
  {
   "cell_type": "code",
   "execution_count": 18,
   "metadata": {},
   "outputs": [],
   "source": [
    "test_dataset = TimeSeriesDataset(\n",
    "    data=df_test.values, window_size=config.window_size)"
   ]
  },
  {
   "cell_type": "code",
   "execution_count": 19,
   "metadata": {},
   "outputs": [],
   "source": [
    "train_loader = DataLoader(train_dataset, config.batch_size,\n",
    "                          shuffle=True, drop_last=True)\n",
    "test_loader = DataLoader(test_dataset,\n",
    "                         config.batch_size, shuffle=False)"
   ]
  },
  {
   "cell_type": "code",
   "execution_count": 20,
   "metadata": {},
   "outputs": [],
   "source": [
    "for inputs, targets in train_loader:\n",
    "    break"
   ]
  },
  {
   "cell_type": "code",
   "execution_count": 21,
   "metadata": {},
   "outputs": [
    {
     "data": {
      "text/plain": [
       "torch.Size([12, 32, 5])"
      ]
     },
     "execution_count": 21,
     "metadata": {},
     "output_type": "execute_result"
    }
   ],
   "source": [
    "inputs.shape  # batch_size, sequence_len, features"
   ]
  },
  {
   "cell_type": "code",
   "execution_count": 22,
   "metadata": {},
   "outputs": [
    {
     "data": {
      "text/plain": [
       "torch.Size([12, 5])"
      ]
     },
     "execution_count": 22,
     "metadata": {},
     "output_type": "execute_result"
    }
   ],
   "source": [
    "targets.shape  # batch_size, features"
   ]
  },
  {
   "cell_type": "markdown",
   "metadata": {},
   "source": [
    "### (4) Modeling"
   ]
  },
  {
   "cell_type": "code",
   "execution_count": 23,
   "metadata": {},
   "outputs": [],
   "source": [
    "criterion = nn.MSELoss()"
   ]
  },
  {
   "cell_type": "code",
   "execution_count": 24,
   "metadata": {},
   "outputs": [],
   "source": [
    "class BiLSTMModel(nn.Module):\n",
    "    def __init__(self, input_size, lstm_num_layers, hidden_size, output_size, device):\n",
    "        super(BiLSTMModel, self).__init__()\n",
    "        self.device = device\n",
    "        self.lstm_num_layers = lstm_num_layers\n",
    "        self.hidden_size = hidden_size\n",
    "        self.lstm = nn.LSTM(input_size, hidden_size,\n",
    "                            num_layers=lstm_num_layers, batch_first=True, bidirectional=True)\n",
    "        self.fc1 = nn.Linear(hidden_size * 2, output_size)\n",
    "        self.fc2 = nn.Linear(output_size*2, output_size)\n",
    "        self.sigmoid = nn.Sigmoid()\n",
    "\n",
    "    def forward(self, x):\n",
    "        h0 = torch.zeros(2*self.lstm_num_layers, x.size(0), self.hidden_size).to(\n",
    "            self.device)\n",
    "        c0 = torch.zeros(2*self.lstm_num_layers, x.size(0), self.hidden_size).to(\n",
    "            self.device)\n",
    "        out, _ = self.lstm(x, (h0, c0))\n",
    "        out = self.fc1(out[:, -1, :])\n",
    "        out = self.fc2(torch.concat([out, x[:, -1, :]], dim=1))\n",
    "        out = self.sigmoid(out)\n",
    "\n",
    "        return out"
   ]
  },
  {
   "cell_type": "code",
   "execution_count": 25,
   "metadata": {},
   "outputs": [],
   "source": [
    "model = BiLSTMModel(input_size=config.input_size, lstm_num_layers=config.lstm_num_layers,\n",
    "                    hidden_size=config.hidden_size, output_size=config.output_size,\n",
    "                    device=config.device)"
   ]
  },
  {
   "cell_type": "code",
   "execution_count": 26,
   "metadata": {},
   "outputs": [],
   "source": [
    "x = torch.randn(config.batch_size, config.window_size, config.input_size)"
   ]
  },
  {
   "cell_type": "code",
   "execution_count": 27,
   "metadata": {},
   "outputs": [],
   "source": [
    "with torch.no_grad():\n",
    "    out = model(x)"
   ]
  },
  {
   "cell_type": "code",
   "execution_count": 28,
   "metadata": {},
   "outputs": [
    {
     "data": {
      "text/plain": [
       "tensor(0.0810)"
      ]
     },
     "execution_count": 28,
     "metadata": {},
     "output_type": "execute_result"
    }
   ],
   "source": [
    "criterion(out, targets)"
   ]
  },
  {
   "cell_type": "code",
   "execution_count": 29,
   "metadata": {},
   "outputs": [
    {
     "data": {
      "text/plain": [
       "tensor(0.0658)"
      ]
     },
     "execution_count": 29,
     "metadata": {},
     "output_type": "execute_result"
    }
   ],
   "source": [
    "criterion(out[:, -1], targets[:, -1])"
   ]
  },
  {
   "cell_type": "code",
   "execution_count": 30,
   "metadata": {},
   "outputs": [],
   "source": [
    "# class self:\n",
    "#     pass"
   ]
  },
  {
   "cell_type": "code",
   "execution_count": 31,
   "metadata": {},
   "outputs": [],
   "source": [
    "# input_size = config.input_size\n",
    "# lstm_num_layers = config.lstm_num_layers\n",
    "# hidden_size = config.hidden_size\n",
    "# output_size = config.output_size\n",
    "# device = config.device"
   ]
  },
  {
   "cell_type": "code",
   "execution_count": 32,
   "metadata": {},
   "outputs": [],
   "source": [
    "# self.device = device\n",
    "# self.lstm_num_layers = lstm_num_layers\n",
    "# self.hidden_size = hidden_size\n",
    "# self.lstm = nn.LSTM(input_size, hidden_size,\n",
    "#                     num_layers=lstm_num_layers, batch_first=True, bidirectional=True)\n",
    "# self.fc = nn.Linear(hidden_size * 2, output_size)\n",
    "# self.sigmoid = nn.Sigmoid()"
   ]
  },
  {
   "cell_type": "code",
   "execution_count": 33,
   "metadata": {},
   "outputs": [],
   "source": [
    "# h0 = torch.zeros(2*self.lstm_num_layers, x.size(0), self.hidden_size).to(\n",
    "#     self.device)\n",
    "# c0 = torch.zeros(2*self.lstm_num_layers, x.size(0), self.hidden_size).to(\n",
    "#     self.device)\n",
    "# out, _ = self.lstm(x, (h0, c0))\n",
    "# out = self.fc(out[:, -1, :])\n",
    "# # out = self.sigmoid(out)"
   ]
  },
  {
   "cell_type": "code",
   "execution_count": 34,
   "metadata": {},
   "outputs": [],
   "source": [
    "# out.shape"
   ]
  },
  {
   "cell_type": "code",
   "execution_count": 35,
   "metadata": {},
   "outputs": [],
   "source": [
    "# torch.concat([out, x[:, -1, :]], dim=1)"
   ]
  },
  {
   "cell_type": "code",
   "execution_count": 36,
   "metadata": {},
   "outputs": [],
   "source": [
    "# out[:, -1, :].shape"
   ]
  },
  {
   "cell_type": "code",
   "execution_count": 37,
   "metadata": {},
   "outputs": [],
   "source": [
    "# x.shape"
   ]
  },
  {
   "cell_type": "markdown",
   "metadata": {},
   "source": [
    "### (5) Training"
   ]
  },
  {
   "cell_type": "code",
   "execution_count": 38,
   "metadata": {},
   "outputs": [],
   "source": [
    "scaler = scaler_dict['close']"
   ]
  },
  {
   "cell_type": "code",
   "execution_count": 39,
   "metadata": {},
   "outputs": [
    {
     "name": "stderr",
     "output_type": "stream",
     "text": [
      "Evaluating:: 100%|██████████| 209/209 [00:00<00:00, 239.75it/s]\n"
     ]
    },
    {
     "data": {
      "text/plain": [
       "{'eval_loss': 0.02399406847978483,\n",
       " 'eval_price_loss': 0.018334252012303178,\n",
       " 'eval_MAE': 44.59252}"
      ]
     },
     "execution_count": 39,
     "metadata": {},
     "output_type": "execute_result"
    }
   ],
   "source": [
    "evaluate(model=model, test_loader=test_loader,\n",
    "         scaler=scaler, criterion=criterion)"
   ]
  },
  {
   "cell_type": "code",
   "execution_count": 40,
   "metadata": {},
   "outputs": [],
   "source": [
    "optimizer = optim.Adam(model.parameters(), lr=config.learning_rate)\n",
    "best_eval_MAE = float(\"inf\")\n",
    "model_version = \"v1\"\n",
    "metrics_list = []\n",
    "best_model_path = None"
   ]
  },
  {
   "cell_type": "code",
   "execution_count": 41,
   "metadata": {},
   "outputs": [
    {
     "name": "stderr",
     "output_type": "stream",
     "text": [
      "Evaluating:: 100%|██████████| 209/209 [00:00<00:00, 257.47it/s]\n",
      "Evaluating:: 100%|██████████| 209/209 [00:00<00:00, 242.35it/s]val_loss=0.0533, eval_price_loss=0.0774, eval_MAE=70.4, best_eval_MAE=70.4, train_loss=0.0391, train_price_loss=0.0312, train_MAE=32.7, epoch=0, best_epoch=0]\n",
      "Evaluating:: 100%|██████████| 209/209 [00:00<00:00, 247.36it/s]val_loss=0.0508, eval_price_loss=0.0525, eval_MAE=62.4, best_eval_MAE=62.4, train_loss=0.011, train_price_loss=0.01, train_MAE=13.1, epoch=1, best_epoch=1]   \n",
      "Evaluating:: 100%|██████████| 209/209 [00:00<00:00, 260.16it/s]val_loss=0.0105, eval_price_loss=0.0039, eval_MAE=22.5, best_eval_MAE=22.5, train_loss=0.0085, train_price_loss=0.0067, train_MAE=11.1, epoch=2, best_epoch=2]\n",
      "Evaluating:: 100%|██████████| 209/209 [00:00<00:00, 245.48it/s]eval_loss=0.0053, eval_price_loss=0.0007, eval_MAE=10.4, best_eval_MAE=10.4, train_loss=0.0028, train_price_loss=0.0009, train_MAE=4.59, epoch=3, best_epoch=3]\n",
      "Training:  11%|█         | 1164/10400 [00:24<02:42, 56.93it/s, eval_loss=0.0037, eval_price_loss=0.0004, eval_MAE=7.46, best_eval_MAE=7.46, train_loss=0.002, train_price_loss=0.0004, train_MAE=3.23, epoch=4, best_epoch=4] "
     ]
    }
   ],
   "source": [
    "total_pbar = tqdm(total=len(train_loader)*config.epochs,\n",
    "                  desc=\"Training\", position=0, leave=True)\n",
    "\n",
    "for epoch in range(config.epochs):\n",
    "\n",
    "    train_loss_list = []\n",
    "    price_loss_list = []\n",
    "    prediction_list = []\n",
    "    ground_truth_list = []\n",
    "\n",
    "    model = model.train()\n",
    "    for inputs, targets in train_loader:\n",
    "\n",
    "        optimizer.zero_grad()\n",
    "        outputs = model(inputs)\n",
    "\n",
    "        loss = criterion(outputs, targets)\n",
    "        price_loss = criterion(outputs[:, -1], targets[:, -1])\n",
    "\n",
    "        loss.backward()\n",
    "        optimizer.step()\n",
    "\n",
    "        train_loss_list.append(loss.item())\n",
    "        price_loss_list.append(price_loss.item())\n",
    "\n",
    "        yhat = outputs[:, -1].detach().cpu().numpy()\n",
    "        prediction_list.append(yhat)\n",
    "\n",
    "        y = targets[:, -1].detach().cpu().numpy()\n",
    "        ground_truth_list.append(y)\n",
    "\n",
    "        total_pbar.update(1)\n",
    "\n",
    "    improve = False\n",
    "    model_metrics = evaluate(\n",
    "        model, test_loader, scaler, criterion)\n",
    "    eval_MAE = model_metrics['eval_MAE']\n",
    "\n",
    "    if eval_MAE <= best_eval_MAE:\n",
    "        improve = True\n",
    "        best_checkpoint = epoch\n",
    "        best_eval_MAE = eval_MAE\n",
    "\n",
    "    train_loss = np.mean(train_loss_list)\n",
    "    train_price_loss = np.mean(price_loss_list)\n",
    "\n",
    "    predictions = np.concatenate(prediction_list)\n",
    "    ground_truths = np.concatenate(ground_truth_list)\n",
    "\n",
    "    predictions = np.exp(scaler.inverse_transform(\n",
    "        predictions.reshape(-1, 1)))[:, 0]\n",
    "    ground_truths = np.exp(scaler.inverse_transform(\n",
    "        ground_truths.reshape(-1, 1)))[:, 0]\n",
    "\n",
    "    mae = metrics.mean_absolute_error(ground_truths, predictions)\n",
    "    model_metrics['best_eval_MAE'] = best_eval_MAE\n",
    "\n",
    "    model_metrics['train_loss'] = train_loss\n",
    "    model_metrics['train_price_loss'] = train_price_loss\n",
    "    model_metrics['train_MAE'] = mae\n",
    "\n",
    "    model_metrics[\"epoch\"] = epoch\n",
    "    model_metrics[\"best_epoch\"] = best_checkpoint\n",
    "    metrics_list.append(model_metrics)\n",
    "    # wandb.log(model_metrics)\n",
    "\n",
    "    if improve:\n",
    "        save_dir = os.path.join(\"models\", model_version)\n",
    "        os.makedirs(save_dir, exist_ok=True)\n",
    "        model_path = save_model(model, save_dir, epoch, model_metrics)\n",
    "        best_model_path = model_path\n",
    "\n",
    "    post_fix_message = {k: round(v, 4) for k, v in model_metrics.items()}\n",
    "    total_pbar.set_postfix(post_fix_message)\n",
    "\n",
    "\n",
    "total_pbar.close()\n",
    "# wandb.finish()"
   ]
  },
  {
   "cell_type": "markdown",
   "metadata": {},
   "source": [
    "### (6) Validation Model"
   ]
  },
  {
   "cell_type": "code",
   "execution_count": null,
   "metadata": {},
   "outputs": [
    {
     "data": {
      "text/html": [
       "<div>\n",
       "<style scoped>\n",
       "    .dataframe tbody tr th:only-of-type {\n",
       "        vertical-align: middle;\n",
       "    }\n",
       "\n",
       "    .dataframe tbody tr th {\n",
       "        vertical-align: top;\n",
       "    }\n",
       "\n",
       "    .dataframe thead th {\n",
       "        text-align: right;\n",
       "    }\n",
       "</style>\n",
       "<table border=\"1\" class=\"dataframe\">\n",
       "  <thead>\n",
       "    <tr style=\"text-align: right;\">\n",
       "      <th></th>\n",
       "      <th>eval_loss</th>\n",
       "      <th>eval_price_loss</th>\n",
       "      <th>eval_MAE</th>\n",
       "      <th>best_eval_MAE</th>\n",
       "      <th>train_loss</th>\n",
       "      <th>train_price_loss</th>\n",
       "      <th>train_MAE</th>\n",
       "      <th>best_epoch</th>\n",
       "    </tr>\n",
       "    <tr>\n",
       "      <th>epoch</th>\n",
       "      <th></th>\n",
       "      <th></th>\n",
       "      <th></th>\n",
       "      <th></th>\n",
       "      <th></th>\n",
       "      <th></th>\n",
       "      <th></th>\n",
       "      <th></th>\n",
       "    </tr>\n",
       "  </thead>\n",
       "  <tbody>\n",
       "    <tr>\n",
       "      <th>0</th>\n",
       "      <td>0.053319</td>\n",
       "      <td>0.077365</td>\n",
       "      <td>70.417107</td>\n",
       "      <td>inf</td>\n",
       "      <td>0.039050</td>\n",
       "      <td>0.031237</td>\n",
       "      <td>32.659466</td>\n",
       "      <td>0</td>\n",
       "    </tr>\n",
       "    <tr>\n",
       "      <th>1</th>\n",
       "      <td>0.050821</td>\n",
       "      <td>0.052539</td>\n",
       "      <td>62.416916</td>\n",
       "      <td>inf</td>\n",
       "      <td>0.010991</td>\n",
       "      <td>0.009960</td>\n",
       "      <td>13.133412</td>\n",
       "      <td>1</td>\n",
       "    </tr>\n",
       "    <tr>\n",
       "      <th>2</th>\n",
       "      <td>0.010455</td>\n",
       "      <td>0.003897</td>\n",
       "      <td>22.450438</td>\n",
       "      <td>inf</td>\n",
       "      <td>0.008544</td>\n",
       "      <td>0.006661</td>\n",
       "      <td>11.067995</td>\n",
       "      <td>2</td>\n",
       "    </tr>\n",
       "    <tr>\n",
       "      <th>3</th>\n",
       "      <td>0.005315</td>\n",
       "      <td>0.000673</td>\n",
       "      <td>10.397497</td>\n",
       "      <td>inf</td>\n",
       "      <td>0.002826</td>\n",
       "      <td>0.000950</td>\n",
       "      <td>4.588628</td>\n",
       "      <td>3</td>\n",
       "    </tr>\n",
       "    <tr>\n",
       "      <th>4</th>\n",
       "      <td>0.003692</td>\n",
       "      <td>0.000413</td>\n",
       "      <td>7.457129</td>\n",
       "      <td>inf</td>\n",
       "      <td>0.002013</td>\n",
       "      <td>0.000435</td>\n",
       "      <td>3.228149</td>\n",
       "      <td>4</td>\n",
       "    </tr>\n",
       "  </tbody>\n",
       "</table>\n",
       "</div>"
      ],
      "text/plain": [
       "       eval_loss  eval_price_loss   eval_MAE  best_eval_MAE  train_loss  \\\n",
       "epoch                                                                     \n",
       "0       0.053319         0.077365  70.417107            inf    0.039050   \n",
       "1       0.050821         0.052539  62.416916            inf    0.010991   \n",
       "2       0.010455         0.003897  22.450438            inf    0.008544   \n",
       "3       0.005315         0.000673  10.397497            inf    0.002826   \n",
       "4       0.003692         0.000413   7.457129            inf    0.002013   \n",
       "\n",
       "       train_price_loss  train_MAE  best_epoch  \n",
       "epoch                                           \n",
       "0              0.031237  32.659466           0  \n",
       "1              0.009960  13.133412           1  \n",
       "2              0.006661  11.067995           2  \n",
       "3              0.000950   4.588628           3  \n",
       "4              0.000435   3.228149           4  "
      ]
     },
     "execution_count": 42,
     "metadata": {},
     "output_type": "execute_result"
    }
   ],
   "source": [
    "df_metrics = pd.DataFrame(metrics_list)\n",
    "df_metrics = df_metrics.set_index(\"epoch\")\n",
    "df_metrics"
   ]
  },
  {
   "cell_type": "code",
   "execution_count": null,
   "metadata": {},
   "outputs": [
    {
     "data": {
      "text/plain": [
       "<Axes: xlabel='epoch'>"
      ]
     },
     "execution_count": 43,
     "metadata": {},
     "output_type": "execute_result"
    },
    {
     "data": {
      "image/png": "[encoded data removed]",
      "text/plain": [
       "<Figure size 640x480 with 1 Axes>"
      ]
     },
     "metadata": {},
     "output_type": "display_data"
    }
   ],
   "source": [
    "df_metrics[['eval_loss', 'train_loss']].plot()"
   ]
  },
  {
   "cell_type": "code",
   "execution_count": null,
   "metadata": {},
   "outputs": [
    {
     "data": {
      "text/plain": [
       "<Axes: xlabel='epoch'>"
      ]
     },
     "execution_count": 45,
     "metadata": {},
     "output_type": "execute_result"
    },
    {
     "data": {
      "image/png": "[encoded data removed]",
      "text/plain": [
       "<Figure size 640x480 with 1 Axes>"
      ]
     },
     "metadata": {},
     "output_type": "display_data"
    }
   ],
   "source": [
    "df_metrics[['eval_MAE', 'train_MAE']].plot()"
   ]
  },
  {
   "cell_type": "code",
   "execution_count": null,
   "metadata": {},
   "outputs": [],
   "source": [
    "best_model = BiLSTMModel(input_size=config.input_size, lstm_num_layers=config.lstm_num_layers,\n",
    "                         hidden_size=config.hidden_size, output_size=config.output_size,\n",
    "                         device=config.device)"
   ]
  },
  {
   "cell_type": "code",
   "execution_count": null,
   "metadata": {},
   "outputs": [
    {
     "data": {
      "text/plain": [
       "'models/v1/579e2791-1b0c-42de-876a-bce3d5d1b862/checkpoint-4/pytorch_model.pt'"
      ]
     },
     "execution_count": 47,
     "metadata": {},
     "output_type": "execute_result"
    }
   ],
   "source": [
    "best_model_path"
   ]
  },
  {
   "cell_type": "code",
   "execution_count": null,
   "metadata": {},
   "outputs": [
    {
     "data": {
      "text/plain": [
       "BiLSTMModel(\n",
       "  (lstm): LSTM(5, 32, num_layers=3, batch_first=True, bidirectional=True)\n",
       "  (fc1): Linear(in_features=64, out_features=5, bias=True)\n",
       "  (fc2): Linear(in_features=10, out_features=5, bias=True)\n",
       "  (sigmoid): Sigmoid()\n",
       ")"
      ]
     },
     "execution_count": 48,
     "metadata": {},
     "output_type": "execute_result"
    }
   ],
   "source": [
    "best_model.load_state_dict(torch.load(best_model_path))\n",
    "best_model.eval()\n",
    "best_model.to(config.device)"
   ]
  },
  {
   "cell_type": "code",
   "execution_count": null,
   "metadata": {},
   "outputs": [
    {
     "name": "stderr",
     "output_type": "stream",
     "text": [
      "Evaluating:: 100%|██████████| 209/209 [00:00<00:00, 225.39it/s]\n"
     ]
    },
    {
     "data": {
      "text/plain": [
       "{'eval_loss': 0.0036916547241419083,\n",
       " 'eval_price_loss': 0.0004127258730499237,\n",
       " 'eval_MAE': 7.4571285}"
      ]
     },
     "execution_count": 49,
     "metadata": {},
     "output_type": "execute_result"
    }
   ],
   "source": [
    "evaluate(model=best_model, test_loader=test_loader,\n",
    "         scaler=scaler, criterion=criterion)"
   ]
  },
  {
   "cell_type": "code",
   "execution_count": null,
   "metadata": {},
   "outputs": [
    {
     "name": "stderr",
     "output_type": "stream",
     "text": [
      "Evaluating:: 100%|██████████| 209/209 [00:01<00:00, 196.35it/s]\n"
     ]
    }
   ],
   "source": [
    "best_model.eval()\n",
    "\n",
    "prediction_list = []\n",
    "ground_truth_list = []\n",
    "eval_loss_list = []\n",
    "price_loss_list = []\n",
    "\n",
    "dataset_loader = DataLoader(test_dataset, config.batch_size,\n",
    "                            shuffle=False, drop_last=False)\n",
    "pbar = tqdm(total=len(dataset_loader),\n",
    "            desc=\"Evaluating:\", position=0, leave=True)\n",
    "\n",
    "with torch.no_grad():\n",
    "    for inputs, targets in dataset_loader:\n",
    "        outputs = best_model(inputs)\n",
    "        loss = criterion(outputs, targets)\n",
    "\n",
    "        price_loss = criterion(outputs[:, -1], targets[:, -1])\n",
    "\n",
    "        yhat = outputs[:, -1].cpu().numpy()\n",
    "        prediction_list.append(yhat)\n",
    "\n",
    "        y = targets[:, -1].cpu().numpy()\n",
    "        ground_truth_list.append(y)\n",
    "\n",
    "        eval_loss_list.append(loss.item())\n",
    "        price_loss_list.append(price_loss.item())\n",
    "\n",
    "        pbar.update(1)\n",
    "    pbar.close()\n",
    "\n",
    "predictions = np.concatenate(prediction_list)\n",
    "ground_truths = np.concatenate(ground_truth_list)\n",
    "\n",
    "predictions = np.exp(scaler.inverse_transform(\n",
    "    predictions.reshape(-1, 1)))[:, 0]\n",
    "ground_truths = np.exp(scaler.inverse_transform(\n",
    "    ground_truths.reshape(-1, 1)))[:, 0]\n",
    "\n",
    "mae = metrics.mean_absolute_error(ground_truths, predictions)\n",
    "\n",
    "eval_metrics = {}\n",
    "eval_metrics['eval_loss'] = sum(eval_loss_list)/len(eval_loss_list)\n",
    "eval_metrics['eval_price_loss'] = sum(price_loss_list)/len(price_loss_list)\n",
    "eval_metrics['eval_MAE'] = mae"
   ]
  },
  {
   "cell_type": "code",
   "execution_count": null,
   "metadata": {},
   "outputs": [
    {
     "data": {
      "text/plain": [
       "{'eval_loss': 0.0036916547241419083,\n",
       " 'eval_price_loss': 0.0004127258730499237,\n",
       " 'eval_MAE': 7.4571285}"
      ]
     },
     "execution_count": 51,
     "metadata": {},
     "output_type": "execute_result"
    }
   ],
   "source": [
    "eval_metrics"
   ]
  },
  {
   "cell_type": "code",
   "execution_count": null,
   "metadata": {},
   "outputs": [],
   "source": [
    "df_tmp = pd.DataFrame()"
   ]
  },
  {
   "cell_type": "code",
   "execution_count": null,
   "metadata": {},
   "outputs": [],
   "source": [
    "df_tmp['prediction'] = predictions\n",
    "df_tmp['real'] = ground_truths"
   ]
  },
  {
   "cell_type": "code",
   "execution_count": null,
   "metadata": {},
   "outputs": [
    {
     "data": {
      "text/html": [
       "<div>\n",
       "<style scoped>\n",
       "    .dataframe tbody tr th:only-of-type {\n",
       "        vertical-align: middle;\n",
       "    }\n",
       "\n",
       "    .dataframe tbody tr th {\n",
       "        vertical-align: top;\n",
       "    }\n",
       "\n",
       "    .dataframe thead th {\n",
       "        text-align: right;\n",
       "    }\n",
       "</style>\n",
       "<table border=\"1\" class=\"dataframe\">\n",
       "  <thead>\n",
       "    <tr style=\"text-align: right;\">\n",
       "      <th></th>\n",
       "      <th>prediction</th>\n",
       "      <th>real</th>\n",
       "    </tr>\n",
       "  </thead>\n",
       "  <tbody>\n",
       "    <tr>\n",
       "      <th>0</th>\n",
       "      <td>45.930443</td>\n",
       "      <td>45.919998</td>\n",
       "    </tr>\n",
       "    <tr>\n",
       "      <th>1</th>\n",
       "      <td>45.685856</td>\n",
       "      <td>45.489998</td>\n",
       "    </tr>\n",
       "    <tr>\n",
       "      <th>2</th>\n",
       "      <td>45.377602</td>\n",
       "      <td>44.160000</td>\n",
       "    </tr>\n",
       "    <tr>\n",
       "      <th>3</th>\n",
       "      <td>45.136532</td>\n",
       "      <td>44.309990</td>\n",
       "    </tr>\n",
       "    <tr>\n",
       "      <th>4</th>\n",
       "      <td>44.888485</td>\n",
       "      <td>44.349995</td>\n",
       "    </tr>\n",
       "  </tbody>\n",
       "</table>\n",
       "</div>"
      ],
      "text/plain": [
       "   prediction       real\n",
       "0   45.930443  45.919998\n",
       "1   45.685856  45.489998\n",
       "2   45.377602  44.160000\n",
       "3   45.136532  44.309990\n",
       "4   44.888485  44.349995"
      ]
     },
     "execution_count": 54,
     "metadata": {},
     "output_type": "execute_result"
    }
   ],
   "source": [
    "df_tmp.head()"
   ]
  },
  {
   "cell_type": "code",
   "execution_count": null,
   "metadata": {},
   "outputs": [
    {
     "data": {
      "text/plain": [
       "<Axes: >"
      ]
     },
     "execution_count": 55,
     "metadata": {},
     "output_type": "execute_result"
    },
    {
     "data": {
      "image/png": "[encoded data removed]",
      "text/plain": [
       "<Figure size 640x480 with 1 Axes>"
      ]
     },
     "metadata": {},
     "output_type": "display_data"
    }
   ],
   "source": [
    "df_tmp.plot()"
   ]
  },
  {
   "cell_type": "code",
   "execution_count": null,
   "metadata": {},
   "outputs": [],
   "source": []
  },
  {
   "cell_type": "markdown",
   "metadata": {},
   "source": []
  }
 ],
 "metadata": {
  "kernelspec": {
   "display_name": "torch",
   "language": "python",
   "name": "python3"
  },
  "language_info": {
   "codemirror_mode": {
    "name": "ipython",
    "version": 3
   },
   "file_extension": ".py",
   "mimetype": "text/x-python",
   "name": "python",
   "nbconvert_exporter": "python",
   "pygments_lexer": "ipython3",
   "version": "3.11.3"
  }
 },
 "nbformat": 4,
 "nbformat_minor": 2
}
