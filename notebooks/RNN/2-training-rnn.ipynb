{
 "cells": [
  {
   "cell_type": "code",
   "execution_count": 1,
   "metadata": {},
   "outputs": [],
   "source": [
    "%load_ext autoreload\n",
    "%autoreload 2"
   ]
  },
  {
   "cell_type": "code",
   "execution_count": 2,
   "metadata": {},
   "outputs": [],
   "source": [
    "import sys\n",
    "sys.path.insert(0, \"./../../\")"
   ]
  },
  {
   "cell_type": "code",
   "execution_count": 3,
   "metadata": {},
   "outputs": [],
   "source": [
    "from src import utils\n",
    "from evaluation import evaluate\n",
    "from training_utils import save_model"
   ]
  },
  {
   "cell_type": "code",
   "execution_count": 4,
   "metadata": {},
   "outputs": [],
   "source": [
    "import os\n",
    "import torch\n",
    "import torch.nn as nn\n",
    "import numpy as np\n",
    "import pandas as pd\n",
    "import random\n",
    "from torch import optim\n",
    "from sklearn import metrics\n",
    "from tqdm import tqdm\n",
    "from torch.utils.data import Dataset, DataLoader"
   ]
  },
  {
   "cell_type": "code",
   "execution_count": 5,
   "metadata": {},
   "outputs": [],
   "source": [
    "# Set random seed for reproducibility\n",
    "torch.manual_seed(0)\n",
    "np.random.seed(0)\n",
    "random.seed(0)\n",
    "if torch.cuda.is_available():\n",
    "    torch.backends.cudnn.deterministic = True\n",
    "    torch.backends.cudnn.benchmark = False"
   ]
  },
  {
   "cell_type": "code",
   "execution_count": 6,
   "metadata": {},
   "outputs": [],
   "source": [
    "scaler_dict = utils.open_object(\"./artifacts/feature_scaler.pkl\")"
   ]
  },
  {
   "cell_type": "code",
   "execution_count": 7,
   "metadata": {},
   "outputs": [],
   "source": [
    "config_dict = {}\n",
    "config_dict['window_size'] = 12\n",
    "config_dict['learning_rate'] = 0.0002\n",
    "config_dict['batch_size'] = 12\n",
    "config_dict['epochs'] = 20\n",
    "config_dict['device'] = \"cuda\" if torch.cuda.is_available() else \"cpu\"\n",
    "config_dict['input_size'] = 5\n",
    "config_dict['hidden_size'] = 32\n",
    "config_dict['output_size'] = config_dict['input_size']\n",
    "config_dict['lstm_num_layers'] = 3\n",
    "config_dict['dropout'] = 0.2"
   ]
  },
  {
   "cell_type": "code",
   "execution_count": 8,
   "metadata": {},
   "outputs": [],
   "source": [
    "class Config:\n",
    "    def __init__(self, dictionary):\n",
    "        for key, value in dictionary.items():\n",
    "            setattr(self, key, value)\n",
    "\n",
    "\n",
    "config = Config(dictionary=config_dict)"
   ]
  },
  {
   "cell_type": "markdown",
   "metadata": {},
   "source": [
    "### (1) Read Data"
   ]
  },
  {
   "cell_type": "code",
   "execution_count": 9,
   "metadata": {},
   "outputs": [],
   "source": [
    "df = pd.read_parquet(\"./artifacts/processed_data.parquet\")"
   ]
  },
  {
   "cell_type": "code",
   "execution_count": 10,
   "metadata": {},
   "outputs": [],
   "source": [
    "df = df.sort_values(by='date').reset_index(drop=True)"
   ]
  },
  {
   "cell_type": "code",
   "execution_count": 11,
   "metadata": {},
   "outputs": [],
   "source": [
    "df = df[df['date'] < \"2020-01-01\"].copy()"
   ]
  },
  {
   "cell_type": "code",
   "execution_count": 12,
   "metadata": {},
   "outputs": [
    {
     "data": {
      "text/html": [
       "<div>\n",
       "<style scoped>\n",
       "    .dataframe tbody tr th:only-of-type {\n",
       "        vertical-align: middle;\n",
       "    }\n",
       "\n",
       "    .dataframe tbody tr th {\n",
       "        vertical-align: top;\n",
       "    }\n",
       "\n",
       "    .dataframe thead th {\n",
       "        text-align: right;\n",
       "    }\n",
       "</style>\n",
       "<table border=\"1\" class=\"dataframe\">\n",
       "  <thead>\n",
       "    <tr style=\"text-align: right;\">\n",
       "      <th></th>\n",
       "      <th>date</th>\n",
       "      <th>open</th>\n",
       "      <th>high</th>\n",
       "      <th>low</th>\n",
       "      <th>close</th>\n",
       "      <th>volume</th>\n",
       "    </tr>\n",
       "  </thead>\n",
       "  <tbody>\n",
       "    <tr>\n",
       "      <th>5069</th>\n",
       "      <td>2019-12-24</td>\n",
       "      <td>0.603589</td>\n",
       "      <td>0.600527</td>\n",
       "      <td>0.604402</td>\n",
       "      <td>0.603276</td>\n",
       "      <td>0.086608</td>\n",
       "    </tr>\n",
       "    <tr>\n",
       "      <th>5070</th>\n",
       "      <td>2019-12-26</td>\n",
       "      <td>0.603902</td>\n",
       "      <td>0.602605</td>\n",
       "      <td>0.605353</td>\n",
       "      <td>0.605524</td>\n",
       "      <td>0.221727</td>\n",
       "    </tr>\n",
       "    <tr>\n",
       "      <th>5071</th>\n",
       "      <td>2019-12-27</td>\n",
       "      <td>0.606630</td>\n",
       "      <td>0.603505</td>\n",
       "      <td>0.606324</td>\n",
       "      <td>0.605309</td>\n",
       "      <td>0.230241</td>\n",
       "    </tr>\n",
       "    <tr>\n",
       "      <th>5072</th>\n",
       "      <td>2019-12-30</td>\n",
       "      <td>0.605390</td>\n",
       "      <td>0.602388</td>\n",
       "      <td>0.604064</td>\n",
       "      <td>0.603626</td>\n",
       "      <td>0.258524</td>\n",
       "    </tr>\n",
       "    <tr>\n",
       "      <th>5073</th>\n",
       "      <td>2019-12-31</td>\n",
       "      <td>0.603131</td>\n",
       "      <td>0.601339</td>\n",
       "      <td>0.604112</td>\n",
       "      <td>0.604108</td>\n",
       "      <td>0.230740</td>\n",
       "    </tr>\n",
       "  </tbody>\n",
       "</table>\n",
       "</div>"
      ],
      "text/plain": [
       "            date      open      high       low     close    volume\n",
       "5069  2019-12-24  0.603589  0.600527  0.604402  0.603276  0.086608\n",
       "5070  2019-12-26  0.603902  0.602605  0.605353  0.605524  0.221727\n",
       "5071  2019-12-27  0.606630  0.603505  0.606324  0.605309  0.230241\n",
       "5072  2019-12-30  0.605390  0.602388  0.604064  0.603626  0.258524\n",
       "5073  2019-12-31  0.603131  0.601339  0.604112  0.604108  0.230740"
      ]
     },
     "execution_count": 12,
     "metadata": {},
     "output_type": "execute_result"
    }
   ],
   "source": [
    "df.tail()"
   ]
  },
  {
   "cell_type": "markdown",
   "metadata": {},
   "source": [
    "### (2) Split the data into train and test sets"
   ]
  },
  {
   "cell_type": "code",
   "execution_count": 13,
   "metadata": {},
   "outputs": [],
   "source": [
    "features_cols = [\"volume\", \"high\", \"low\", \"open\", \"close\"]\n",
    "\n",
    "df_data = df[features_cols].copy()"
   ]
  },
  {
   "cell_type": "code",
   "execution_count": 14,
   "metadata": {},
   "outputs": [
    {
     "data": {
      "text/html": [
       "<div>\n",
       "<style scoped>\n",
       "    .dataframe tbody tr th:only-of-type {\n",
       "        vertical-align: middle;\n",
       "    }\n",
       "\n",
       "    .dataframe tbody tr th {\n",
       "        vertical-align: top;\n",
       "    }\n",
       "\n",
       "    .dataframe thead th {\n",
       "        text-align: right;\n",
       "    }\n",
       "</style>\n",
       "<table border=\"1\" class=\"dataframe\">\n",
       "  <thead>\n",
       "    <tr style=\"text-align: right;\">\n",
       "      <th></th>\n",
       "      <th>volume</th>\n",
       "      <th>high</th>\n",
       "      <th>low</th>\n",
       "      <th>open</th>\n",
       "      <th>close</th>\n",
       "    </tr>\n",
       "  </thead>\n",
       "  <tbody>\n",
       "    <tr>\n",
       "      <th>0</th>\n",
       "      <td>0.028304</td>\n",
       "      <td>0.480709</td>\n",
       "      <td>0.481546</td>\n",
       "      <td>0.481644</td>\n",
       "      <td>0.479795</td>\n",
       "    </tr>\n",
       "    <tr>\n",
       "      <th>1</th>\n",
       "      <td>0.071394</td>\n",
       "      <td>0.480709</td>\n",
       "      <td>0.481156</td>\n",
       "      <td>0.481644</td>\n",
       "      <td>0.479990</td>\n",
       "    </tr>\n",
       "    <tr>\n",
       "      <th>2</th>\n",
       "      <td>0.129351</td>\n",
       "      <td>0.483017</td>\n",
       "      <td>0.485037</td>\n",
       "      <td>0.484156</td>\n",
       "      <td>0.485023</td>\n",
       "    </tr>\n",
       "    <tr>\n",
       "      <th>3</th>\n",
       "      <td>0.139565</td>\n",
       "      <td>0.485494</td>\n",
       "      <td>0.487338</td>\n",
       "      <td>0.489107</td>\n",
       "      <td>0.487883</td>\n",
       "    </tr>\n",
       "    <tr>\n",
       "      <th>4</th>\n",
       "      <td>0.096587</td>\n",
       "      <td>0.490750</td>\n",
       "      <td>0.492627</td>\n",
       "      <td>0.493593</td>\n",
       "      <td>0.490523</td>\n",
       "    </tr>\n",
       "  </tbody>\n",
       "</table>\n",
       "</div>"
      ],
      "text/plain": [
       "     volume      high       low      open     close\n",
       "0  0.028304  0.480709  0.481546  0.481644  0.479795\n",
       "1  0.071394  0.480709  0.481156  0.481644  0.479990\n",
       "2  0.129351  0.483017  0.485037  0.484156  0.485023\n",
       "3  0.139565  0.485494  0.487338  0.489107  0.487883\n",
       "4  0.096587  0.490750  0.492627  0.493593  0.490523"
      ]
     },
     "execution_count": 14,
     "metadata": {},
     "output_type": "execute_result"
    }
   ],
   "source": [
    "df_data.head()"
   ]
  },
  {
   "cell_type": "code",
   "execution_count": 15,
   "metadata": {},
   "outputs": [],
   "source": [
    "train_size = int(0.5 * len(df_data))\n",
    "df_train = df_data[:train_size]\n",
    "df_test = df_data[train_size:]"
   ]
  },
  {
   "cell_type": "markdown",
   "metadata": {},
   "source": [
    "### (3) Create Sequence of input and output"
   ]
  },
  {
   "cell_type": "code",
   "execution_count": 16,
   "metadata": {},
   "outputs": [],
   "source": [
    "# Custom dataset class\n",
    "class TimeSeriesDataset(Dataset):\n",
    "    def __init__(self, data, window_size):\n",
    "        self.data = data\n",
    "        self.window_size = window_size\n",
    "\n",
    "    def __len__(self):\n",
    "        return len(self.data) - self.window_size\n",
    "\n",
    "    def __getitem__(self, idx):\n",
    "        inputs = torch.tensor(\n",
    "            self.data[idx:idx+self.window_size], dtype=torch.float32)\n",
    "        target = torch.tensor(\n",
    "            self.data[idx+self.window_size], dtype=torch.float32)\n",
    "        return inputs, target"
   ]
  },
  {
   "cell_type": "code",
   "execution_count": 17,
   "metadata": {},
   "outputs": [],
   "source": [
    "train_dataset = TimeSeriesDataset(\n",
    "    data=df_train.values, window_size=config.window_size)"
   ]
  },
  {
   "cell_type": "code",
   "execution_count": 18,
   "metadata": {},
   "outputs": [],
   "source": [
    "test_dataset = TimeSeriesDataset(\n",
    "    data=df_test.values, window_size=config.window_size)"
   ]
  },
  {
   "cell_type": "code",
   "execution_count": 19,
   "metadata": {},
   "outputs": [],
   "source": [
    "train_loader = DataLoader(train_dataset, config.batch_size,\n",
    "                          shuffle=True, drop_last=True)\n",
    "test_loader = DataLoader(test_dataset,\n",
    "                         config.batch_size, shuffle=False)"
   ]
  },
  {
   "cell_type": "code",
   "execution_count": 20,
   "metadata": {},
   "outputs": [],
   "source": [
    "for inputs, targets in train_loader:\n",
    "    break"
   ]
  },
  {
   "cell_type": "code",
   "execution_count": 21,
   "metadata": {},
   "outputs": [
    {
     "data": {
      "text/plain": [
       "torch.Size([12, 12, 5])"
      ]
     },
     "execution_count": 21,
     "metadata": {},
     "output_type": "execute_result"
    }
   ],
   "source": [
    "inputs.shape  # batch_size, sequence_len, features"
   ]
  },
  {
   "cell_type": "code",
   "execution_count": 22,
   "metadata": {},
   "outputs": [
    {
     "data": {
      "text/plain": [
       "torch.Size([12, 5])"
      ]
     },
     "execution_count": 22,
     "metadata": {},
     "output_type": "execute_result"
    }
   ],
   "source": [
    "targets.shape  # batch_size, features"
   ]
  },
  {
   "cell_type": "markdown",
   "metadata": {},
   "source": [
    "### (4) Modeling"
   ]
  },
  {
   "cell_type": "code",
   "execution_count": 23,
   "metadata": {},
   "outputs": [],
   "source": [
    "criterion = nn.MSELoss()"
   ]
  },
  {
   "cell_type": "code",
   "execution_count": 24,
   "metadata": {},
   "outputs": [],
   "source": [
    "class BiLSTMModel(nn.Module):\n",
    "    def __init__(self, input_size, lstm_num_layers, hidden_size, output_size, device):\n",
    "        super(BiLSTMModel, self).__init__()\n",
    "        self.device = device\n",
    "        self.lstm_num_layers = lstm_num_layers\n",
    "        self.hidden_size = hidden_size\n",
    "        self.lstm = nn.LSTM(input_size, hidden_size,\n",
    "                            num_layers=lstm_num_layers, batch_first=True, bidirectional=True)\n",
    "        self.fc1 = nn.Linear(hidden_size * 2, output_size)\n",
    "        self.fc2 = nn.Linear(output_size*2, output_size)\n",
    "        self.sigmoid = nn.Sigmoid()\n",
    "\n",
    "    def forward(self, x):\n",
    "        h0 = torch.zeros(2*self.lstm_num_layers, x.size(0), self.hidden_size).to(\n",
    "            self.device)\n",
    "        c0 = torch.zeros(2*self.lstm_num_layers, x.size(0), self.hidden_size).to(\n",
    "            self.device)\n",
    "        out, _ = self.lstm(x, (h0, c0))\n",
    "        out = self.fc1(out[:, -1, :])\n",
    "        out = self.fc2(torch.concat([out, x[:, -1, :]], dim=1))\n",
    "        out = self.sigmoid(out)\n",
    "\n",
    "        return out"
   ]
  },
  {
   "cell_type": "code",
   "execution_count": 25,
   "metadata": {},
   "outputs": [],
   "source": [
    "model = BiLSTMModel(input_size=config.input_size, lstm_num_layers=config.lstm_num_layers,\n",
    "                    hidden_size=config.hidden_size, output_size=config.output_size,\n",
    "                    device=config.device)"
   ]
  },
  {
   "cell_type": "code",
   "execution_count": 26,
   "metadata": {},
   "outputs": [],
   "source": [
    "x = torch.randn(config.batch_size, config.window_size, config.input_size)"
   ]
  },
  {
   "cell_type": "code",
   "execution_count": 27,
   "metadata": {},
   "outputs": [],
   "source": [
    "with torch.no_grad():\n",
    "    out = model(x)"
   ]
  },
  {
   "cell_type": "code",
   "execution_count": 28,
   "metadata": {},
   "outputs": [
    {
     "data": {
      "text/plain": [
       "tensor(0.0991)"
      ]
     },
     "execution_count": 28,
     "metadata": {},
     "output_type": "execute_result"
    }
   ],
   "source": [
    "criterion(out, targets)"
   ]
  },
  {
   "cell_type": "code",
   "execution_count": 29,
   "metadata": {},
   "outputs": [
    {
     "data": {
      "text/plain": [
       "tensor(0.1095)"
      ]
     },
     "execution_count": 29,
     "metadata": {},
     "output_type": "execute_result"
    }
   ],
   "source": [
    "criterion(out[:, -1], targets[:, -1])"
   ]
  },
  {
   "cell_type": "code",
   "execution_count": 30,
   "metadata": {},
   "outputs": [],
   "source": [
    "# class self:\n",
    "#     pass"
   ]
  },
  {
   "cell_type": "code",
   "execution_count": 31,
   "metadata": {},
   "outputs": [],
   "source": [
    "# input_size = config.input_size\n",
    "# lstm_num_layers = config.lstm_num_layers\n",
    "# hidden_size = config.hidden_size\n",
    "# output_size = config.output_size\n",
    "# device = config.device"
   ]
  },
  {
   "cell_type": "code",
   "execution_count": 32,
   "metadata": {},
   "outputs": [],
   "source": [
    "# self.device = device\n",
    "# self.lstm_num_layers = lstm_num_layers\n",
    "# self.hidden_size = hidden_size\n",
    "# self.lstm = nn.LSTM(input_size, hidden_size,\n",
    "#                     num_layers=lstm_num_layers, batch_first=True, bidirectional=True)\n",
    "# self.fc = nn.Linear(hidden_size * 2, output_size)\n",
    "# self.sigmoid = nn.Sigmoid()"
   ]
  },
  {
   "cell_type": "code",
   "execution_count": 33,
   "metadata": {},
   "outputs": [],
   "source": [
    "# h0 = torch.zeros(2*self.lstm_num_layers, x.size(0), self.hidden_size).to(\n",
    "#     self.device)\n",
    "# c0 = torch.zeros(2*self.lstm_num_layers, x.size(0), self.hidden_size).to(\n",
    "#     self.device)\n",
    "# out, _ = self.lstm(x, (h0, c0))\n",
    "# out = self.fc(out[:, -1, :])\n",
    "# # out = self.sigmoid(out)"
   ]
  },
  {
   "cell_type": "code",
   "execution_count": 34,
   "metadata": {},
   "outputs": [],
   "source": [
    "# out.shape"
   ]
  },
  {
   "cell_type": "code",
   "execution_count": 35,
   "metadata": {},
   "outputs": [],
   "source": [
    "# torch.concat([out, x[:, -1, :]], dim=1)"
   ]
  },
  {
   "cell_type": "code",
   "execution_count": 36,
   "metadata": {},
   "outputs": [],
   "source": [
    "# out[:, -1, :].shape"
   ]
  },
  {
   "cell_type": "code",
   "execution_count": 37,
   "metadata": {},
   "outputs": [],
   "source": [
    "# x.shape"
   ]
  },
  {
   "cell_type": "markdown",
   "metadata": {},
   "source": [
    "### (5) Training"
   ]
  },
  {
   "cell_type": "code",
   "execution_count": 38,
   "metadata": {},
   "outputs": [],
   "source": [
    "scaler = scaler_dict['close']"
   ]
  },
  {
   "cell_type": "code",
   "execution_count": 39,
   "metadata": {},
   "outputs": [
    {
     "name": "stderr",
     "output_type": "stream",
     "text": [
      "Evaluating::   0%|          | 0/211 [00:00<?, ?it/s]"
     ]
    },
    {
     "name": "stderr",
     "output_type": "stream",
     "text": [
      "Evaluating:: 100%|██████████| 211/211 [00:00<00:00, 440.41it/s]\n"
     ]
    },
    {
     "data": {
      "text/plain": [
       "{'eval_loss': 0.02432565163308975,\n",
       " 'eval_price_loss': 0.018702043912429835,\n",
       " 'eval_MEA': 44.879505}"
      ]
     },
     "execution_count": 39,
     "metadata": {},
     "output_type": "execute_result"
    }
   ],
   "source": [
    "evaluate(model=model, test_loader=test_loader,\n",
    "         scaler=scaler, criterion=criterion)"
   ]
  },
  {
   "cell_type": "code",
   "execution_count": 40,
   "metadata": {},
   "outputs": [],
   "source": [
    "optimizer = optim.Adam(model.parameters(), lr=config.learning_rate)\n",
    "best_eval_loss = float(\"inf\")\n",
    "model_version = \"v1\"\n",
    "metrics_list = []\n",
    "best_model_path = None"
   ]
  },
  {
   "cell_type": "code",
   "execution_count": 41,
   "metadata": {},
   "outputs": [
    {
     "name": "stderr",
     "output_type": "stream",
     "text": [
      "Training:   0%|          | 2/4200 [00:00<03:53, 17.97it/s]"
     ]
    },
    {
     "name": "stderr",
     "output_type": "stream",
     "text": [
      "Evaluating:: 100%|██████████| 211/211 [00:00<00:00, 493.56it/s]\n",
      "Evaluating:: 100%|██████████| 211/211 [00:00<00:00, 574.90it/s]val_loss=0.0541, eval_price_loss=0.0789, eval_MEA=70.4, best_eval_loss=0.0541, train_loss=0.0385, train_price_loss=0.0305, train_MAE=32.3, epoch=0, best_epoch=0]\n",
      "Evaluating:: 100%|██████████| 211/211 [00:00<00:00, 621.67it/s]val_loss=0.0422, eval_price_loss=0.0422, eval_MEA=58.2, best_eval_loss=0.0422, train_loss=0.0116, train_price_loss=0.0105, train_MAE=13.8, epoch=1, best_epoch=1]\n",
      "Evaluating:: 100%|██████████| 211/211 [00:00<00:00, 611.98it/s]val_loss=0.0061, eval_price_loss=0.0011, eval_MEA=12.9, best_eval_loss=0.0061, train_loss=0.0043, train_price_loss=0.0021, train_MAE=6.59, epoch=2, best_epoch=2]\n",
      "Evaluating:: 100%|██████████| 211/211 [00:00<00:00, 473.28it/s]eval_loss=0.0039, eval_price_loss=0.0007, eval_MEA=9.78, best_eval_loss=0.0039, train_loss=0.0023, train_price_loss=0.0005, train_MAE=3.65, epoch=3, best_epoch=3]\n",
      "Evaluating:: 100%|██████████| 211/211 [00:00<00:00, 605.20it/s]eval_loss=0.0031, eval_price_loss=0.0002, eval_MEA=5.26, best_eval_loss=0.0031, train_loss=0.0018, train_price_loss=0.0004, train_MAE=3.12, epoch=4, best_epoch=4]\n",
      "Evaluating:: 100%|██████████| 211/211 [00:00<00:00, 496.18it/s]eval_loss=0.0023, eval_price_loss=0.0003, eval_MEA=7.27, best_eval_loss=0.0023, train_loss=0.0015, train_price_loss=0.0004, train_MAE=3.26, epoch=5, best_epoch=5]\n",
      "Evaluating:: 100%|██████████| 211/211 [00:00<00:00, 621.91it/s]eval_loss=0.0018, eval_price_loss=0.0003, eval_MEA=6.95, best_eval_loss=0.0018, train_loss=0.0014, train_price_loss=0.0004, train_MAE=3.18, epoch=6, best_epoch=6]\n",
      "Evaluating:: 100%|██████████| 211/211 [00:00<00:00, 575.96it/s]eval_loss=0.0016, eval_price_loss=0.0001, eval_MEA=3.15, best_eval_loss=0.0016, train_loss=0.0012, train_price_loss=0.0003, train_MAE=2.9, epoch=7, best_epoch=7] \n",
      "Evaluating:: 100%|██████████| 211/211 [00:00<00:00, 555.69it/s]eval_loss=0.0018, eval_price_loss=0.0002, eval_MEA=4.67, best_eval_loss=0.0016, train_loss=0.0011, train_price_loss=0.0003, train_MAE=2.45, epoch=8, best_epoch=7]\n",
      "Evaluating:: 100%|██████████| 211/211 [00:00<00:00, 615.20it/s]eval_loss=0.0014, eval_price_loss=0.0001, eval_MEA=4.33, best_eval_loss=0.0014, train_loss=0.0011, train_price_loss=0.0002, train_MAE=2.11, epoch=9, best_epoch=9]\n",
      "Evaluating:: 100%|██████████| 211/211 [00:00<00:00, 622.57it/s]eval_loss=0.002, eval_price_loss=0.0005, eval_MEA=8.28, best_eval_loss=0.0014, train_loss=0.001, train_price_loss=0.0002, train_MAE=1.94, epoch=10, best_epoch=9] \n",
      "Evaluating:: 100%|██████████| 211/211 [00:00<00:00, 626.46it/s]eval_loss=0.0017, eval_price_loss=0.0001, eval_MEA=3.15, best_eval_loss=0.0014, train_loss=0.001, train_price_loss=0.0002, train_MAE=1.91, epoch=11, best_epoch=9]\n",
      "Evaluating:: 100%|██████████| 211/211 [00:00<00:00, 542.81it/s]eval_loss=0.0018, eval_price_loss=0.0002, eval_MEA=5.42, best_eval_loss=0.0014, train_loss=0.001, train_price_loss=0.0002, train_MAE=1.88, epoch=12, best_epoch=9]\n",
      "Evaluating:: 100%|██████████| 211/211 [00:00<00:00, 613.82it/s]eval_loss=0.0018, eval_price_loss=0.0001, eval_MEA=3.74, best_eval_loss=0.0014, train_loss=0.0009, train_price_loss=0.0002, train_MAE=1.72, epoch=13, best_epoch=9]\n",
      "Evaluating:: 100%|██████████| 211/211 [00:00<00:00, 612.27it/s]eval_loss=0.0019, eval_price_loss=0.0002, eval_MEA=5.33, best_eval_loss=0.0014, train_loss=0.0009, train_price_loss=0.0002, train_MAE=1.79, epoch=14, best_epoch=9]\n",
      "Evaluating:: 100%|██████████| 211/211 [00:00<00:00, 606.23it/s]eval_loss=0.0019, eval_price_loss=0.0001, eval_MEA=4.07, best_eval_loss=0.0014, train_loss=0.0009, train_price_loss=0.0002, train_MAE=1.79, epoch=15, best_epoch=9]\n",
      "Evaluating:: 100%|██████████| 211/211 [00:00<00:00, 564.00it/s]eval_loss=0.002, eval_price_loss=0.0001, eval_MEA=3.8, best_eval_loss=0.0014, train_loss=0.0009, train_price_loss=0.0001, train_MAE=1.69, epoch=16, best_epoch=9]  \n",
      "Evaluating:: 100%|██████████| 211/211 [00:00<00:00, 596.80it/s]eval_loss=0.002, eval_price_loss=0.0002, eval_MEA=4.82, best_eval_loss=0.0014, train_loss=0.0009, train_price_loss=0.0001, train_MAE=1.71, epoch=17, best_epoch=9]\n",
      "Evaluating:: 100%|██████████| 211/211 [00:00<00:00, 624.15it/s]eval_loss=0.0021, eval_price_loss=0.0001, eval_MEA=4.65, best_eval_loss=0.0014, train_loss=0.0009, train_price_loss=0.0001, train_MAE=1.65, epoch=18, best_epoch=9]\n",
      "Training: 100%|██████████| 4200/4200 [00:39<00:00, 106.86it/s, eval_loss=0.0023, eval_price_loss=0.0004, eval_MEA=8.03, best_eval_loss=0.0014, train_loss=0.0008, train_price_loss=0.0001, train_MAE=1.7, epoch=19, best_epoch=9] \n"
     ]
    }
   ],
   "source": [
    "total_pbar = tqdm(total=len(train_loader)*config.epochs,\n",
    "                  desc=\"Training\", position=0, leave=True)\n",
    "\n",
    "for epoch in range(config.epochs):\n",
    "\n",
    "    train_loss_list = []\n",
    "    price_loss_list = []\n",
    "    prediction_list = []\n",
    "    ground_truth_list = []\n",
    "\n",
    "    model = model.train()\n",
    "    for inputs, targets in train_loader:\n",
    "\n",
    "        optimizer.zero_grad()\n",
    "        outputs = model(inputs)\n",
    "\n",
    "        loss = criterion(outputs, targets)\n",
    "        price_loss = criterion(outputs[:, -1], targets[:, -1])\n",
    "\n",
    "        loss.backward()\n",
    "        optimizer.step()\n",
    "\n",
    "        train_loss_list.append(loss.item())\n",
    "        price_loss_list.append(price_loss.item())\n",
    "\n",
    "        yhat = outputs[:, -1].detach().cpu().numpy()\n",
    "        prediction_list.append(yhat)\n",
    "\n",
    "        y = targets[:, -1].detach().cpu().numpy()\n",
    "        ground_truth_list.append(y)\n",
    "\n",
    "        total_pbar.update(1)\n",
    "\n",
    "    improve = False\n",
    "    model_metrics = evaluate(\n",
    "        model, test_loader, scaler, criterion)\n",
    "    eval_loss = model_metrics['eval_loss']\n",
    "\n",
    "    if eval_loss <= best_eval_loss:\n",
    "        improve = True\n",
    "        best_checkpoint = epoch\n",
    "        best_eval_loss = eval_loss\n",
    "\n",
    "    train_loss = np.mean(train_loss_list)\n",
    "    train_price_loss = np.mean(price_loss_list)\n",
    "\n",
    "    predictions = np.concatenate(prediction_list)\n",
    "    ground_truths = np.concatenate(ground_truth_list)\n",
    "\n",
    "    predictions = np.exp(scaler.inverse_transform(\n",
    "        predictions.reshape(-1, 1)))[:, 0]\n",
    "    ground_truths = np.exp(scaler.inverse_transform(\n",
    "        ground_truths.reshape(-1, 1)))[:, 0]\n",
    "\n",
    "    mae = metrics.mean_absolute_error(ground_truths, predictions)\n",
    "    model_metrics['best_eval_loss'] = best_eval_loss\n",
    "\n",
    "    model_metrics['train_loss'] = train_loss\n",
    "    model_metrics['train_price_loss'] = train_price_loss\n",
    "    model_metrics['train_MAE'] = mae\n",
    "\n",
    "    model_metrics[\"epoch\"] = epoch\n",
    "    model_metrics[\"best_epoch\"] = best_checkpoint\n",
    "    metrics_list.append(model_metrics)\n",
    "    # wandb.log(model_metrics)\n",
    "\n",
    "    if improve:\n",
    "        save_dir = os.path.join(\"models\", model_version)\n",
    "        os.makedirs(save_dir, exist_ok=True)\n",
    "        model_path = save_model(model, save_dir, epoch, model_metrics)\n",
    "        best_model_path = model_path\n",
    "\n",
    "    post_fix_message = {k: round(v, 4) for k, v in model_metrics.items()}\n",
    "    total_pbar.set_postfix(post_fix_message)\n",
    "\n",
    "\n",
    "total_pbar.close()\n",
    "# wandb.finish()"
   ]
  },
  {
   "cell_type": "markdown",
   "metadata": {},
   "source": [
    "### (6) Validation Model"
   ]
  },
  {
   "cell_type": "code",
   "execution_count": 42,
   "metadata": {},
   "outputs": [
    {
     "data": {
      "text/html": [
       "<div>\n",
       "<style scoped>\n",
       "    .dataframe tbody tr th:only-of-type {\n",
       "        vertical-align: middle;\n",
       "    }\n",
       "\n",
       "    .dataframe tbody tr th {\n",
       "        vertical-align: top;\n",
       "    }\n",
       "\n",
       "    .dataframe thead th {\n",
       "        text-align: right;\n",
       "    }\n",
       "</style>\n",
       "<table border=\"1\" class=\"dataframe\">\n",
       "  <thead>\n",
       "    <tr style=\"text-align: right;\">\n",
       "      <th></th>\n",
       "      <th>eval_loss</th>\n",
       "      <th>eval_price_loss</th>\n",
       "      <th>eval_MEA</th>\n",
       "      <th>best_eval_loss</th>\n",
       "      <th>train_loss</th>\n",
       "      <th>train_price_loss</th>\n",
       "      <th>train_MAE</th>\n",
       "      <th>best_epoch</th>\n",
       "    </tr>\n",
       "    <tr>\n",
       "      <th>epoch</th>\n",
       "      <th></th>\n",
       "      <th></th>\n",
       "      <th></th>\n",
       "      <th></th>\n",
       "      <th></th>\n",
       "      <th></th>\n",
       "      <th></th>\n",
       "      <th></th>\n",
       "    </tr>\n",
       "  </thead>\n",
       "  <tbody>\n",
       "    <tr>\n",
       "      <th>0</th>\n",
       "      <td>0.054075</td>\n",
       "      <td>0.078903</td>\n",
       "      <td>70.446854</td>\n",
       "      <td>0.054075</td>\n",
       "      <td>0.038484</td>\n",
       "      <td>0.030463</td>\n",
       "      <td>32.347565</td>\n",
       "      <td>0</td>\n",
       "    </tr>\n",
       "    <tr>\n",
       "      <th>1</th>\n",
       "      <td>0.042171</td>\n",
       "      <td>0.042208</td>\n",
       "      <td>58.157761</td>\n",
       "      <td>0.042171</td>\n",
       "      <td>0.011594</td>\n",
       "      <td>0.010501</td>\n",
       "      <td>13.839752</td>\n",
       "      <td>1</td>\n",
       "    </tr>\n",
       "    <tr>\n",
       "      <th>2</th>\n",
       "      <td>0.006121</td>\n",
       "      <td>0.001077</td>\n",
       "      <td>12.946663</td>\n",
       "      <td>0.006121</td>\n",
       "      <td>0.004269</td>\n",
       "      <td>0.002068</td>\n",
       "      <td>6.587241</td>\n",
       "      <td>2</td>\n",
       "    </tr>\n",
       "    <tr>\n",
       "      <th>3</th>\n",
       "      <td>0.003916</td>\n",
       "      <td>0.000690</td>\n",
       "      <td>9.776736</td>\n",
       "      <td>0.003916</td>\n",
       "      <td>0.002293</td>\n",
       "      <td>0.000504</td>\n",
       "      <td>3.649416</td>\n",
       "      <td>3</td>\n",
       "    </tr>\n",
       "    <tr>\n",
       "      <th>4</th>\n",
       "      <td>0.003064</td>\n",
       "      <td>0.000233</td>\n",
       "      <td>5.262848</td>\n",
       "      <td>0.003064</td>\n",
       "      <td>0.001831</td>\n",
       "      <td>0.000398</td>\n",
       "      <td>3.124588</td>\n",
       "      <td>4</td>\n",
       "    </tr>\n",
       "    <tr>\n",
       "      <th>5</th>\n",
       "      <td>0.002303</td>\n",
       "      <td>0.000310</td>\n",
       "      <td>7.271074</td>\n",
       "      <td>0.002303</td>\n",
       "      <td>0.001547</td>\n",
       "      <td>0.000394</td>\n",
       "      <td>3.254964</td>\n",
       "      <td>5</td>\n",
       "    </tr>\n",
       "    <tr>\n",
       "      <th>6</th>\n",
       "      <td>0.001806</td>\n",
       "      <td>0.000274</td>\n",
       "      <td>6.949695</td>\n",
       "      <td>0.001806</td>\n",
       "      <td>0.001368</td>\n",
       "      <td>0.000365</td>\n",
       "      <td>3.175053</td>\n",
       "      <td>6</td>\n",
       "    </tr>\n",
       "    <tr>\n",
       "      <th>7</th>\n",
       "      <td>0.001577</td>\n",
       "      <td>0.000076</td>\n",
       "      <td>3.153318</td>\n",
       "      <td>0.001577</td>\n",
       "      <td>0.001231</td>\n",
       "      <td>0.000317</td>\n",
       "      <td>2.899121</td>\n",
       "      <td>7</td>\n",
       "    </tr>\n",
       "    <tr>\n",
       "      <th>8</th>\n",
       "      <td>0.001810</td>\n",
       "      <td>0.000184</td>\n",
       "      <td>4.673522</td>\n",
       "      <td>0.001577</td>\n",
       "      <td>0.001121</td>\n",
       "      <td>0.000256</td>\n",
       "      <td>2.452800</td>\n",
       "      <td>7</td>\n",
       "    </tr>\n",
       "    <tr>\n",
       "      <th>9</th>\n",
       "      <td>0.001368</td>\n",
       "      <td>0.000118</td>\n",
       "      <td>4.329352</td>\n",
       "      <td>0.001368</td>\n",
       "      <td>0.001055</td>\n",
       "      <td>0.000214</td>\n",
       "      <td>2.114887</td>\n",
       "      <td>9</td>\n",
       "    </tr>\n",
       "    <tr>\n",
       "      <th>10</th>\n",
       "      <td>0.001978</td>\n",
       "      <td>0.000497</td>\n",
       "      <td>8.284191</td>\n",
       "      <td>0.001368</td>\n",
       "      <td>0.001007</td>\n",
       "      <td>0.000186</td>\n",
       "      <td>1.943388</td>\n",
       "      <td>9</td>\n",
       "    </tr>\n",
       "    <tr>\n",
       "      <th>11</th>\n",
       "      <td>0.001651</td>\n",
       "      <td>0.000075</td>\n",
       "      <td>3.150597</td>\n",
       "      <td>0.001368</td>\n",
       "      <td>0.000988</td>\n",
       "      <td>0.000185</td>\n",
       "      <td>1.911088</td>\n",
       "      <td>9</td>\n",
       "    </tr>\n",
       "    <tr>\n",
       "      <th>12</th>\n",
       "      <td>0.001833</td>\n",
       "      <td>0.000233</td>\n",
       "      <td>5.422424</td>\n",
       "      <td>0.001368</td>\n",
       "      <td>0.000966</td>\n",
       "      <td>0.000172</td>\n",
       "      <td>1.884874</td>\n",
       "      <td>9</td>\n",
       "    </tr>\n",
       "    <tr>\n",
       "      <th>13</th>\n",
       "      <td>0.001785</td>\n",
       "      <td>0.000121</td>\n",
       "      <td>3.745043</td>\n",
       "      <td>0.001368</td>\n",
       "      <td>0.000942</td>\n",
       "      <td>0.000157</td>\n",
       "      <td>1.716454</td>\n",
       "      <td>9</td>\n",
       "    </tr>\n",
       "    <tr>\n",
       "      <th>14</th>\n",
       "      <td>0.001940</td>\n",
       "      <td>0.000212</td>\n",
       "      <td>5.334124</td>\n",
       "      <td>0.001368</td>\n",
       "      <td>0.000936</td>\n",
       "      <td>0.000161</td>\n",
       "      <td>1.789595</td>\n",
       "      <td>9</td>\n",
       "    </tr>\n",
       "    <tr>\n",
       "      <th>15</th>\n",
       "      <td>0.001909</td>\n",
       "      <td>0.000134</td>\n",
       "      <td>4.073146</td>\n",
       "      <td>0.001368</td>\n",
       "      <td>0.000929</td>\n",
       "      <td>0.000160</td>\n",
       "      <td>1.789193</td>\n",
       "      <td>9</td>\n",
       "    </tr>\n",
       "    <tr>\n",
       "      <th>16</th>\n",
       "      <td>0.001952</td>\n",
       "      <td>0.000126</td>\n",
       "      <td>3.797014</td>\n",
       "      <td>0.001368</td>\n",
       "      <td>0.000905</td>\n",
       "      <td>0.000145</td>\n",
       "      <td>1.691492</td>\n",
       "      <td>9</td>\n",
       "    </tr>\n",
       "    <tr>\n",
       "      <th>17</th>\n",
       "      <td>0.002035</td>\n",
       "      <td>0.000193</td>\n",
       "      <td>4.816478</td>\n",
       "      <td>0.001368</td>\n",
       "      <td>0.000889</td>\n",
       "      <td>0.000144</td>\n",
       "      <td>1.709527</td>\n",
       "      <td>9</td>\n",
       "    </tr>\n",
       "    <tr>\n",
       "      <th>18</th>\n",
       "      <td>0.002103</td>\n",
       "      <td>0.000148</td>\n",
       "      <td>4.646631</td>\n",
       "      <td>0.001368</td>\n",
       "      <td>0.000855</td>\n",
       "      <td>0.000139</td>\n",
       "      <td>1.653953</td>\n",
       "      <td>9</td>\n",
       "    </tr>\n",
       "    <tr>\n",
       "      <th>19</th>\n",
       "      <td>0.002272</td>\n",
       "      <td>0.000435</td>\n",
       "      <td>8.031580</td>\n",
       "      <td>0.001368</td>\n",
       "      <td>0.000796</td>\n",
       "      <td>0.000142</td>\n",
       "      <td>1.702231</td>\n",
       "      <td>9</td>\n",
       "    </tr>\n",
       "  </tbody>\n",
       "</table>\n",
       "</div>"
      ],
      "text/plain": [
       "       eval_loss  eval_price_loss   eval_MEA  best_eval_loss  train_loss  \\\n",
       "epoch                                                                      \n",
       "0       0.054075         0.078903  70.446854        0.054075    0.038484   \n",
       "1       0.042171         0.042208  58.157761        0.042171    0.011594   \n",
       "2       0.006121         0.001077  12.946663        0.006121    0.004269   \n",
       "3       0.003916         0.000690   9.776736        0.003916    0.002293   \n",
       "4       0.003064         0.000233   5.262848        0.003064    0.001831   \n",
       "5       0.002303         0.000310   7.271074        0.002303    0.001547   \n",
       "6       0.001806         0.000274   6.949695        0.001806    0.001368   \n",
       "7       0.001577         0.000076   3.153318        0.001577    0.001231   \n",
       "8       0.001810         0.000184   4.673522        0.001577    0.001121   \n",
       "9       0.001368         0.000118   4.329352        0.001368    0.001055   \n",
       "10      0.001978         0.000497   8.284191        0.001368    0.001007   \n",
       "11      0.001651         0.000075   3.150597        0.001368    0.000988   \n",
       "12      0.001833         0.000233   5.422424        0.001368    0.000966   \n",
       "13      0.001785         0.000121   3.745043        0.001368    0.000942   \n",
       "14      0.001940         0.000212   5.334124        0.001368    0.000936   \n",
       "15      0.001909         0.000134   4.073146        0.001368    0.000929   \n",
       "16      0.001952         0.000126   3.797014        0.001368    0.000905   \n",
       "17      0.002035         0.000193   4.816478        0.001368    0.000889   \n",
       "18      0.002103         0.000148   4.646631        0.001368    0.000855   \n",
       "19      0.002272         0.000435   8.031580        0.001368    0.000796   \n",
       "\n",
       "       train_price_loss  train_MAE  best_epoch  \n",
       "epoch                                           \n",
       "0              0.030463  32.347565           0  \n",
       "1              0.010501  13.839752           1  \n",
       "2              0.002068   6.587241           2  \n",
       "3              0.000504   3.649416           3  \n",
       "4              0.000398   3.124588           4  \n",
       "5              0.000394   3.254964           5  \n",
       "6              0.000365   3.175053           6  \n",
       "7              0.000317   2.899121           7  \n",
       "8              0.000256   2.452800           7  \n",
       "9              0.000214   2.114887           9  \n",
       "10             0.000186   1.943388           9  \n",
       "11             0.000185   1.911088           9  \n",
       "12             0.000172   1.884874           9  \n",
       "13             0.000157   1.716454           9  \n",
       "14             0.000161   1.789595           9  \n",
       "15             0.000160   1.789193           9  \n",
       "16             0.000145   1.691492           9  \n",
       "17             0.000144   1.709527           9  \n",
       "18             0.000139   1.653953           9  \n",
       "19             0.000142   1.702231           9  "
      ]
     },
     "execution_count": 42,
     "metadata": {},
     "output_type": "execute_result"
    }
   ],
   "source": [
    "df_metrics = pd.DataFrame(metrics_list)\n",
    "df_metrics = df_metrics.set_index(\"epoch\")\n",
    "df_metrics"
   ]
  },
  {
   "cell_type": "code",
   "execution_count": 43,
   "metadata": {},
   "outputs": [
    {
     "data": {
      "text/plain": [
       "<Axes: xlabel='epoch'>"
      ]
     },
     "execution_count": 43,
     "metadata": {},
     "output_type": "execute_result"
    },
    {
     "data": {
      "image/png": "[encoded data removed]",
      "text/plain": [
       "<Figure size 640x480 with 1 Axes>"
      ]
     },
     "metadata": {},
     "output_type": "display_data"
    }
   ],
   "source": [
    "df_metrics[['eval_loss', 'train_loss']].plot()"
   ]
  },
  {
   "cell_type": "code",
   "execution_count": 44,
   "metadata": {},
   "outputs": [
    {
     "data": {
      "text/plain": [
       "<Axes: xlabel='epoch'>"
      ]
     },
     "execution_count": 44,
     "metadata": {},
     "output_type": "execute_result"
    },
    {
     "data": {
      "image/png": "[encoded data removed]",
      "text/plain": [
       "<Figure size 640x480 with 1 Axes>"
      ]
     },
     "metadata": {},
     "output_type": "display_data"
    }
   ],
   "source": [
    "df_metrics[['eval_MEA', 'train_MAE']].plot()"
   ]
  },
  {
   "cell_type": "code",
   "execution_count": 45,
   "metadata": {},
   "outputs": [],
   "source": [
    "best_model = BiLSTMModel(input_size=config.input_size, lstm_num_layers=config.lstm_num_layers,\n",
    "                         hidden_size=config.hidden_size, output_size=config.output_size,\n",
    "                         device=config.device)"
   ]
  },
  {
   "cell_type": "code",
   "execution_count": 46,
   "metadata": {},
   "outputs": [
    {
     "data": {
      "text/plain": [
       "'models/v1/cebaca8f-4815-4678-96b6-98563817b7ab/checkpoint-9/pytorch_model.pt'"
      ]
     },
     "execution_count": 46,
     "metadata": {},
     "output_type": "execute_result"
    }
   ],
   "source": [
    "best_model_path"
   ]
  },
  {
   "cell_type": "code",
   "execution_count": 47,
   "metadata": {},
   "outputs": [
    {
     "data": {
      "text/plain": [
       "BiLSTMModel(\n",
       "  (lstm): LSTM(5, 32, num_layers=3, batch_first=True, bidirectional=True)\n",
       "  (fc1): Linear(in_features=64, out_features=5, bias=True)\n",
       "  (fc2): Linear(in_features=10, out_features=5, bias=True)\n",
       "  (sigmoid): Sigmoid()\n",
       ")"
      ]
     },
     "execution_count": 47,
     "metadata": {},
     "output_type": "execute_result"
    }
   ],
   "source": [
    "best_model.load_state_dict(torch.load(best_model_path))\n",
    "best_model.eval()\n",
    "best_model.to(config.device)"
   ]
  },
  {
   "cell_type": "code",
   "execution_count": 48,
   "metadata": {},
   "outputs": [
    {
     "name": "stderr",
     "output_type": "stream",
     "text": [
      "Evaluating::   0%|          | 0/211 [00:00<?, ?it/s]"
     ]
    },
    {
     "name": "stderr",
     "output_type": "stream",
     "text": [
      "Evaluating:: 100%|██████████| 211/211 [00:00<00:00, 562.71it/s]\n"
     ]
    },
    {
     "data": {
      "text/plain": [
       "{'eval_loss': 0.001368297362670863,\n",
       " 'eval_price_loss': 0.0001183806364493838,\n",
       " 'eval_MEA': 4.329352}"
      ]
     },
     "execution_count": 48,
     "metadata": {},
     "output_type": "execute_result"
    }
   ],
   "source": [
    "evaluate(model=best_model, test_loader=test_loader,\n",
    "         scaler=scaler, criterion=criterion)"
   ]
  },
  {
   "cell_type": "code",
   "execution_count": 49,
   "metadata": {},
   "outputs": [
    {
     "name": "stderr",
     "output_type": "stream",
     "text": [
      "Evaluating:: 100%|██████████| 211/211 [00:00<00:00, 612.46it/s]\n"
     ]
    }
   ],
   "source": [
    "best_model.eval()\n",
    "\n",
    "prediction_list = []\n",
    "ground_truth_list = []\n",
    "eval_loss_list = []\n",
    "price_loss_list = []\n",
    "\n",
    "dataset_loader = DataLoader(test_dataset, config.batch_size,\n",
    "                            shuffle=False, drop_last=False)\n",
    "pbar = tqdm(total=len(dataset_loader),\n",
    "            desc=\"Evaluating:\", position=0, leave=True)\n",
    "\n",
    "with torch.no_grad():\n",
    "    for inputs, targets in dataset_loader:\n",
    "        outputs = best_model(inputs)\n",
    "        loss = criterion(outputs, targets)\n",
    "\n",
    "        price_loss = criterion(outputs[:, -1], targets[:, -1])\n",
    "\n",
    "        yhat = outputs[:, -1].cpu().numpy()\n",
    "        prediction_list.append(yhat)\n",
    "\n",
    "        y = targets[:, -1].cpu().numpy()\n",
    "        ground_truth_list.append(y)\n",
    "\n",
    "        eval_loss_list.append(loss.item())\n",
    "        price_loss_list.append(price_loss.item())\n",
    "\n",
    "        pbar.update(1)\n",
    "    pbar.close()\n",
    "\n",
    "predictions = np.concatenate(prediction_list)\n",
    "ground_truths = np.concatenate(ground_truth_list)\n",
    "\n",
    "predictions = np.exp(scaler.inverse_transform(\n",
    "    predictions.reshape(-1, 1)))[:, 0]\n",
    "ground_truths = np.exp(scaler.inverse_transform(\n",
    "    ground_truths.reshape(-1, 1)))[:, 0]\n",
    "\n",
    "mae = metrics.mean_absolute_error(ground_truths, predictions)\n",
    "\n",
    "eval_metrics = {}\n",
    "eval_metrics['eval_loss'] = sum(eval_loss_list)/len(eval_loss_list)\n",
    "eval_metrics['eval_price_loss'] = sum(price_loss_list)/len(price_loss_list)\n",
    "eval_metrics['eval_MEA'] = mae"
   ]
  },
  {
   "cell_type": "code",
   "execution_count": 50,
   "metadata": {},
   "outputs": [],
   "source": [
    "df_tmp = pd.DataFrame()"
   ]
  },
  {
   "cell_type": "code",
   "execution_count": 51,
   "metadata": {},
   "outputs": [],
   "source": [
    "df_tmp['prediction'] = predictions\n",
    "df_tmp['real'] = ground_truths"
   ]
  },
  {
   "cell_type": "code",
   "execution_count": 52,
   "metadata": {},
   "outputs": [
    {
     "data": {
      "text/plain": [
       "<Axes: >"
      ]
     },
     "execution_count": 52,
     "metadata": {},
     "output_type": "execute_result"
    },
    {
     "data": {
      "image/png": "[encoded data removed]",
      "text/plain": [
       "<Figure size 640x480 with 1 Axes>"
      ]
     },
     "metadata": {},
     "output_type": "display_data"
    }
   ],
   "source": [
    "df_tmp.plot()"
   ]
  },
  {
   "cell_type": "code",
   "execution_count": null,
   "metadata": {},
   "outputs": [],
   "source": []
  },
  {
   "cell_type": "markdown",
   "metadata": {},
   "source": []
  }
 ],
 "metadata": {
  "kernelspec": {
   "display_name": "torch",
   "language": "python",
   "name": "python3"
  },
  "language_info": {
   "codemirror_mode": {
    "name": "ipython",
    "version": 3
   },
   "file_extension": ".py",
   "mimetype": "text/x-python",
   "name": "python",
   "nbconvert_exporter": "python",
   "pygments_lexer": "ipython3",
   "version": "3.11.3"
  }
 },
 "nbformat": 4,
 "nbformat_minor": 2
}
