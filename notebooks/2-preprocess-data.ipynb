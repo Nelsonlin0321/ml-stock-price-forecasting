{
 "cells": [
  {
   "cell_type": "code",
   "execution_count": 1,
   "metadata": {},
   "outputs": [],
   "source": [
    "import sys\n",
    "sys.path.insert(0, \"./../\")"
   ]
  },
  {
   "cell_type": "code",
   "execution_count": 2,
   "metadata": {},
   "outputs": [],
   "source": [
    "from src import utils"
   ]
  },
  {
   "cell_type": "code",
   "execution_count": 3,
   "metadata": {},
   "outputs": [],
   "source": [
    "import pandas as pd"
   ]
  },
  {
   "cell_type": "code",
   "execution_count": 4,
   "metadata": {},
   "outputs": [],
   "source": [
    "raw_data = utils.open_json(\"./../data/qqq.json\")"
   ]
  },
  {
   "cell_type": "code",
   "execution_count": 5,
   "metadata": {},
   "outputs": [],
   "source": [
    "df = pd.DataFrame(raw_data['Time Series (Daily)']).T"
   ]
  },
  {
   "cell_type": "code",
   "execution_count": 6,
   "metadata": {},
   "outputs": [
    {
     "data": {
      "text/html": [
       "<div>\n",
       "<style scoped>\n",
       "    .dataframe tbody tr th:only-of-type {\n",
       "        vertical-align: middle;\n",
       "    }\n",
       "\n",
       "    .dataframe tbody tr th {\n",
       "        vertical-align: top;\n",
       "    }\n",
       "\n",
       "    .dataframe thead th {\n",
       "        text-align: right;\n",
       "    }\n",
       "</style>\n",
       "<table border=\"1\" class=\"dataframe\">\n",
       "  <thead>\n",
       "    <tr style=\"text-align: right;\">\n",
       "      <th></th>\n",
       "      <th>1. open</th>\n",
       "      <th>2. high</th>\n",
       "      <th>3. low</th>\n",
       "      <th>4. close</th>\n",
       "      <th>5. volume</th>\n",
       "    </tr>\n",
       "  </thead>\n",
       "  <tbody>\n",
       "    <tr>\n",
       "      <th>2023-12-15</th>\n",
       "      <td>404.1800</td>\n",
       "      <td>406.5399</td>\n",
       "      <td>403.5700</td>\n",
       "      <td>405.3400</td>\n",
       "      <td>62896645</td>\n",
       "    </tr>\n",
       "    <tr>\n",
       "      <th>2023-12-14</th>\n",
       "      <td>404.9800</td>\n",
       "      <td>406.3000</td>\n",
       "      <td>400.3400</td>\n",
       "      <td>403.3900</td>\n",
       "      <td>55447808</td>\n",
       "    </tr>\n",
       "    <tr>\n",
       "      <th>2023-12-13</th>\n",
       "      <td>399.6200</td>\n",
       "      <td>404.3600</td>\n",
       "      <td>398.8399</td>\n",
       "      <td>403.7400</td>\n",
       "      <td>55408129</td>\n",
       "    </tr>\n",
       "    <tr>\n",
       "      <th>2023-12-12</th>\n",
       "      <td>395.5600</td>\n",
       "      <td>398.7900</td>\n",
       "      <td>394.4100</td>\n",
       "      <td>398.6700</td>\n",
       "      <td>39221152</td>\n",
       "    </tr>\n",
       "    <tr>\n",
       "      <th>2023-12-11</th>\n",
       "      <td>391.7400</td>\n",
       "      <td>395.7900</td>\n",
       "      <td>391.5300</td>\n",
       "      <td>395.5200</td>\n",
       "      <td>41198021</td>\n",
       "    </tr>\n",
       "  </tbody>\n",
       "</table>\n",
       "</div>"
      ],
      "text/plain": [
       "             1. open   2. high    3. low  4. close 5. volume\n",
       "2023-12-15  404.1800  406.5399  403.5700  405.3400  62896645\n",
       "2023-12-14  404.9800  406.3000  400.3400  403.3900  55447808\n",
       "2023-12-13  399.6200  404.3600  398.8399  403.7400  55408129\n",
       "2023-12-12  395.5600  398.7900  394.4100  398.6700  39221152\n",
       "2023-12-11  391.7400  395.7900  391.5300  395.5200  41198021"
      ]
     },
     "execution_count": 6,
     "metadata": {},
     "output_type": "execute_result"
    }
   ],
   "source": [
    "df.head()"
   ]
  },
  {
   "cell_type": "code",
   "execution_count": 7,
   "metadata": {},
   "outputs": [],
   "source": [
    "numeric_cols = [\"open\", \"high\", \"low\", \"close\", \"volume\"]\n",
    "df.columns = numeric_cols"
   ]
  },
  {
   "cell_type": "code",
   "execution_count": 8,
   "metadata": {},
   "outputs": [],
   "source": [
    "for col in numeric_cols:\n",
    "    df[col] = df[col].astype(\"float\")"
   ]
  },
  {
   "cell_type": "code",
   "execution_count": 9,
   "metadata": {},
   "outputs": [
    {
     "data": {
      "text/html": [
       "<div>\n",
       "<style scoped>\n",
       "    .dataframe tbody tr th:only-of-type {\n",
       "        vertical-align: middle;\n",
       "    }\n",
       "\n",
       "    .dataframe tbody tr th {\n",
       "        vertical-align: top;\n",
       "    }\n",
       "\n",
       "    .dataframe thead th {\n",
       "        text-align: right;\n",
       "    }\n",
       "</style>\n",
       "<table border=\"1\" class=\"dataframe\">\n",
       "  <thead>\n",
       "    <tr style=\"text-align: right;\">\n",
       "      <th></th>\n",
       "      <th>open</th>\n",
       "      <th>high</th>\n",
       "      <th>low</th>\n",
       "      <th>close</th>\n",
       "      <th>volume</th>\n",
       "    </tr>\n",
       "  </thead>\n",
       "  <tbody>\n",
       "    <tr>\n",
       "      <th>2023-12-15</th>\n",
       "      <td>404.18</td>\n",
       "      <td>406.5399</td>\n",
       "      <td>403.5700</td>\n",
       "      <td>405.34</td>\n",
       "      <td>62896645.0</td>\n",
       "    </tr>\n",
       "    <tr>\n",
       "      <th>2023-12-14</th>\n",
       "      <td>404.98</td>\n",
       "      <td>406.3000</td>\n",
       "      <td>400.3400</td>\n",
       "      <td>403.39</td>\n",
       "      <td>55447808.0</td>\n",
       "    </tr>\n",
       "    <tr>\n",
       "      <th>2023-12-13</th>\n",
       "      <td>399.62</td>\n",
       "      <td>404.3600</td>\n",
       "      <td>398.8399</td>\n",
       "      <td>403.74</td>\n",
       "      <td>55408129.0</td>\n",
       "    </tr>\n",
       "    <tr>\n",
       "      <th>2023-12-12</th>\n",
       "      <td>395.56</td>\n",
       "      <td>398.7900</td>\n",
       "      <td>394.4100</td>\n",
       "      <td>398.67</td>\n",
       "      <td>39221152.0</td>\n",
       "    </tr>\n",
       "    <tr>\n",
       "      <th>2023-12-11</th>\n",
       "      <td>391.74</td>\n",
       "      <td>395.7900</td>\n",
       "      <td>391.5300</td>\n",
       "      <td>395.52</td>\n",
       "      <td>41198021.0</td>\n",
       "    </tr>\n",
       "  </tbody>\n",
       "</table>\n",
       "</div>"
      ],
      "text/plain": [
       "              open      high       low   close      volume\n",
       "2023-12-15  404.18  406.5399  403.5700  405.34  62896645.0\n",
       "2023-12-14  404.98  406.3000  400.3400  403.39  55447808.0\n",
       "2023-12-13  399.62  404.3600  398.8399  403.74  55408129.0\n",
       "2023-12-12  395.56  398.7900  394.4100  398.67  39221152.0\n",
       "2023-12-11  391.74  395.7900  391.5300  395.52  41198021.0"
      ]
     },
     "execution_count": 9,
     "metadata": {},
     "output_type": "execute_result"
    }
   ],
   "source": [
    "df.head()"
   ]
  },
  {
   "cell_type": "code",
   "execution_count": 10,
   "metadata": {},
   "outputs": [],
   "source": [
    "df = df.reset_index(names='date')"
   ]
  },
  {
   "cell_type": "code",
   "execution_count": 11,
   "metadata": {},
   "outputs": [
    {
     "data": {
      "text/html": [
       "<div>\n",
       "<style scoped>\n",
       "    .dataframe tbody tr th:only-of-type {\n",
       "        vertical-align: middle;\n",
       "    }\n",
       "\n",
       "    .dataframe tbody tr th {\n",
       "        vertical-align: top;\n",
       "    }\n",
       "\n",
       "    .dataframe thead th {\n",
       "        text-align: right;\n",
       "    }\n",
       "</style>\n",
       "<table border=\"1\" class=\"dataframe\">\n",
       "  <thead>\n",
       "    <tr style=\"text-align: right;\">\n",
       "      <th></th>\n",
       "      <th>date</th>\n",
       "      <th>open</th>\n",
       "      <th>high</th>\n",
       "      <th>low</th>\n",
       "      <th>close</th>\n",
       "      <th>volume</th>\n",
       "    </tr>\n",
       "  </thead>\n",
       "  <tbody>\n",
       "    <tr>\n",
       "      <th>0</th>\n",
       "      <td>2023-12-15</td>\n",
       "      <td>404.18</td>\n",
       "      <td>406.5399</td>\n",
       "      <td>403.5700</td>\n",
       "      <td>405.34</td>\n",
       "      <td>62896645.0</td>\n",
       "    </tr>\n",
       "    <tr>\n",
       "      <th>1</th>\n",
       "      <td>2023-12-14</td>\n",
       "      <td>404.98</td>\n",
       "      <td>406.3000</td>\n",
       "      <td>400.3400</td>\n",
       "      <td>403.39</td>\n",
       "      <td>55447808.0</td>\n",
       "    </tr>\n",
       "    <tr>\n",
       "      <th>2</th>\n",
       "      <td>2023-12-13</td>\n",
       "      <td>399.62</td>\n",
       "      <td>404.3600</td>\n",
       "      <td>398.8399</td>\n",
       "      <td>403.74</td>\n",
       "      <td>55408129.0</td>\n",
       "    </tr>\n",
       "    <tr>\n",
       "      <th>3</th>\n",
       "      <td>2023-12-12</td>\n",
       "      <td>395.56</td>\n",
       "      <td>398.7900</td>\n",
       "      <td>394.4100</td>\n",
       "      <td>398.67</td>\n",
       "      <td>39221152.0</td>\n",
       "    </tr>\n",
       "    <tr>\n",
       "      <th>4</th>\n",
       "      <td>2023-12-11</td>\n",
       "      <td>391.74</td>\n",
       "      <td>395.7900</td>\n",
       "      <td>391.5300</td>\n",
       "      <td>395.52</td>\n",
       "      <td>41198021.0</td>\n",
       "    </tr>\n",
       "  </tbody>\n",
       "</table>\n",
       "</div>"
      ],
      "text/plain": [
       "         date    open      high       low   close      volume\n",
       "0  2023-12-15  404.18  406.5399  403.5700  405.34  62896645.0\n",
       "1  2023-12-14  404.98  406.3000  400.3400  403.39  55447808.0\n",
       "2  2023-12-13  399.62  404.3600  398.8399  403.74  55408129.0\n",
       "3  2023-12-12  395.56  398.7900  394.4100  398.67  39221152.0\n",
       "4  2023-12-11  391.74  395.7900  391.5300  395.52  41198021.0"
      ]
     },
     "execution_count": 11,
     "metadata": {},
     "output_type": "execute_result"
    }
   ],
   "source": [
    "df.head()"
   ]
  },
  {
   "cell_type": "code",
   "execution_count": 12,
   "metadata": {},
   "outputs": [],
   "source": [
    "df.to_parquet(\"./../data/qqq.parquet\")"
   ]
  }
 ],
 "metadata": {
  "kernelspec": {
   "display_name": "torch",
   "language": "python",
   "name": "python3"
  },
  "language_info": {
   "codemirror_mode": {
    "name": "ipython",
    "version": 3
   },
   "file_extension": ".py",
   "mimetype": "text/x-python",
   "name": "python",
   "nbconvert_exporter": "python",
   "pygments_lexer": "ipython3",
   "version": "3.11.3"
  }
 },
 "nbformat": 4,
 "nbformat_minor": 2
}
